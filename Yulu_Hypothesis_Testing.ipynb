{
  "nbformat": 4,
  "nbformat_minor": 0,
  "metadata": {
    "colab": {
      "provenance": []
    },
    "kernelspec": {
      "name": "python3",
      "display_name": "Python 3"
    },
    "language_info": {
      "name": "python"
    }
  },
  "cells": [
    {
      "cell_type": "code",
      "execution_count": null,
      "metadata": {
        "id": "0T2OZTkqXEEF"
      },
      "outputs": [],
      "source": [
        "from google.colab import files\n",
        "files.upload()"
      ]
    },
    {
      "cell_type": "code",
      "source": [
        "import numpy as np\n",
        "import pandas as pd\n",
        "import seaborn as sns\n",
        "import matplotlib.pyplot as plt\n",
        "from scipy.stats import norm\n",
        "from scipy.stats import poisson\n",
        "#from scipy.stats import expon\n",
        "#from scipy.stats import geom\n",
        "#from scipy.stats import binom\n",
        "import math as m\n",
        "from statsmodels.stats import weightstats as stests\n",
        "from scipy import stats\n",
        "import statsmodels.api as sm\n",
        "from scipy.stats import ttest_1samp\n",
        "from scipy.stats import chisquare # Statistical test (chistat, pvalue)\n",
        "from scipy.stats import chi2\n",
        "from scipy.stats import chi2_contingency\n",
        "from scipy.stats import f_oneway # Numeric Vs categorical for many categories\n",
        "from scipy.stats import ttest_ind\n",
        "from scipy.stats import levene\n",
        "from scipy.stats import shapiro\n",
        "from statsmodels.formula.api import ols\n",
        "from scipy.stats import pearsonr, spearmanr\n",
        "from scipy.stats import kruskal\n",
        "from statsmodels.graphics.gofplots import qqplot"
      ],
      "metadata": {
        "id": "YxdoVfigZTet"
      },
      "execution_count": null,
      "outputs": []
    },
    {
      "cell_type": "code",
      "source": [
        "#import the dataset\n",
        "df=pd.read_csv('Yulubike_sharing.csv')\n",
        "df.head()"
      ],
      "metadata": {
        "id": "1_jgCeHyYdXI",
        "colab": {
          "base_uri": "https://localhost:8080/",
          "height": 206
        },
        "outputId": "20f5378a-cde1-492f-992e-7a808181225a"
      },
      "execution_count": null,
      "outputs": [
        {
          "output_type": "execute_result",
          "data": {
            "text/plain": [
              "              datetime  season  holiday  workingday  weather  temp   atemp  \\\n",
              "0  2011-01-01 00:00:00       1        0           0        1  9.84  14.395   \n",
              "1  2011-01-01 01:00:00       1        0           0        1  9.02  13.635   \n",
              "2  2011-01-01 02:00:00       1        0           0        1  9.02  13.635   \n",
              "3  2011-01-01 03:00:00       1        0           0        1  9.84  14.395   \n",
              "4  2011-01-01 04:00:00       1        0           0        1  9.84  14.395   \n",
              "\n",
              "   humidity  windspeed  casual  registered  count  \n",
              "0        81        0.0       3          13     16  \n",
              "1        80        0.0       8          32     40  \n",
              "2        80        0.0       5          27     32  \n",
              "3        75        0.0       3          10     13  \n",
              "4        75        0.0       0           1      1  "
            ],
            "text/html": [
              "\n",
              "  <div id=\"df-85ccd82c-4633-483f-8993-a97def33da13\" class=\"colab-df-container\">\n",
              "    <div>\n",
              "<style scoped>\n",
              "    .dataframe tbody tr th:only-of-type {\n",
              "        vertical-align: middle;\n",
              "    }\n",
              "\n",
              "    .dataframe tbody tr th {\n",
              "        vertical-align: top;\n",
              "    }\n",
              "\n",
              "    .dataframe thead th {\n",
              "        text-align: right;\n",
              "    }\n",
              "</style>\n",
              "<table border=\"1\" class=\"dataframe\">\n",
              "  <thead>\n",
              "    <tr style=\"text-align: right;\">\n",
              "      <th></th>\n",
              "      <th>datetime</th>\n",
              "      <th>season</th>\n",
              "      <th>holiday</th>\n",
              "      <th>workingday</th>\n",
              "      <th>weather</th>\n",
              "      <th>temp</th>\n",
              "      <th>atemp</th>\n",
              "      <th>humidity</th>\n",
              "      <th>windspeed</th>\n",
              "      <th>casual</th>\n",
              "      <th>registered</th>\n",
              "      <th>count</th>\n",
              "    </tr>\n",
              "  </thead>\n",
              "  <tbody>\n",
              "    <tr>\n",
              "      <th>0</th>\n",
              "      <td>2011-01-01 00:00:00</td>\n",
              "      <td>1</td>\n",
              "      <td>0</td>\n",
              "      <td>0</td>\n",
              "      <td>1</td>\n",
              "      <td>9.84</td>\n",
              "      <td>14.395</td>\n",
              "      <td>81</td>\n",
              "      <td>0.0</td>\n",
              "      <td>3</td>\n",
              "      <td>13</td>\n",
              "      <td>16</td>\n",
              "    </tr>\n",
              "    <tr>\n",
              "      <th>1</th>\n",
              "      <td>2011-01-01 01:00:00</td>\n",
              "      <td>1</td>\n",
              "      <td>0</td>\n",
              "      <td>0</td>\n",
              "      <td>1</td>\n",
              "      <td>9.02</td>\n",
              "      <td>13.635</td>\n",
              "      <td>80</td>\n",
              "      <td>0.0</td>\n",
              "      <td>8</td>\n",
              "      <td>32</td>\n",
              "      <td>40</td>\n",
              "    </tr>\n",
              "    <tr>\n",
              "      <th>2</th>\n",
              "      <td>2011-01-01 02:00:00</td>\n",
              "      <td>1</td>\n",
              "      <td>0</td>\n",
              "      <td>0</td>\n",
              "      <td>1</td>\n",
              "      <td>9.02</td>\n",
              "      <td>13.635</td>\n",
              "      <td>80</td>\n",
              "      <td>0.0</td>\n",
              "      <td>5</td>\n",
              "      <td>27</td>\n",
              "      <td>32</td>\n",
              "    </tr>\n",
              "    <tr>\n",
              "      <th>3</th>\n",
              "      <td>2011-01-01 03:00:00</td>\n",
              "      <td>1</td>\n",
              "      <td>0</td>\n",
              "      <td>0</td>\n",
              "      <td>1</td>\n",
              "      <td>9.84</td>\n",
              "      <td>14.395</td>\n",
              "      <td>75</td>\n",
              "      <td>0.0</td>\n",
              "      <td>3</td>\n",
              "      <td>10</td>\n",
              "      <td>13</td>\n",
              "    </tr>\n",
              "    <tr>\n",
              "      <th>4</th>\n",
              "      <td>2011-01-01 04:00:00</td>\n",
              "      <td>1</td>\n",
              "      <td>0</td>\n",
              "      <td>0</td>\n",
              "      <td>1</td>\n",
              "      <td>9.84</td>\n",
              "      <td>14.395</td>\n",
              "      <td>75</td>\n",
              "      <td>0.0</td>\n",
              "      <td>0</td>\n",
              "      <td>1</td>\n",
              "      <td>1</td>\n",
              "    </tr>\n",
              "  </tbody>\n",
              "</table>\n",
              "</div>\n",
              "    <div class=\"colab-df-buttons\">\n",
              "\n",
              "  <div class=\"colab-df-container\">\n",
              "    <button class=\"colab-df-convert\" onclick=\"convertToInteractive('df-85ccd82c-4633-483f-8993-a97def33da13')\"\n",
              "            title=\"Convert this dataframe to an interactive table.\"\n",
              "            style=\"display:none;\">\n",
              "\n",
              "  <svg xmlns=\"http://www.w3.org/2000/svg\" height=\"24px\" viewBox=\"0 -960 960 960\">\n",
              "    <path d=\"M120-120v-720h720v720H120Zm60-500h600v-160H180v160Zm220 220h160v-160H400v160Zm0 220h160v-160H400v160ZM180-400h160v-160H180v160Zm440 0h160v-160H620v160ZM180-180h160v-160H180v160Zm440 0h160v-160H620v160Z\"/>\n",
              "  </svg>\n",
              "    </button>\n",
              "\n",
              "  <style>\n",
              "    .colab-df-container {\n",
              "      display:flex;\n",
              "      gap: 12px;\n",
              "    }\n",
              "\n",
              "    .colab-df-convert {\n",
              "      background-color: #E8F0FE;\n",
              "      border: none;\n",
              "      border-radius: 50%;\n",
              "      cursor: pointer;\n",
              "      display: none;\n",
              "      fill: #1967D2;\n",
              "      height: 32px;\n",
              "      padding: 0 0 0 0;\n",
              "      width: 32px;\n",
              "    }\n",
              "\n",
              "    .colab-df-convert:hover {\n",
              "      background-color: #E2EBFA;\n",
              "      box-shadow: 0px 1px 2px rgba(60, 64, 67, 0.3), 0px 1px 3px 1px rgba(60, 64, 67, 0.15);\n",
              "      fill: #174EA6;\n",
              "    }\n",
              "\n",
              "    .colab-df-buttons div {\n",
              "      margin-bottom: 4px;\n",
              "    }\n",
              "\n",
              "    [theme=dark] .colab-df-convert {\n",
              "      background-color: #3B4455;\n",
              "      fill: #D2E3FC;\n",
              "    }\n",
              "\n",
              "    [theme=dark] .colab-df-convert:hover {\n",
              "      background-color: #434B5C;\n",
              "      box-shadow: 0px 1px 3px 1px rgba(0, 0, 0, 0.15);\n",
              "      filter: drop-shadow(0px 1px 2px rgba(0, 0, 0, 0.3));\n",
              "      fill: #FFFFFF;\n",
              "    }\n",
              "  </style>\n",
              "\n",
              "    <script>\n",
              "      const buttonEl =\n",
              "        document.querySelector('#df-85ccd82c-4633-483f-8993-a97def33da13 button.colab-df-convert');\n",
              "      buttonEl.style.display =\n",
              "        google.colab.kernel.accessAllowed ? 'block' : 'none';\n",
              "\n",
              "      async function convertToInteractive(key) {\n",
              "        const element = document.querySelector('#df-85ccd82c-4633-483f-8993-a97def33da13');\n",
              "        const dataTable =\n",
              "          await google.colab.kernel.invokeFunction('convertToInteractive',\n",
              "                                                    [key], {});\n",
              "        if (!dataTable) return;\n",
              "\n",
              "        const docLinkHtml = 'Like what you see? Visit the ' +\n",
              "          '<a target=\"_blank\" href=https://colab.research.google.com/notebooks/data_table.ipynb>data table notebook</a>'\n",
              "          + ' to learn more about interactive tables.';\n",
              "        element.innerHTML = '';\n",
              "        dataTable['output_type'] = 'display_data';\n",
              "        await google.colab.output.renderOutput(dataTable, element);\n",
              "        const docLink = document.createElement('div');\n",
              "        docLink.innerHTML = docLinkHtml;\n",
              "        element.appendChild(docLink);\n",
              "      }\n",
              "    </script>\n",
              "  </div>\n",
              "\n",
              "\n",
              "<div id=\"df-12bacb82-5c87-42d2-aadb-a05143752f2d\">\n",
              "  <button class=\"colab-df-quickchart\" onclick=\"quickchart('df-12bacb82-5c87-42d2-aadb-a05143752f2d')\"\n",
              "            title=\"Suggest charts\"\n",
              "            style=\"display:none;\">\n",
              "\n",
              "<svg xmlns=\"http://www.w3.org/2000/svg\" height=\"24px\"viewBox=\"0 0 24 24\"\n",
              "     width=\"24px\">\n",
              "    <g>\n",
              "        <path d=\"M19 3H5c-1.1 0-2 .9-2 2v14c0 1.1.9 2 2 2h14c1.1 0 2-.9 2-2V5c0-1.1-.9-2-2-2zM9 17H7v-7h2v7zm4 0h-2V7h2v10zm4 0h-2v-4h2v4z\"/>\n",
              "    </g>\n",
              "</svg>\n",
              "  </button>\n",
              "\n",
              "<style>\n",
              "  .colab-df-quickchart {\n",
              "      --bg-color: #E8F0FE;\n",
              "      --fill-color: #1967D2;\n",
              "      --hover-bg-color: #E2EBFA;\n",
              "      --hover-fill-color: #174EA6;\n",
              "      --disabled-fill-color: #AAA;\n",
              "      --disabled-bg-color: #DDD;\n",
              "  }\n",
              "\n",
              "  [theme=dark] .colab-df-quickchart {\n",
              "      --bg-color: #3B4455;\n",
              "      --fill-color: #D2E3FC;\n",
              "      --hover-bg-color: #434B5C;\n",
              "      --hover-fill-color: #FFFFFF;\n",
              "      --disabled-bg-color: #3B4455;\n",
              "      --disabled-fill-color: #666;\n",
              "  }\n",
              "\n",
              "  .colab-df-quickchart {\n",
              "    background-color: var(--bg-color);\n",
              "    border: none;\n",
              "    border-radius: 50%;\n",
              "    cursor: pointer;\n",
              "    display: none;\n",
              "    fill: var(--fill-color);\n",
              "    height: 32px;\n",
              "    padding: 0;\n",
              "    width: 32px;\n",
              "  }\n",
              "\n",
              "  .colab-df-quickchart:hover {\n",
              "    background-color: var(--hover-bg-color);\n",
              "    box-shadow: 0 1px 2px rgba(60, 64, 67, 0.3), 0 1px 3px 1px rgba(60, 64, 67, 0.15);\n",
              "    fill: var(--button-hover-fill-color);\n",
              "  }\n",
              "\n",
              "  .colab-df-quickchart-complete:disabled,\n",
              "  .colab-df-quickchart-complete:disabled:hover {\n",
              "    background-color: var(--disabled-bg-color);\n",
              "    fill: var(--disabled-fill-color);\n",
              "    box-shadow: none;\n",
              "  }\n",
              "\n",
              "  .colab-df-spinner {\n",
              "    border: 2px solid var(--fill-color);\n",
              "    border-color: transparent;\n",
              "    border-bottom-color: var(--fill-color);\n",
              "    animation:\n",
              "      spin 1s steps(1) infinite;\n",
              "  }\n",
              "\n",
              "  @keyframes spin {\n",
              "    0% {\n",
              "      border-color: transparent;\n",
              "      border-bottom-color: var(--fill-color);\n",
              "      border-left-color: var(--fill-color);\n",
              "    }\n",
              "    20% {\n",
              "      border-color: transparent;\n",
              "      border-left-color: var(--fill-color);\n",
              "      border-top-color: var(--fill-color);\n",
              "    }\n",
              "    30% {\n",
              "      border-color: transparent;\n",
              "      border-left-color: var(--fill-color);\n",
              "      border-top-color: var(--fill-color);\n",
              "      border-right-color: var(--fill-color);\n",
              "    }\n",
              "    40% {\n",
              "      border-color: transparent;\n",
              "      border-right-color: var(--fill-color);\n",
              "      border-top-color: var(--fill-color);\n",
              "    }\n",
              "    60% {\n",
              "      border-color: transparent;\n",
              "      border-right-color: var(--fill-color);\n",
              "    }\n",
              "    80% {\n",
              "      border-color: transparent;\n",
              "      border-right-color: var(--fill-color);\n",
              "      border-bottom-color: var(--fill-color);\n",
              "    }\n",
              "    90% {\n",
              "      border-color: transparent;\n",
              "      border-bottom-color: var(--fill-color);\n",
              "    }\n",
              "  }\n",
              "</style>\n",
              "\n",
              "  <script>\n",
              "    async function quickchart(key) {\n",
              "      const quickchartButtonEl =\n",
              "        document.querySelector('#' + key + ' button');\n",
              "      quickchartButtonEl.disabled = true;  // To prevent multiple clicks.\n",
              "      quickchartButtonEl.classList.add('colab-df-spinner');\n",
              "      try {\n",
              "        const charts = await google.colab.kernel.invokeFunction(\n",
              "            'suggestCharts', [key], {});\n",
              "      } catch (error) {\n",
              "        console.error('Error during call to suggestCharts:', error);\n",
              "      }\n",
              "      quickchartButtonEl.classList.remove('colab-df-spinner');\n",
              "      quickchartButtonEl.classList.add('colab-df-quickchart-complete');\n",
              "    }\n",
              "    (() => {\n",
              "      let quickchartButtonEl =\n",
              "        document.querySelector('#df-12bacb82-5c87-42d2-aadb-a05143752f2d button');\n",
              "      quickchartButtonEl.style.display =\n",
              "        google.colab.kernel.accessAllowed ? 'block' : 'none';\n",
              "    })();\n",
              "  </script>\n",
              "</div>\n",
              "\n",
              "    </div>\n",
              "  </div>\n"
            ],
            "application/vnd.google.colaboratory.intrinsic+json": {
              "type": "dataframe",
              "variable_name": "df",
              "summary": "{\n  \"name\": \"df\",\n  \"rows\": 10886,\n  \"fields\": [\n    {\n      \"column\": \"datetime\",\n      \"properties\": {\n        \"dtype\": \"object\",\n        \"num_unique_values\": 10886,\n        \"samples\": [\n          \"2011-07-19 11:00:00\",\n          \"2012-01-16 06:00:00\",\n          \"2011-12-11 18:00:00\"\n        ],\n        \"semantic_type\": \"\",\n        \"description\": \"\"\n      }\n    },\n    {\n      \"column\": \"season\",\n      \"properties\": {\n        \"dtype\": \"number\",\n        \"std\": 1,\n        \"min\": 1,\n        \"max\": 4,\n        \"num_unique_values\": 4,\n        \"samples\": [\n          2,\n          4,\n          1\n        ],\n        \"semantic_type\": \"\",\n        \"description\": \"\"\n      }\n    },\n    {\n      \"column\": \"holiday\",\n      \"properties\": {\n        \"dtype\": \"number\",\n        \"std\": 0,\n        \"min\": 0,\n        \"max\": 1,\n        \"num_unique_values\": 2,\n        \"samples\": [\n          1,\n          0\n        ],\n        \"semantic_type\": \"\",\n        \"description\": \"\"\n      }\n    },\n    {\n      \"column\": \"workingday\",\n      \"properties\": {\n        \"dtype\": \"number\",\n        \"std\": 0,\n        \"min\": 0,\n        \"max\": 1,\n        \"num_unique_values\": 2,\n        \"samples\": [\n          1,\n          0\n        ],\n        \"semantic_type\": \"\",\n        \"description\": \"\"\n      }\n    },\n    {\n      \"column\": \"weather\",\n      \"properties\": {\n        \"dtype\": \"number\",\n        \"std\": 0,\n        \"min\": 1,\n        \"max\": 4,\n        \"num_unique_values\": 4,\n        \"samples\": [\n          2,\n          4\n        ],\n        \"semantic_type\": \"\",\n        \"description\": \"\"\n      }\n    },\n    {\n      \"column\": \"temp\",\n      \"properties\": {\n        \"dtype\": \"number\",\n        \"std\": 7.791589843987567,\n        \"min\": 0.82,\n        \"max\": 41.0,\n        \"num_unique_values\": 49,\n        \"samples\": [\n          6.56,\n          1.64\n        ],\n        \"semantic_type\": \"\",\n        \"description\": \"\"\n      }\n    },\n    {\n      \"column\": \"atemp\",\n      \"properties\": {\n        \"dtype\": \"number\",\n        \"std\": 8.474600626484948,\n        \"min\": 0.76,\n        \"max\": 45.455,\n        \"num_unique_values\": 60,\n        \"samples\": [\n          14.395,\n          16.665\n        ],\n        \"semantic_type\": \"\",\n        \"description\": \"\"\n      }\n    },\n    {\n      \"column\": \"humidity\",\n      \"properties\": {\n        \"dtype\": \"number\",\n        \"std\": 19,\n        \"min\": 0,\n        \"max\": 100,\n        \"num_unique_values\": 89,\n        \"samples\": [\n          29,\n          61\n        ],\n        \"semantic_type\": \"\",\n        \"description\": \"\"\n      }\n    },\n    {\n      \"column\": \"windspeed\",\n      \"properties\": {\n        \"dtype\": \"number\",\n        \"std\": 8.164537326838689,\n        \"min\": 0.0,\n        \"max\": 56.9969,\n        \"num_unique_values\": 28,\n        \"samples\": [\n          22.0028,\n          43.0006\n        ],\n        \"semantic_type\": \"\",\n        \"description\": \"\"\n      }\n    },\n    {\n      \"column\": \"casual\",\n      \"properties\": {\n        \"dtype\": \"number\",\n        \"std\": 49,\n        \"min\": 0,\n        \"max\": 367,\n        \"num_unique_values\": 309,\n        \"samples\": [\n          287,\n          47\n        ],\n        \"semantic_type\": \"\",\n        \"description\": \"\"\n      }\n    },\n    {\n      \"column\": \"registered\",\n      \"properties\": {\n        \"dtype\": \"number\",\n        \"std\": 151,\n        \"min\": 0,\n        \"max\": 886,\n        \"num_unique_values\": 731,\n        \"samples\": [\n          566,\n          9\n        ],\n        \"semantic_type\": \"\",\n        \"description\": \"\"\n      }\n    },\n    {\n      \"column\": \"count\",\n      \"properties\": {\n        \"dtype\": \"number\",\n        \"std\": 181,\n        \"min\": 1,\n        \"max\": 977,\n        \"num_unique_values\": 822,\n        \"samples\": [\n          626,\n          256\n        ],\n        \"semantic_type\": \"\",\n        \"description\": \"\"\n      }\n    }\n  ]\n}"
            }
          },
          "metadata": {},
          "execution_count": 3
        }
      ]
    },
    {
      "cell_type": "markdown",
      "source": [
        "**About Yulu**\n",
        "Yulu is India’s leading micro-mobility service provider, which offers unique vehicles for the daily commute. Starting off as a mission to eliminate traffic congestion in India, Yulu provides the safest commute solution through a user-friendly mobile app to enable shared, solo and sustainable commuting.\n",
        "Yulu zones are located at all the appropriate locations (including metro stations, bus stands, office spaces, residential areas, corporate offices, etc) to make those first and last miles smooth, affordable, and convenient!\n",
        "Yulu has recently suffered considerable dips in its revenues. They have contracted a consulting company to understand the factors on which the demand for these shared electric cycles depends. Specifically, they want to understand the factors affecting the demand for these shared electric cycles in the Indian market.\n",
        "\n",
        "\n",
        "\n",
        "How you can help here?\n",
        "The company wants to know:\n",
        "•\tWhich variables are significant in predicting the demand for shared electric cycles in the Indian market?\n",
        "•\tHow well those variables describe the electric cycle demands\n"
      ],
      "metadata": {
        "id": "qxBkB8dBhK5M"
      }
    },
    {
      "cell_type": "markdown",
      "source": [
        "![image.png](data:image/png;base64,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)"
      ],
      "metadata": {
        "id": "Z1W0OIYXg0fN"
      }
    },
    {
      "cell_type": "markdown",
      "source": [
        "***Exploratory Data Analysis ***"
      ],
      "metadata": {
        "id": "gAOxFP6unhMl"
      }
    },
    {
      "cell_type": "code",
      "source": [
        "#1a. Find the datatypes of all attributes\n",
        "df.dtypes"
      ],
      "metadata": {
        "colab": {
          "base_uri": "https://localhost:8080/"
        },
        "id": "RyXeuEhchczs",
        "outputId": "3c223ce2-0fa0-4771-8405-f2f53cc3a1e0"
      },
      "execution_count": null,
      "outputs": [
        {
          "output_type": "execute_result",
          "data": {
            "text/plain": [
              "datetime       object\n",
              "season          int64\n",
              "holiday         int64\n",
              "workingday      int64\n",
              "weather         int64\n",
              "temp          float64\n",
              "atemp         float64\n",
              "humidity        int64\n",
              "windspeed     float64\n",
              "casual          int64\n",
              "registered      int64\n",
              "count           int64\n",
              "dtype: object"
            ]
          },
          "metadata": {},
          "execution_count": 4
        }
      ]
    },
    {
      "cell_type": "code",
      "source": [
        "#Find the length of the dataset\n",
        "df.shape"
      ],
      "metadata": {
        "colab": {
          "base_uri": "https://localhost:8080/"
        },
        "id": "KmCC0O5Ji_JK",
        "outputId": "0738e8a1-a54b-4904-a2f0-688c7c67d97c"
      },
      "execution_count": null,
      "outputs": [
        {
          "output_type": "execute_result",
          "data": {
            "text/plain": [
              "(10886, 12)"
            ]
          },
          "metadata": {},
          "execution_count": 5
        }
      ]
    },
    {
      "cell_type": "code",
      "source": [
        "#checking the colunms and find the unique values in a coulumn\n",
        "df.holiday.unique()"
      ],
      "metadata": {
        "colab": {
          "base_uri": "https://localhost:8080/"
        },
        "id": "7cZ7w8WNj-Op",
        "outputId": "60deb00a-9355-44af-9a53-a2de5db2ce6d"
      },
      "execution_count": null,
      "outputs": [
        {
          "output_type": "execute_result",
          "data": {
            "text/plain": [
              "array([0, 1])"
            ]
          },
          "metadata": {},
          "execution_count": 6
        }
      ]
    },
    {
      "cell_type": "code",
      "source": [
        "#converting numeric dtype to category data type\n",
        "df[\"holiday\"].replace(0, 'Not Holiday', inplace = True)\n",
        "df[\"holiday\"].replace(1, 'Holiday', inplace = True)\n",
        "df[\"holiday\"] = df[\"holiday\"].astype('category')"
      ],
      "metadata": {
        "id": "v_vjMuKPjFm9"
      },
      "execution_count": null,
      "outputs": []
    },
    {
      "cell_type": "code",
      "source": [
        "#converting numeric dtype to category data type\n",
        "df[\"workingday\"].replace(1, 'workingday', inplace = True)\n",
        "df[\"workingday\"].replace(0, 'weekend or holiday', inplace = True)\n",
        "df[\"workingday\"] = df[\"workingday\"].astype('category')"
      ],
      "metadata": {
        "id": "TL6E-lBelH6a"
      },
      "execution_count": null,
      "outputs": []
    },
    {
      "cell_type": "code",
      "source": [
        "df[\"weather\"] = df[\"weather\"].astype('category')"
      ],
      "metadata": {
        "id": "zpte-8KAmPFe"
      },
      "execution_count": null,
      "outputs": []
    },
    {
      "cell_type": "code",
      "source": [
        "df.season.unique()"
      ],
      "metadata": {
        "colab": {
          "base_uri": "https://localhost:8080/"
        },
        "id": "pWL8qvbnmt_Y",
        "outputId": "cf5ba9b3-bb7d-4cef-c7b9-2a14950d1163"
      },
      "execution_count": null,
      "outputs": [
        {
          "output_type": "execute_result",
          "data": {
            "text/plain": [
              "array([1, 2, 3, 4])"
            ]
          },
          "metadata": {},
          "execution_count": 10
        }
      ]
    },
    {
      "cell_type": "code",
      "source": [
        "df[\"season\"].replace(1, 'spring', inplace = True)\n",
        "df[\"season\"].replace(2, 'summer', inplace = True)\n",
        "df[\"season\"].replace(3, 'fall', inplace = True)\n",
        "df[\"season\"].replace(4, 'winter', inplace = True)\n",
        "df[\"season\"] = df[\"season\"].astype('category')"
      ],
      "metadata": {
        "id": "eSvM_Htvmmai"
      },
      "execution_count": null,
      "outputs": []
    },
    {
      "cell_type": "code",
      "source": [
        "#convert datetime datatype to Timestamp\n",
        "df['datetime'] = pd.to_datetime(df['datetime'])"
      ],
      "metadata": {
        "id": "V3NYNUxSoO39"
      },
      "execution_count": null,
      "outputs": []
    },
    {
      "cell_type": "code",
      "source": [
        "df.dtypes"
      ],
      "metadata": {
        "colab": {
          "base_uri": "https://localhost:8080/"
        },
        "id": "gVbqrrt0nuB7",
        "outputId": "5dc5f725-1f23-4678-e52f-94a41f11a149"
      },
      "execution_count": null,
      "outputs": [
        {
          "output_type": "execute_result",
          "data": {
            "text/plain": [
              "datetime      datetime64[ns]\n",
              "season              category\n",
              "holiday             category\n",
              "workingday          category\n",
              "weather             category\n",
              "temp                 float64\n",
              "atemp                float64\n",
              "humidity               int64\n",
              "windspeed            float64\n",
              "casual                 int64\n",
              "registered             int64\n",
              "count                  int64\n",
              "dtype: object"
            ]
          },
          "metadata": {},
          "execution_count": 28
        }
      ]
    },
    {
      "cell_type": "code",
      "source": [
        "#1b.Finding missing values in each column\n",
        "df.isna().sum()"
      ],
      "metadata": {
        "colab": {
          "base_uri": "https://localhost:8080/"
        },
        "id": "aebLKx-Iorq6",
        "outputId": "b9471608-0cfb-421b-b3f7-1dcb7f05d240"
      },
      "execution_count": null,
      "outputs": [
        {
          "output_type": "execute_result",
          "data": {
            "text/plain": [
              "datetime      0\n",
              "season        0\n",
              "holiday       0\n",
              "workingday    0\n",
              "weather       0\n",
              "temp          0\n",
              "atemp         0\n",
              "humidity      0\n",
              "windspeed     0\n",
              "casual        0\n",
              "registered    0\n",
              "count         0\n",
              "dtype: int64"
            ]
          },
          "metadata": {},
          "execution_count": 53
        }
      ]
    },
    {
      "cell_type": "markdown",
      "source": [
        "No missing values found,so no need of imputation"
      ],
      "metadata": {
        "id": "nRAQ5aomo-rF"
      }
    },
    {
      "cell_type": "code",
      "source": [
        "#1b.Finding any duplicate values in each column\n",
        "df[df.duplicated()]"
      ],
      "metadata": {
        "colab": {
          "base_uri": "https://localhost:8080/",
          "height": 53
        },
        "id": "nHl7AL-ro-HE",
        "outputId": "e3e6028a-1380-488e-d6d8-c157840d07a1"
      },
      "execution_count": null,
      "outputs": [
        {
          "output_type": "execute_result",
          "data": {
            "text/plain": [
              "Empty DataFrame\n",
              "Columns: [datetime, season, holiday, workingday, weather, temp, atemp, humidity, windspeed, casual, registered, count]\n",
              "Index: []"
            ],
            "text/html": [
              "\n",
              "  <div id=\"df-9b55b75b-6df5-4a4f-9580-f6a57560159a\" class=\"colab-df-container\">\n",
              "    <div>\n",
              "<style scoped>\n",
              "    .dataframe tbody tr th:only-of-type {\n",
              "        vertical-align: middle;\n",
              "    }\n",
              "\n",
              "    .dataframe tbody tr th {\n",
              "        vertical-align: top;\n",
              "    }\n",
              "\n",
              "    .dataframe thead th {\n",
              "        text-align: right;\n",
              "    }\n",
              "</style>\n",
              "<table border=\"1\" class=\"dataframe\">\n",
              "  <thead>\n",
              "    <tr style=\"text-align: right;\">\n",
              "      <th></th>\n",
              "      <th>datetime</th>\n",
              "      <th>season</th>\n",
              "      <th>holiday</th>\n",
              "      <th>workingday</th>\n",
              "      <th>weather</th>\n",
              "      <th>temp</th>\n",
              "      <th>atemp</th>\n",
              "      <th>humidity</th>\n",
              "      <th>windspeed</th>\n",
              "      <th>casual</th>\n",
              "      <th>registered</th>\n",
              "      <th>count</th>\n",
              "    </tr>\n",
              "  </thead>\n",
              "  <tbody>\n",
              "  </tbody>\n",
              "</table>\n",
              "</div>\n",
              "    <div class=\"colab-df-buttons\">\n",
              "\n",
              "  <div class=\"colab-df-container\">\n",
              "    <button class=\"colab-df-convert\" onclick=\"convertToInteractive('df-9b55b75b-6df5-4a4f-9580-f6a57560159a')\"\n",
              "            title=\"Convert this dataframe to an interactive table.\"\n",
              "            style=\"display:none;\">\n",
              "\n",
              "  <svg xmlns=\"http://www.w3.org/2000/svg\" height=\"24px\" viewBox=\"0 -960 960 960\">\n",
              "    <path d=\"M120-120v-720h720v720H120Zm60-500h600v-160H180v160Zm220 220h160v-160H400v160Zm0 220h160v-160H400v160ZM180-400h160v-160H180v160Zm440 0h160v-160H620v160ZM180-180h160v-160H180v160Zm440 0h160v-160H620v160Z\"/>\n",
              "  </svg>\n",
              "    </button>\n",
              "\n",
              "  <style>\n",
              "    .colab-df-container {\n",
              "      display:flex;\n",
              "      gap: 12px;\n",
              "    }\n",
              "\n",
              "    .colab-df-convert {\n",
              "      background-color: #E8F0FE;\n",
              "      border: none;\n",
              "      border-radius: 50%;\n",
              "      cursor: pointer;\n",
              "      display: none;\n",
              "      fill: #1967D2;\n",
              "      height: 32px;\n",
              "      padding: 0 0 0 0;\n",
              "      width: 32px;\n",
              "    }\n",
              "\n",
              "    .colab-df-convert:hover {\n",
              "      background-color: #E2EBFA;\n",
              "      box-shadow: 0px 1px 2px rgba(60, 64, 67, 0.3), 0px 1px 3px 1px rgba(60, 64, 67, 0.15);\n",
              "      fill: #174EA6;\n",
              "    }\n",
              "\n",
              "    .colab-df-buttons div {\n",
              "      margin-bottom: 4px;\n",
              "    }\n",
              "\n",
              "    [theme=dark] .colab-df-convert {\n",
              "      background-color: #3B4455;\n",
              "      fill: #D2E3FC;\n",
              "    }\n",
              "\n",
              "    [theme=dark] .colab-df-convert:hover {\n",
              "      background-color: #434B5C;\n",
              "      box-shadow: 0px 1px 3px 1px rgba(0, 0, 0, 0.15);\n",
              "      filter: drop-shadow(0px 1px 2px rgba(0, 0, 0, 0.3));\n",
              "      fill: #FFFFFF;\n",
              "    }\n",
              "  </style>\n",
              "\n",
              "    <script>\n",
              "      const buttonEl =\n",
              "        document.querySelector('#df-9b55b75b-6df5-4a4f-9580-f6a57560159a button.colab-df-convert');\n",
              "      buttonEl.style.display =\n",
              "        google.colab.kernel.accessAllowed ? 'block' : 'none';\n",
              "\n",
              "      async function convertToInteractive(key) {\n",
              "        const element = document.querySelector('#df-9b55b75b-6df5-4a4f-9580-f6a57560159a');\n",
              "        const dataTable =\n",
              "          await google.colab.kernel.invokeFunction('convertToInteractive',\n",
              "                                                    [key], {});\n",
              "        if (!dataTable) return;\n",
              "\n",
              "        const docLinkHtml = 'Like what you see? Visit the ' +\n",
              "          '<a target=\"_blank\" href=https://colab.research.google.com/notebooks/data_table.ipynb>data table notebook</a>'\n",
              "          + ' to learn more about interactive tables.';\n",
              "        element.innerHTML = '';\n",
              "        dataTable['output_type'] = 'display_data';\n",
              "        await google.colab.output.renderOutput(dataTable, element);\n",
              "        const docLink = document.createElement('div');\n",
              "        docLink.innerHTML = docLinkHtml;\n",
              "        element.appendChild(docLink);\n",
              "      }\n",
              "    </script>\n",
              "  </div>\n",
              "\n",
              "\n",
              "    </div>\n",
              "  </div>\n"
            ],
            "application/vnd.google.colaboratory.intrinsic+json": {
              "type": "dataframe",
              "summary": "{\n  \"name\": \"df[df\",\n  \"rows\": 0,\n  \"fields\": [\n    {\n      \"column\": \"datetime\",\n      \"properties\": {\n        \"dtype\": \"date\",\n        \"min\": \"NaT\",\n        \"max\": \"NaT\",\n        \"num_unique_values\": 0,\n        \"samples\": [],\n        \"semantic_type\": \"\",\n        \"description\": \"\"\n      }\n    },\n    {\n      \"column\": \"season\",\n      \"properties\": {\n        \"dtype\": \"category\",\n        \"num_unique_values\": 0,\n        \"samples\": [],\n        \"semantic_type\": \"\",\n        \"description\": \"\"\n      }\n    },\n    {\n      \"column\": \"holiday\",\n      \"properties\": {\n        \"dtype\": \"category\",\n        \"num_unique_values\": 0,\n        \"samples\": [],\n        \"semantic_type\": \"\",\n        \"description\": \"\"\n      }\n    },\n    {\n      \"column\": \"workingday\",\n      \"properties\": {\n        \"dtype\": \"category\",\n        \"num_unique_values\": 0,\n        \"samples\": [],\n        \"semantic_type\": \"\",\n        \"description\": \"\"\n      }\n    },\n    {\n      \"column\": \"weather\",\n      \"properties\": {\n        \"dtype\": \"category\",\n        \"num_unique_values\": 0,\n        \"samples\": [],\n        \"semantic_type\": \"\",\n        \"description\": \"\"\n      }\n    },\n    {\n      \"column\": \"temp\",\n      \"properties\": {\n        \"dtype\": \"number\",\n        \"std\": null,\n        \"min\": null,\n        \"max\": null,\n        \"num_unique_values\": 0,\n        \"samples\": [],\n        \"semantic_type\": \"\",\n        \"description\": \"\"\n      }\n    },\n    {\n      \"column\": \"atemp\",\n      \"properties\": {\n        \"dtype\": \"number\",\n        \"std\": null,\n        \"min\": null,\n        \"max\": null,\n        \"num_unique_values\": 0,\n        \"samples\": [],\n        \"semantic_type\": \"\",\n        \"description\": \"\"\n      }\n    },\n    {\n      \"column\": \"humidity\",\n      \"properties\": {\n        \"dtype\": \"number\",\n        \"std\": null,\n        \"min\": null,\n        \"max\": null,\n        \"num_unique_values\": 0,\n        \"samples\": [],\n        \"semantic_type\": \"\",\n        \"description\": \"\"\n      }\n    },\n    {\n      \"column\": \"windspeed\",\n      \"properties\": {\n        \"dtype\": \"number\",\n        \"std\": null,\n        \"min\": null,\n        \"max\": null,\n        \"num_unique_values\": 0,\n        \"samples\": [],\n        \"semantic_type\": \"\",\n        \"description\": \"\"\n      }\n    },\n    {\n      \"column\": \"casual\",\n      \"properties\": {\n        \"dtype\": \"number\",\n        \"std\": null,\n        \"min\": null,\n        \"max\": null,\n        \"num_unique_values\": 0,\n        \"samples\": [],\n        \"semantic_type\": \"\",\n        \"description\": \"\"\n      }\n    },\n    {\n      \"column\": \"registered\",\n      \"properties\": {\n        \"dtype\": \"number\",\n        \"std\": null,\n        \"min\": null,\n        \"max\": null,\n        \"num_unique_values\": 0,\n        \"samples\": [],\n        \"semantic_type\": \"\",\n        \"description\": \"\"\n      }\n    },\n    {\n      \"column\": \"count\",\n      \"properties\": {\n        \"dtype\": \"number\",\n        \"std\": null,\n        \"min\": null,\n        \"max\": null,\n        \"num_unique_values\": 0,\n        \"samples\": [],\n        \"semantic_type\": \"\",\n        \"description\": \"\"\n      }\n    }\n  ]\n}"
            }
          },
          "metadata": {},
          "execution_count": 11
        }
      ]
    },
    {
      "cell_type": "markdown",
      "source": [
        "No duplicates present in all colunms"
      ],
      "metadata": {
        "id": "LRzxjEizsVY3"
      }
    },
    {
      "cell_type": "code",
      "source": [
        "df['count'].max()"
      ],
      "metadata": {
        "colab": {
          "base_uri": "https://localhost:8080/"
        },
        "id": "rGy5I8L90Osl",
        "outputId": "f32e2f36-b60d-4215-e0e4-9ab4f9d8372f"
      },
      "execution_count": null,
      "outputs": [
        {
          "output_type": "execute_result",
          "data": {
            "text/plain": [
              "977"
            ]
          },
          "metadata": {},
          "execution_count": 22
        }
      ]
    },
    {
      "cell_type": "markdown",
      "source": [
        "Outlier Treatment"
      ],
      "metadata": {
        "id": "ZWpRdGz6cCGx"
      }
    },
    {
      "cell_type": "code",
      "source": [
        "#Outlier checking on Continuous values\n",
        "df_num=df.select_dtypes(include=np.number)\n",
        "df_num.columns"
      ],
      "metadata": {
        "colab": {
          "base_uri": "https://localhost:8080/"
        },
        "id": "-TjJQh0meIGJ",
        "outputId": "385b7f19-bbd3-49c9-d1a7-77b32a8e80f3"
      },
      "execution_count": null,
      "outputs": [
        {
          "output_type": "execute_result",
          "data": {
            "text/plain": [
              "Index(['temp', 'atemp', 'humidity', 'windspeed', 'casual', 'registered',\n",
              "       'count'],\n",
              "      dtype='object')"
            ]
          },
          "metadata": {},
          "execution_count": 54
        }
      ]
    },
    {
      "cell_type": "code",
      "source": [
        "df_num.drop(['temp', 'atemp', 'humidity', 'windspeed', ], axis = 1, inplace = True)\n",
        "df_num.head()"
      ],
      "metadata": {
        "colab": {
          "base_uri": "https://localhost:8080/",
          "height": 206
        },
        "id": "n16vGIGmetoR",
        "outputId": "78f2341c-8fe9-4d07-c67e-772ffdd8fb8b"
      },
      "execution_count": null,
      "outputs": [
        {
          "output_type": "execute_result",
          "data": {
            "text/plain": [
              "   casual  registered  count\n",
              "0       3          13     16\n",
              "1       8          32     40\n",
              "2       5          27     32\n",
              "3       3          10     13\n",
              "4       0           1      1"
            ],
            "text/html": [
              "\n",
              "  <div id=\"df-44fea736-f2aa-4936-9ed2-99fb75a575ae\" class=\"colab-df-container\">\n",
              "    <div>\n",
              "<style scoped>\n",
              "    .dataframe tbody tr th:only-of-type {\n",
              "        vertical-align: middle;\n",
              "    }\n",
              "\n",
              "    .dataframe tbody tr th {\n",
              "        vertical-align: top;\n",
              "    }\n",
              "\n",
              "    .dataframe thead th {\n",
              "        text-align: right;\n",
              "    }\n",
              "</style>\n",
              "<table border=\"1\" class=\"dataframe\">\n",
              "  <thead>\n",
              "    <tr style=\"text-align: right;\">\n",
              "      <th></th>\n",
              "      <th>casual</th>\n",
              "      <th>registered</th>\n",
              "      <th>count</th>\n",
              "    </tr>\n",
              "  </thead>\n",
              "  <tbody>\n",
              "    <tr>\n",
              "      <th>0</th>\n",
              "      <td>3</td>\n",
              "      <td>13</td>\n",
              "      <td>16</td>\n",
              "    </tr>\n",
              "    <tr>\n",
              "      <th>1</th>\n",
              "      <td>8</td>\n",
              "      <td>32</td>\n",
              "      <td>40</td>\n",
              "    </tr>\n",
              "    <tr>\n",
              "      <th>2</th>\n",
              "      <td>5</td>\n",
              "      <td>27</td>\n",
              "      <td>32</td>\n",
              "    </tr>\n",
              "    <tr>\n",
              "      <th>3</th>\n",
              "      <td>3</td>\n",
              "      <td>10</td>\n",
              "      <td>13</td>\n",
              "    </tr>\n",
              "    <tr>\n",
              "      <th>4</th>\n",
              "      <td>0</td>\n",
              "      <td>1</td>\n",
              "      <td>1</td>\n",
              "    </tr>\n",
              "  </tbody>\n",
              "</table>\n",
              "</div>\n",
              "    <div class=\"colab-df-buttons\">\n",
              "\n",
              "  <div class=\"colab-df-container\">\n",
              "    <button class=\"colab-df-convert\" onclick=\"convertToInteractive('df-44fea736-f2aa-4936-9ed2-99fb75a575ae')\"\n",
              "            title=\"Convert this dataframe to an interactive table.\"\n",
              "            style=\"display:none;\">\n",
              "\n",
              "  <svg xmlns=\"http://www.w3.org/2000/svg\" height=\"24px\" viewBox=\"0 -960 960 960\">\n",
              "    <path d=\"M120-120v-720h720v720H120Zm60-500h600v-160H180v160Zm220 220h160v-160H400v160Zm0 220h160v-160H400v160ZM180-400h160v-160H180v160Zm440 0h160v-160H620v160ZM180-180h160v-160H180v160Zm440 0h160v-160H620v160Z\"/>\n",
              "  </svg>\n",
              "    </button>\n",
              "\n",
              "  <style>\n",
              "    .colab-df-container {\n",
              "      display:flex;\n",
              "      gap: 12px;\n",
              "    }\n",
              "\n",
              "    .colab-df-convert {\n",
              "      background-color: #E8F0FE;\n",
              "      border: none;\n",
              "      border-radius: 50%;\n",
              "      cursor: pointer;\n",
              "      display: none;\n",
              "      fill: #1967D2;\n",
              "      height: 32px;\n",
              "      padding: 0 0 0 0;\n",
              "      width: 32px;\n",
              "    }\n",
              "\n",
              "    .colab-df-convert:hover {\n",
              "      background-color: #E2EBFA;\n",
              "      box-shadow: 0px 1px 2px rgba(60, 64, 67, 0.3), 0px 1px 3px 1px rgba(60, 64, 67, 0.15);\n",
              "      fill: #174EA6;\n",
              "    }\n",
              "\n",
              "    .colab-df-buttons div {\n",
              "      margin-bottom: 4px;\n",
              "    }\n",
              "\n",
              "    [theme=dark] .colab-df-convert {\n",
              "      background-color: #3B4455;\n",
              "      fill: #D2E3FC;\n",
              "    }\n",
              "\n",
              "    [theme=dark] .colab-df-convert:hover {\n",
              "      background-color: #434B5C;\n",
              "      box-shadow: 0px 1px 3px 1px rgba(0, 0, 0, 0.15);\n",
              "      filter: drop-shadow(0px 1px 2px rgba(0, 0, 0, 0.3));\n",
              "      fill: #FFFFFF;\n",
              "    }\n",
              "  </style>\n",
              "\n",
              "    <script>\n",
              "      const buttonEl =\n",
              "        document.querySelector('#df-44fea736-f2aa-4936-9ed2-99fb75a575ae button.colab-df-convert');\n",
              "      buttonEl.style.display =\n",
              "        google.colab.kernel.accessAllowed ? 'block' : 'none';\n",
              "\n",
              "      async function convertToInteractive(key) {\n",
              "        const element = document.querySelector('#df-44fea736-f2aa-4936-9ed2-99fb75a575ae');\n",
              "        const dataTable =\n",
              "          await google.colab.kernel.invokeFunction('convertToInteractive',\n",
              "                                                    [key], {});\n",
              "        if (!dataTable) return;\n",
              "\n",
              "        const docLinkHtml = 'Like what you see? Visit the ' +\n",
              "          '<a target=\"_blank\" href=https://colab.research.google.com/notebooks/data_table.ipynb>data table notebook</a>'\n",
              "          + ' to learn more about interactive tables.';\n",
              "        element.innerHTML = '';\n",
              "        dataTable['output_type'] = 'display_data';\n",
              "        await google.colab.output.renderOutput(dataTable, element);\n",
              "        const docLink = document.createElement('div');\n",
              "        docLink.innerHTML = docLinkHtml;\n",
              "        element.appendChild(docLink);\n",
              "      }\n",
              "    </script>\n",
              "  </div>\n",
              "\n",
              "\n",
              "<div id=\"df-86941363-2533-4b75-a3d9-904b3c599d3f\">\n",
              "  <button class=\"colab-df-quickchart\" onclick=\"quickchart('df-86941363-2533-4b75-a3d9-904b3c599d3f')\"\n",
              "            title=\"Suggest charts\"\n",
              "            style=\"display:none;\">\n",
              "\n",
              "<svg xmlns=\"http://www.w3.org/2000/svg\" height=\"24px\"viewBox=\"0 0 24 24\"\n",
              "     width=\"24px\">\n",
              "    <g>\n",
              "        <path d=\"M19 3H5c-1.1 0-2 .9-2 2v14c0 1.1.9 2 2 2h14c1.1 0 2-.9 2-2V5c0-1.1-.9-2-2-2zM9 17H7v-7h2v7zm4 0h-2V7h2v10zm4 0h-2v-4h2v4z\"/>\n",
              "    </g>\n",
              "</svg>\n",
              "  </button>\n",
              "\n",
              "<style>\n",
              "  .colab-df-quickchart {\n",
              "      --bg-color: #E8F0FE;\n",
              "      --fill-color: #1967D2;\n",
              "      --hover-bg-color: #E2EBFA;\n",
              "      --hover-fill-color: #174EA6;\n",
              "      --disabled-fill-color: #AAA;\n",
              "      --disabled-bg-color: #DDD;\n",
              "  }\n",
              "\n",
              "  [theme=dark] .colab-df-quickchart {\n",
              "      --bg-color: #3B4455;\n",
              "      --fill-color: #D2E3FC;\n",
              "      --hover-bg-color: #434B5C;\n",
              "      --hover-fill-color: #FFFFFF;\n",
              "      --disabled-bg-color: #3B4455;\n",
              "      --disabled-fill-color: #666;\n",
              "  }\n",
              "\n",
              "  .colab-df-quickchart {\n",
              "    background-color: var(--bg-color);\n",
              "    border: none;\n",
              "    border-radius: 50%;\n",
              "    cursor: pointer;\n",
              "    display: none;\n",
              "    fill: var(--fill-color);\n",
              "    height: 32px;\n",
              "    padding: 0;\n",
              "    width: 32px;\n",
              "  }\n",
              "\n",
              "  .colab-df-quickchart:hover {\n",
              "    background-color: var(--hover-bg-color);\n",
              "    box-shadow: 0 1px 2px rgba(60, 64, 67, 0.3), 0 1px 3px 1px rgba(60, 64, 67, 0.15);\n",
              "    fill: var(--button-hover-fill-color);\n",
              "  }\n",
              "\n",
              "  .colab-df-quickchart-complete:disabled,\n",
              "  .colab-df-quickchart-complete:disabled:hover {\n",
              "    background-color: var(--disabled-bg-color);\n",
              "    fill: var(--disabled-fill-color);\n",
              "    box-shadow: none;\n",
              "  }\n",
              "\n",
              "  .colab-df-spinner {\n",
              "    border: 2px solid var(--fill-color);\n",
              "    border-color: transparent;\n",
              "    border-bottom-color: var(--fill-color);\n",
              "    animation:\n",
              "      spin 1s steps(1) infinite;\n",
              "  }\n",
              "\n",
              "  @keyframes spin {\n",
              "    0% {\n",
              "      border-color: transparent;\n",
              "      border-bottom-color: var(--fill-color);\n",
              "      border-left-color: var(--fill-color);\n",
              "    }\n",
              "    20% {\n",
              "      border-color: transparent;\n",
              "      border-left-color: var(--fill-color);\n",
              "      border-top-color: var(--fill-color);\n",
              "    }\n",
              "    30% {\n",
              "      border-color: transparent;\n",
              "      border-left-color: var(--fill-color);\n",
              "      border-top-color: var(--fill-color);\n",
              "      border-right-color: var(--fill-color);\n",
              "    }\n",
              "    40% {\n",
              "      border-color: transparent;\n",
              "      border-right-color: var(--fill-color);\n",
              "      border-top-color: var(--fill-color);\n",
              "    }\n",
              "    60% {\n",
              "      border-color: transparent;\n",
              "      border-right-color: var(--fill-color);\n",
              "    }\n",
              "    80% {\n",
              "      border-color: transparent;\n",
              "      border-right-color: var(--fill-color);\n",
              "      border-bottom-color: var(--fill-color);\n",
              "    }\n",
              "    90% {\n",
              "      border-color: transparent;\n",
              "      border-bottom-color: var(--fill-color);\n",
              "    }\n",
              "  }\n",
              "</style>\n",
              "\n",
              "  <script>\n",
              "    async function quickchart(key) {\n",
              "      const quickchartButtonEl =\n",
              "        document.querySelector('#' + key + ' button');\n",
              "      quickchartButtonEl.disabled = true;  // To prevent multiple clicks.\n",
              "      quickchartButtonEl.classList.add('colab-df-spinner');\n",
              "      try {\n",
              "        const charts = await google.colab.kernel.invokeFunction(\n",
              "            'suggestCharts', [key], {});\n",
              "      } catch (error) {\n",
              "        console.error('Error during call to suggestCharts:', error);\n",
              "      }\n",
              "      quickchartButtonEl.classList.remove('colab-df-spinner');\n",
              "      quickchartButtonEl.classList.add('colab-df-quickchart-complete');\n",
              "    }\n",
              "    (() => {\n",
              "      let quickchartButtonEl =\n",
              "        document.querySelector('#df-86941363-2533-4b75-a3d9-904b3c599d3f button');\n",
              "      quickchartButtonEl.style.display =\n",
              "        google.colab.kernel.accessAllowed ? 'block' : 'none';\n",
              "    })();\n",
              "  </script>\n",
              "</div>\n",
              "\n",
              "    </div>\n",
              "  </div>\n"
            ],
            "application/vnd.google.colaboratory.intrinsic+json": {
              "type": "dataframe",
              "variable_name": "df_num",
              "summary": "{\n  \"name\": \"df_num\",\n  \"rows\": 10886,\n  \"fields\": [\n    {\n      \"column\": \"casual\",\n      \"properties\": {\n        \"dtype\": \"number\",\n        \"std\": 49,\n        \"min\": 0,\n        \"max\": 367,\n        \"num_unique_values\": 309,\n        \"samples\": [\n          287,\n          47,\n          60\n        ],\n        \"semantic_type\": \"\",\n        \"description\": \"\"\n      }\n    },\n    {\n      \"column\": \"registered\",\n      \"properties\": {\n        \"dtype\": \"number\",\n        \"std\": 151,\n        \"min\": 0,\n        \"max\": 886,\n        \"num_unique_values\": 731,\n        \"samples\": [\n          566,\n          9,\n          429\n        ],\n        \"semantic_type\": \"\",\n        \"description\": \"\"\n      }\n    },\n    {\n      \"column\": \"count\",\n      \"properties\": {\n        \"dtype\": \"number\",\n        \"std\": 181,\n        \"min\": 1,\n        \"max\": 977,\n        \"num_unique_values\": 822,\n        \"samples\": [\n          626,\n          256,\n          79\n        ],\n        \"semantic_type\": \"\",\n        \"description\": \"\"\n      }\n    }\n  ]\n}"
            }
          },
          "metadata": {},
          "execution_count": 55
        }
      ]
    },
    {
      "cell_type": "code",
      "source": [
        "#calculating IQR to remove the outlier\n",
        "q1 = df_num.quantile(0.25)\n",
        "q3 = df_num.quantile(0.75)\n",
        "\n",
        "IQR = q3 -  q1\n",
        "print(IQR)"
      ],
      "metadata": {
        "colab": {
          "base_uri": "https://localhost:8080/"
        },
        "id": "8xPDgVQEcC1K",
        "outputId": "63f0613e-1666-4034-cda5-61757c9f4bf0"
      },
      "execution_count": null,
      "outputs": [
        {
          "output_type": "stream",
          "name": "stdout",
          "text": [
            "casual         45.0\n",
            "registered    186.0\n",
            "count         242.0\n",
            "dtype: float64\n"
          ]
        }
      ]
    },
    {
      "cell_type": "code",
      "source": [
        "for col in enumerate(df_num):\n",
        "    sns.boxplot(x=col[1], data=df_num,color='brown')\n",
        "    plt.show()"
      ],
      "metadata": {
        "colab": {
          "base_uri": "https://localhost:8080/",
          "height": 1000
        },
        "id": "7uK9iWCpe7BU",
        "outputId": "4eb9c204-8f6c-493c-9d1b-827243b0fb79"
      },
      "execution_count": null,
      "outputs": [
        {
          "output_type": "display_data",
          "data": {
            "text/plain": [
              "<Figure size 640x480 with 1 Axes>"
            ],
            "image/png": "[encoded data removed]"
          },
          "metadata": {}
        },
        {
          "output_type": "display_data",
          "data": {
            "text/plain": [
              "<Figure size 640x480 with 1 Axes>"
            ],
            "image/png": "[encoded data removed]"
          },
          "metadata": {}
        },
        {
          "output_type": "display_data",
          "data": {
            "text/plain": [
              "<Figure size 640x480 with 1 Axes>"
            ],
            "image/png": "[encoded data removed]"
          },
          "metadata": {}
        }
      ]
    },
    {
      "cell_type": "code",
      "source": [
        "#1e All the outlier are removed form the int datatype columns using IQR method\n",
        "data = df[~(df_num[(df_num < (q1 - 1.5*IQR)) | (df_num > (q3 + 1.5*IQR))]).any(axis=1)]\n",
        "data"
      ],
      "metadata": {
        "colab": {
          "base_uri": "https://localhost:8080/",
          "height": 423
        },
        "id": "fNLd-kFOfj4h",
        "outputId": "a6c6084d-eb11-4353-b53a-6233697a1532"
      },
      "execution_count": null,
      "outputs": [
        {
          "output_type": "execute_result",
          "data": {
            "text/plain": [
              "                 datetime  season      holiday          workingday weather  \\\n",
              "0     2011-01-01 00:00:00  spring  Not Holiday  weekend or holiday       1   \n",
              "1     2011-01-01 01:00:00  spring  Not Holiday  weekend or holiday       1   \n",
              "2     2011-01-01 02:00:00  spring  Not Holiday  weekend or holiday       1   \n",
              "3     2011-01-01 03:00:00  spring  Not Holiday  weekend or holiday       1   \n",
              "4     2011-01-01 04:00:00  spring  Not Holiday  weekend or holiday       1   \n",
              "...                   ...     ...          ...                 ...     ...   \n",
              "10881 2012-12-19 19:00:00  winter  Not Holiday          workingday       1   \n",
              "10882 2012-12-19 20:00:00  winter  Not Holiday          workingday       1   \n",
              "10883 2012-12-19 21:00:00  winter  Not Holiday          workingday       1   \n",
              "10884 2012-12-19 22:00:00  winter  Not Holiday          workingday       1   \n",
              "10885 2012-12-19 23:00:00  winter  Not Holiday          workingday       1   \n",
              "\n",
              "        temp   atemp  humidity  windspeed  casual  registered  count  \n",
              "0       9.84  14.395        81     0.0000       3          13     16  \n",
              "1       9.02  13.635        80     0.0000       8          32     40  \n",
              "2       9.02  13.635        80     0.0000       5          27     32  \n",
              "3       9.84  14.395        75     0.0000       3          10     13  \n",
              "4       9.84  14.395        75     0.0000       0           1      1  \n",
              "...      ...     ...       ...        ...     ...         ...    ...  \n",
              "10881  15.58  19.695        50    26.0027       7         329    336  \n",
              "10882  14.76  17.425        57    15.0013      10         231    241  \n",
              "10883  13.94  15.910        61    15.0013       4         164    168  \n",
              "10884  13.94  17.425        61     6.0032      12         117    129  \n",
              "10885  13.12  16.665        66     8.9981       4          84     88  \n",
              "\n",
              "[9744 rows x 12 columns]"
            ],
            "text/html": [
              "\n",
              "  <div id=\"df-43f42462-a548-4eea-86da-7e67d992c533\" class=\"colab-df-container\">\n",
              "    <div>\n",
              "<style scoped>\n",
              "    .dataframe tbody tr th:only-of-type {\n",
              "        vertical-align: middle;\n",
              "    }\n",
              "\n",
              "    .dataframe tbody tr th {\n",
              "        vertical-align: top;\n",
              "    }\n",
              "\n",
              "    .dataframe thead th {\n",
              "        text-align: right;\n",
              "    }\n",
              "</style>\n",
              "<table border=\"1\" class=\"dataframe\">\n",
              "  <thead>\n",
              "    <tr style=\"text-align: right;\">\n",
              "      <th></th>\n",
              "      <th>datetime</th>\n",
              "      <th>season</th>\n",
              "      <th>holiday</th>\n",
              "      <th>workingday</th>\n",
              "      <th>weather</th>\n",
              "      <th>temp</th>\n",
              "      <th>atemp</th>\n",
              "      <th>humidity</th>\n",
              "      <th>windspeed</th>\n",
              "      <th>casual</th>\n",
              "      <th>registered</th>\n",
              "      <th>count</th>\n",
              "    </tr>\n",
              "  </thead>\n",
              "  <tbody>\n",
              "    <tr>\n",
              "      <th>0</th>\n",
              "      <td>2011-01-01 00:00:00</td>\n",
              "      <td>spring</td>\n",
              "      <td>Not Holiday</td>\n",
              "      <td>weekend or holiday</td>\n",
              "      <td>1</td>\n",
              "      <td>9.84</td>\n",
              "      <td>14.395</td>\n",
              "      <td>81</td>\n",
              "      <td>0.0000</td>\n",
              "      <td>3</td>\n",
              "      <td>13</td>\n",
              "      <td>16</td>\n",
              "    </tr>\n",
              "    <tr>\n",
              "      <th>1</th>\n",
              "      <td>2011-01-01 01:00:00</td>\n",
              "      <td>spring</td>\n",
              "      <td>Not Holiday</td>\n",
              "      <td>weekend or holiday</td>\n",
              "      <td>1</td>\n",
              "      <td>9.02</td>\n",
              "      <td>13.635</td>\n",
              "      <td>80</td>\n",
              "      <td>0.0000</td>\n",
              "      <td>8</td>\n",
              "      <td>32</td>\n",
              "      <td>40</td>\n",
              "    </tr>\n",
              "    <tr>\n",
              "      <th>2</th>\n",
              "      <td>2011-01-01 02:00:00</td>\n",
              "      <td>spring</td>\n",
              "      <td>Not Holiday</td>\n",
              "      <td>weekend or holiday</td>\n",
              "      <td>1</td>\n",
              "      <td>9.02</td>\n",
              "      <td>13.635</td>\n",
              "      <td>80</td>\n",
              "      <td>0.0000</td>\n",
              "      <td>5</td>\n",
              "      <td>27</td>\n",
              "      <td>32</td>\n",
              "    </tr>\n",
              "    <tr>\n",
              "      <th>3</th>\n",
              "      <td>2011-01-01 03:00:00</td>\n",
              "      <td>spring</td>\n",
              "      <td>Not Holiday</td>\n",
              "      <td>weekend or holiday</td>\n",
              "      <td>1</td>\n",
              "      <td>9.84</td>\n",
              "      <td>14.395</td>\n",
              "      <td>75</td>\n",
              "      <td>0.0000</td>\n",
              "      <td>3</td>\n",
              "      <td>10</td>\n",
              "      <td>13</td>\n",
              "    </tr>\n",
              "    <tr>\n",
              "      <th>4</th>\n",
              "      <td>2011-01-01 04:00:00</td>\n",
              "      <td>spring</td>\n",
              "      <td>Not Holiday</td>\n",
              "      <td>weekend or holiday</td>\n",
              "      <td>1</td>\n",
              "      <td>9.84</td>\n",
              "      <td>14.395</td>\n",
              "      <td>75</td>\n",
              "      <td>0.0000</td>\n",
              "      <td>0</td>\n",
              "      <td>1</td>\n",
              "      <td>1</td>\n",
              "    </tr>\n",
              "    <tr>\n",
              "      <th>...</th>\n",
              "      <td>...</td>\n",
              "      <td>...</td>\n",
              "      <td>...</td>\n",
              "      <td>...</td>\n",
              "      <td>...</td>\n",
              "      <td>...</td>\n",
              "      <td>...</td>\n",
              "      <td>...</td>\n",
              "      <td>...</td>\n",
              "      <td>...</td>\n",
              "      <td>...</td>\n",
              "      <td>...</td>\n",
              "    </tr>\n",
              "    <tr>\n",
              "      <th>10881</th>\n",
              "      <td>2012-12-19 19:00:00</td>\n",
              "      <td>winter</td>\n",
              "      <td>Not Holiday</td>\n",
              "      <td>workingday</td>\n",
              "      <td>1</td>\n",
              "      <td>15.58</td>\n",
              "      <td>19.695</td>\n",
              "      <td>50</td>\n",
              "      <td>26.0027</td>\n",
              "      <td>7</td>\n",
              "      <td>329</td>\n",
              "      <td>336</td>\n",
              "    </tr>\n",
              "    <tr>\n",
              "      <th>10882</th>\n",
              "      <td>2012-12-19 20:00:00</td>\n",
              "      <td>winter</td>\n",
              "      <td>Not Holiday</td>\n",
              "      <td>workingday</td>\n",
              "      <td>1</td>\n",
              "      <td>14.76</td>\n",
              "      <td>17.425</td>\n",
              "      <td>57</td>\n",
              "      <td>15.0013</td>\n",
              "      <td>10</td>\n",
              "      <td>231</td>\n",
              "      <td>241</td>\n",
              "    </tr>\n",
              "    <tr>\n",
              "      <th>10883</th>\n",
              "      <td>2012-12-19 21:00:00</td>\n",
              "      <td>winter</td>\n",
              "      <td>Not Holiday</td>\n",
              "      <td>workingday</td>\n",
              "      <td>1</td>\n",
              "      <td>13.94</td>\n",
              "      <td>15.910</td>\n",
              "      <td>61</td>\n",
              "      <td>15.0013</td>\n",
              "      <td>4</td>\n",
              "      <td>164</td>\n",
              "      <td>168</td>\n",
              "    </tr>\n",
              "    <tr>\n",
              "      <th>10884</th>\n",
              "      <td>2012-12-19 22:00:00</td>\n",
              "      <td>winter</td>\n",
              "      <td>Not Holiday</td>\n",
              "      <td>workingday</td>\n",
              "      <td>1</td>\n",
              "      <td>13.94</td>\n",
              "      <td>17.425</td>\n",
              "      <td>61</td>\n",
              "      <td>6.0032</td>\n",
              "      <td>12</td>\n",
              "      <td>117</td>\n",
              "      <td>129</td>\n",
              "    </tr>\n",
              "    <tr>\n",
              "      <th>10885</th>\n",
              "      <td>2012-12-19 23:00:00</td>\n",
              "      <td>winter</td>\n",
              "      <td>Not Holiday</td>\n",
              "      <td>workingday</td>\n",
              "      <td>1</td>\n",
              "      <td>13.12</td>\n",
              "      <td>16.665</td>\n",
              "      <td>66</td>\n",
              "      <td>8.9981</td>\n",
              "      <td>4</td>\n",
              "      <td>84</td>\n",
              "      <td>88</td>\n",
              "    </tr>\n",
              "  </tbody>\n",
              "</table>\n",
              "<p>9744 rows × 12 columns</p>\n",
              "</div>\n",
              "    <div class=\"colab-df-buttons\">\n",
              "\n",
              "  <div class=\"colab-df-container\">\n",
              "    <button class=\"colab-df-convert\" onclick=\"convertToInteractive('df-43f42462-a548-4eea-86da-7e67d992c533')\"\n",
              "            title=\"Convert this dataframe to an interactive table.\"\n",
              "            style=\"display:none;\">\n",
              "\n",
              "  <svg xmlns=\"http://www.w3.org/2000/svg\" height=\"24px\" viewBox=\"0 -960 960 960\">\n",
              "    <path d=\"M120-120v-720h720v720H120Zm60-500h600v-160H180v160Zm220 220h160v-160H400v160Zm0 220h160v-160H400v160ZM180-400h160v-160H180v160Zm440 0h160v-160H620v160ZM180-180h160v-160H180v160Zm440 0h160v-160H620v160Z\"/>\n",
              "  </svg>\n",
              "    </button>\n",
              "\n",
              "  <style>\n",
              "    .colab-df-container {\n",
              "      display:flex;\n",
              "      gap: 12px;\n",
              "    }\n",
              "\n",
              "    .colab-df-convert {\n",
              "      background-color: #E8F0FE;\n",
              "      border: none;\n",
              "      border-radius: 50%;\n",
              "      cursor: pointer;\n",
              "      display: none;\n",
              "      fill: #1967D2;\n",
              "      height: 32px;\n",
              "      padding: 0 0 0 0;\n",
              "      width: 32px;\n",
              "    }\n",
              "\n",
              "    .colab-df-convert:hover {\n",
              "      background-color: #E2EBFA;\n",
              "      box-shadow: 0px 1px 2px rgba(60, 64, 67, 0.3), 0px 1px 3px 1px rgba(60, 64, 67, 0.15);\n",
              "      fill: #174EA6;\n",
              "    }\n",
              "\n",
              "    .colab-df-buttons div {\n",
              "      margin-bottom: 4px;\n",
              "    }\n",
              "\n",
              "    [theme=dark] .colab-df-convert {\n",
              "      background-color: #3B4455;\n",
              "      fill: #D2E3FC;\n",
              "    }\n",
              "\n",
              "    [theme=dark] .colab-df-convert:hover {\n",
              "      background-color: #434B5C;\n",
              "      box-shadow: 0px 1px 3px 1px rgba(0, 0, 0, 0.15);\n",
              "      filter: drop-shadow(0px 1px 2px rgba(0, 0, 0, 0.3));\n",
              "      fill: #FFFFFF;\n",
              "    }\n",
              "  </style>\n",
              "\n",
              "    <script>\n",
              "      const buttonEl =\n",
              "        document.querySelector('#df-43f42462-a548-4eea-86da-7e67d992c533 button.colab-df-convert');\n",
              "      buttonEl.style.display =\n",
              "        google.colab.kernel.accessAllowed ? 'block' : 'none';\n",
              "\n",
              "      async function convertToInteractive(key) {\n",
              "        const element = document.querySelector('#df-43f42462-a548-4eea-86da-7e67d992c533');\n",
              "        const dataTable =\n",
              "          await google.colab.kernel.invokeFunction('convertToInteractive',\n",
              "                                                    [key], {});\n",
              "        if (!dataTable) return;\n",
              "\n",
              "        const docLinkHtml = 'Like what you see? Visit the ' +\n",
              "          '<a target=\"_blank\" href=https://colab.research.google.com/notebooks/data_table.ipynb>data table notebook</a>'\n",
              "          + ' to learn more about interactive tables.';\n",
              "        element.innerHTML = '';\n",
              "        dataTable['output_type'] = 'display_data';\n",
              "        await google.colab.output.renderOutput(dataTable, element);\n",
              "        const docLink = document.createElement('div');\n",
              "        docLink.innerHTML = docLinkHtml;\n",
              "        element.appendChild(docLink);\n",
              "      }\n",
              "    </script>\n",
              "  </div>\n",
              "\n",
              "\n",
              "<div id=\"df-53dd622c-a8db-423e-821f-54e3f4bb1440\">\n",
              "  <button class=\"colab-df-quickchart\" onclick=\"quickchart('df-53dd622c-a8db-423e-821f-54e3f4bb1440')\"\n",
              "            title=\"Suggest charts\"\n",
              "            style=\"display:none;\">\n",
              "\n",
              "<svg xmlns=\"http://www.w3.org/2000/svg\" height=\"24px\"viewBox=\"0 0 24 24\"\n",
              "     width=\"24px\">\n",
              "    <g>\n",
              "        <path d=\"M19 3H5c-1.1 0-2 .9-2 2v14c0 1.1.9 2 2 2h14c1.1 0 2-.9 2-2V5c0-1.1-.9-2-2-2zM9 17H7v-7h2v7zm4 0h-2V7h2v10zm4 0h-2v-4h2v4z\"/>\n",
              "    </g>\n",
              "</svg>\n",
              "  </button>\n",
              "\n",
              "<style>\n",
              "  .colab-df-quickchart {\n",
              "      --bg-color: #E8F0FE;\n",
              "      --fill-color: #1967D2;\n",
              "      --hover-bg-color: #E2EBFA;\n",
              "      --hover-fill-color: #174EA6;\n",
              "      --disabled-fill-color: #AAA;\n",
              "      --disabled-bg-color: #DDD;\n",
              "  }\n",
              "\n",
              "  [theme=dark] .colab-df-quickchart {\n",
              "      --bg-color: #3B4455;\n",
              "      --fill-color: #D2E3FC;\n",
              "      --hover-bg-color: #434B5C;\n",
              "      --hover-fill-color: #FFFFFF;\n",
              "      --disabled-bg-color: #3B4455;\n",
              "      --disabled-fill-color: #666;\n",
              "  }\n",
              "\n",
              "  .colab-df-quickchart {\n",
              "    background-color: var(--bg-color);\n",
              "    border: none;\n",
              "    border-radius: 50%;\n",
              "    cursor: pointer;\n",
              "    display: none;\n",
              "    fill: var(--fill-color);\n",
              "    height: 32px;\n",
              "    padding: 0;\n",
              "    width: 32px;\n",
              "  }\n",
              "\n",
              "  .colab-df-quickchart:hover {\n",
              "    background-color: var(--hover-bg-color);\n",
              "    box-shadow: 0 1px 2px rgba(60, 64, 67, 0.3), 0 1px 3px 1px rgba(60, 64, 67, 0.15);\n",
              "    fill: var(--button-hover-fill-color);\n",
              "  }\n",
              "\n",
              "  .colab-df-quickchart-complete:disabled,\n",
              "  .colab-df-quickchart-complete:disabled:hover {\n",
              "    background-color: var(--disabled-bg-color);\n",
              "    fill: var(--disabled-fill-color);\n",
              "    box-shadow: none;\n",
              "  }\n",
              "\n",
              "  .colab-df-spinner {\n",
              "    border: 2px solid var(--fill-color);\n",
              "    border-color: transparent;\n",
              "    border-bottom-color: var(--fill-color);\n",
              "    animation:\n",
              "      spin 1s steps(1) infinite;\n",
              "  }\n",
              "\n",
              "  @keyframes spin {\n",
              "    0% {\n",
              "      border-color: transparent;\n",
              "      border-bottom-color: var(--fill-color);\n",
              "      border-left-color: var(--fill-color);\n",
              "    }\n",
              "    20% {\n",
              "      border-color: transparent;\n",
              "      border-left-color: var(--fill-color);\n",
              "      border-top-color: var(--fill-color);\n",
              "    }\n",
              "    30% {\n",
              "      border-color: transparent;\n",
              "      border-left-color: var(--fill-color);\n",
              "      border-top-color: var(--fill-color);\n",
              "      border-right-color: var(--fill-color);\n",
              "    }\n",
              "    40% {\n",
              "      border-color: transparent;\n",
              "      border-right-color: var(--fill-color);\n",
              "      border-top-color: var(--fill-color);\n",
              "    }\n",
              "    60% {\n",
              "      border-color: transparent;\n",
              "      border-right-color: var(--fill-color);\n",
              "    }\n",
              "    80% {\n",
              "      border-color: transparent;\n",
              "      border-right-color: var(--fill-color);\n",
              "      border-bottom-color: var(--fill-color);\n",
              "    }\n",
              "    90% {\n",
              "      border-color: transparent;\n",
              "      border-bottom-color: var(--fill-color);\n",
              "    }\n",
              "  }\n",
              "</style>\n",
              "\n",
              "  <script>\n",
              "    async function quickchart(key) {\n",
              "      const quickchartButtonEl =\n",
              "        document.querySelector('#' + key + ' button');\n",
              "      quickchartButtonEl.disabled = true;  // To prevent multiple clicks.\n",
              "      quickchartButtonEl.classList.add('colab-df-spinner');\n",
              "      try {\n",
              "        const charts = await google.colab.kernel.invokeFunction(\n",
              "            'suggestCharts', [key], {});\n",
              "      } catch (error) {\n",
              "        console.error('Error during call to suggestCharts:', error);\n",
              "      }\n",
              "      quickchartButtonEl.classList.remove('colab-df-spinner');\n",
              "      quickchartButtonEl.classList.add('colab-df-quickchart-complete');\n",
              "    }\n",
              "    (() => {\n",
              "      let quickchartButtonEl =\n",
              "        document.querySelector('#df-53dd622c-a8db-423e-821f-54e3f4bb1440 button');\n",
              "      quickchartButtonEl.style.display =\n",
              "        google.colab.kernel.accessAllowed ? 'block' : 'none';\n",
              "    })();\n",
              "  </script>\n",
              "</div>\n",
              "\n",
              "  <div id=\"id_849bc723-eed7-4538-83b8-bb4469adc716\">\n",
              "    <style>\n",
              "      .colab-df-generate {\n",
              "        background-color: #E8F0FE;\n",
              "        border: none;\n",
              "        border-radius: 50%;\n",
              "        cursor: pointer;\n",
              "        display: none;\n",
              "        fill: #1967D2;\n",
              "        height: 32px;\n",
              "        padding: 0 0 0 0;\n",
              "        width: 32px;\n",
              "      }\n",
              "\n",
              "      .colab-df-generate:hover {\n",
              "        background-color: #E2EBFA;\n",
              "        box-shadow: 0px 1px 2px rgba(60, 64, 67, 0.3), 0px 1px 3px 1px rgba(60, 64, 67, 0.15);\n",
              "        fill: #174EA6;\n",
              "      }\n",
              "\n",
              "      [theme=dark] .colab-df-generate {\n",
              "        background-color: #3B4455;\n",
              "        fill: #D2E3FC;\n",
              "      }\n",
              "\n",
              "      [theme=dark] .colab-df-generate:hover {\n",
              "        background-color: #434B5C;\n",
              "        box-shadow: 0px 1px 3px 1px rgba(0, 0, 0, 0.15);\n",
              "        filter: drop-shadow(0px 1px 2px rgba(0, 0, 0, 0.3));\n",
              "        fill: #FFFFFF;\n",
              "      }\n",
              "    </style>\n",
              "    <button class=\"colab-df-generate\" onclick=\"generateWithVariable('data')\"\n",
              "            title=\"Generate code using this dataframe.\"\n",
              "            style=\"display:none;\">\n",
              "\n",
              "  <svg xmlns=\"http://www.w3.org/2000/svg\" height=\"24px\"viewBox=\"0 0 24 24\"\n",
              "       width=\"24px\">\n",
              "    <path d=\"M7,19H8.4L18.45,9,17,7.55,7,17.6ZM5,21V16.75L18.45,3.32a2,2,0,0,1,2.83,0l1.4,1.43a1.91,1.91,0,0,1,.58,1.4,1.91,1.91,0,0,1-.58,1.4L9.25,21ZM18.45,9,17,7.55Zm-12,3A5.31,5.31,0,0,0,4.9,8.1,5.31,5.31,0,0,0,1,6.5,5.31,5.31,0,0,0,4.9,4.9,5.31,5.31,0,0,0,6.5,1,5.31,5.31,0,0,0,8.1,4.9,5.31,5.31,0,0,0,12,6.5,5.46,5.46,0,0,0,6.5,12Z\"/>\n",
              "  </svg>\n",
              "    </button>\n",
              "    <script>\n",
              "      (() => {\n",
              "      const buttonEl =\n",
              "        document.querySelector('#id_849bc723-eed7-4538-83b8-bb4469adc716 button.colab-df-generate');\n",
              "      buttonEl.style.display =\n",
              "        google.colab.kernel.accessAllowed ? 'block' : 'none';\n",
              "\n",
              "      buttonEl.onclick = () => {\n",
              "        google.colab.notebook.generateWithVariable('data');\n",
              "      }\n",
              "      })();\n",
              "    </script>\n",
              "  </div>\n",
              "\n",
              "    </div>\n",
              "  </div>\n"
            ],
            "application/vnd.google.colaboratory.intrinsic+json": {
              "type": "dataframe",
              "variable_name": "data",
              "summary": "{\n  \"name\": \"data\",\n  \"rows\": 9744,\n  \"fields\": [\n    {\n      \"column\": \"datetime\",\n      \"properties\": {\n        \"dtype\": \"date\",\n        \"min\": \"2011-01-01 00:00:00\",\n        \"max\": \"2012-12-19 23:00:00\",\n        \"num_unique_values\": 9744,\n        \"samples\": [\n          \"2012-03-10 09:00:00\",\n          \"2011-03-08 13:00:00\",\n          \"2012-11-06 16:00:00\"\n        ],\n        \"semantic_type\": \"\",\n        \"description\": \"\"\n      }\n    },\n    {\n      \"column\": \"season\",\n      \"properties\": {\n        \"dtype\": \"category\",\n        \"num_unique_values\": 4,\n        \"samples\": [\n          \"summer\",\n          \"winter\",\n          \"spring\"\n        ],\n        \"semantic_type\": \"\",\n        \"description\": \"\"\n      }\n    },\n    {\n      \"column\": \"holiday\",\n      \"properties\": {\n        \"dtype\": \"category\",\n        \"num_unique_values\": 2,\n        \"samples\": [\n          \"Holiday\",\n          \"Not Holiday\"\n        ],\n        \"semantic_type\": \"\",\n        \"description\": \"\"\n      }\n    },\n    {\n      \"column\": \"workingday\",\n      \"properties\": {\n        \"dtype\": \"category\",\n        \"num_unique_values\": 2,\n        \"samples\": [\n          \"workingday\",\n          \"weekend or holiday\"\n        ],\n        \"semantic_type\": \"\",\n        \"description\": \"\"\n      }\n    },\n    {\n      \"column\": \"weather\",\n      \"properties\": {\n        \"dtype\": \"category\",\n        \"num_unique_values\": 4,\n        \"samples\": [\n          2,\n          4\n        ],\n        \"semantic_type\": \"\",\n        \"description\": \"\"\n      }\n    },\n    {\n      \"column\": \"temp\",\n      \"properties\": {\n        \"dtype\": \"number\",\n        \"std\": 7.680152236397904,\n        \"min\": 0.82,\n        \"max\": 41.0,\n        \"num_unique_values\": 49,\n        \"samples\": [\n          6.56,\n          1.64\n        ],\n        \"semantic_type\": \"\",\n        \"description\": \"\"\n      }\n    },\n    {\n      \"column\": \"atemp\",\n      \"properties\": {\n        \"dtype\": \"number\",\n        \"std\": 8.382676839506884,\n        \"min\": 0.76,\n        \"max\": 45.455,\n        \"num_unique_values\": 60,\n        \"samples\": [\n          14.395,\n          16.665\n        ],\n        \"semantic_type\": \"\",\n        \"description\": \"\"\n      }\n    },\n    {\n      \"column\": \"humidity\",\n      \"properties\": {\n        \"dtype\": \"number\",\n        \"std\": 19,\n        \"min\": 0,\n        \"max\": 100,\n        \"num_unique_values\": 89,\n        \"samples\": [\n          29,\n          61\n        ],\n        \"semantic_type\": \"\",\n        \"description\": \"\"\n      }\n    },\n    {\n      \"column\": \"windspeed\",\n      \"properties\": {\n        \"dtype\": \"number\",\n        \"std\": 8.174210305495548,\n        \"min\": 0.0,\n        \"max\": 56.9969,\n        \"num_unique_values\": 28,\n        \"samples\": [\n          22.0028,\n          43.0006\n        ],\n        \"semantic_type\": \"\",\n        \"description\": \"\"\n      }\n    },\n    {\n      \"column\": \"casual\",\n      \"properties\": {\n        \"dtype\": \"number\",\n        \"std\": 26,\n        \"min\": 0,\n        \"max\": 116,\n        \"num_unique_values\": 117,\n        \"samples\": [\n          59,\n          2\n        ],\n        \"semantic_type\": \"\",\n        \"description\": \"\"\n      }\n    },\n    {\n      \"column\": \"registered\",\n      \"properties\": {\n        \"dtype\": \"number\",\n        \"std\": 113,\n        \"min\": 0,\n        \"max\": 501,\n        \"num_unique_values\": 498,\n        \"samples\": [\n          403,\n          95\n        ],\n        \"semantic_type\": \"\",\n        \"description\": \"\"\n      }\n    },\n    {\n      \"column\": \"count\",\n      \"properties\": {\n        \"dtype\": \"number\",\n        \"std\": 131,\n        \"min\": 1,\n        \"max\": 590,\n        \"num_unique_values\": 567,\n        \"samples\": [\n          503,\n          430\n        ],\n        \"semantic_type\": \"\",\n        \"description\": \"\"\n      }\n    }\n  ]\n}"
            }
          },
          "metadata": {},
          "execution_count": 58
        }
      ]
    },
    {
      "cell_type": "markdown",
      "source": [
        "All the outlier are treated successfully\n"
      ],
      "metadata": {
        "id": "W5Vk8ttQgDvn"
      }
    },
    {
      "cell_type": "code",
      "source": [
        "#1d.Check the distribution of numerical varibales\n",
        "data['casual'].plot(kind='hist',title='count of casual bikes',color='pink')\n"
      ],
      "metadata": {
        "id": "qDpSpKImsPAr",
        "colab": {
          "base_uri": "https://localhost:8080/",
          "height": 469
        },
        "outputId": "5d4011a2-57f3-460c-ef68-9ee1c819c427"
      },
      "execution_count": null,
      "outputs": [
        {
          "output_type": "execute_result",
          "data": {
            "text/plain": [
              "<Axes: title={'center': 'count of casual bikes'}, ylabel='Frequency'>"
            ]
          },
          "metadata": {},
          "execution_count": 59
        },
        {
          "output_type": "display_data",
          "data": {
            "text/plain": [
              "<Figure size 640x480 with 1 Axes>"
            ],
            "image/png": "[encoded data removed]"
          },
          "metadata": {}
        }
      ]
    },
    {
      "cell_type": "code",
      "source": [
        "#1d.Check the distribution of numerical varibales\n",
        "\n",
        "plt.xlabel('count of registered bikes')\n",
        "sns.histplot(data['registered'])\n"
      ],
      "metadata": {
        "colab": {
          "base_uri": "https://localhost:8080/",
          "height": 466
        },
        "id": "nsUyKk2B11Qf",
        "outputId": "d768e54b-7914-487f-e1ce-3c6e29042155"
      },
      "execution_count": null,
      "outputs": [
        {
          "output_type": "execute_result",
          "data": {
            "text/plain": [
              "<Axes: xlabel='count of registered bikes', ylabel='Count'>"
            ]
          },
          "metadata": {},
          "execution_count": 88
        },
        {
          "output_type": "display_data",
          "data": {
            "text/plain": [
              "<Figure size 640x480 with 1 Axes>"
            ],
            "image/png": "[encoded data removed]"
          },
          "metadata": {}
        }
      ]
    },
    {
      "cell_type": "code",
      "source": [
        "#1d.Check the distribution of numerical varibales\n",
        "data['count'].plot(kind='hist',title='count of total rental bikes')"
      ],
      "metadata": {
        "colab": {
          "base_uri": "https://localhost:8080/",
          "height": 469
        },
        "id": "iL1X1rJO117-",
        "outputId": "dfc0be62-b802-44eb-d69b-d50b199b8569"
      },
      "execution_count": null,
      "outputs": [
        {
          "output_type": "execute_result",
          "data": {
            "text/plain": [
              "<Axes: title={'center': 'count of total rental bikes'}, ylabel='Frequency'>"
            ]
          },
          "metadata": {},
          "execution_count": 89
        },
        {
          "output_type": "display_data",
          "data": {
            "text/plain": [
              "<Figure size 640x480 with 1 Axes>"
            ],
            "image/png": "[encoded data removed]"
          },
          "metadata": {}
        }
      ]
    },
    {
      "cell_type": "code",
      "source": [
        "data.head()"
      ],
      "metadata": {
        "colab": {
          "base_uri": "https://localhost:8080/",
          "height": 206
        },
        "id": "A6ixknKd6USw",
        "outputId": "63b8ba32-2ee7-47aa-bab7-baa67e247a2d"
      },
      "execution_count": null,
      "outputs": [
        {
          "output_type": "execute_result",
          "data": {
            "text/plain": [
              "             datetime  season      holiday          workingday weather  temp  \\\n",
              "0 2011-01-01 00:00:00  spring  Not Holiday  weekend or holiday       1  9.84   \n",
              "1 2011-01-01 01:00:00  spring  Not Holiday  weekend or holiday       1  9.02   \n",
              "2 2011-01-01 02:00:00  spring  Not Holiday  weekend or holiday       1  9.02   \n",
              "3 2011-01-01 03:00:00  spring  Not Holiday  weekend or holiday       1  9.84   \n",
              "4 2011-01-01 04:00:00  spring  Not Holiday  weekend or holiday       1  9.84   \n",
              "\n",
              "    atemp  humidity  windspeed  casual  registered  count  \n",
              "0  14.395        81        0.0       3          13     16  \n",
              "1  13.635        80        0.0       8          32     40  \n",
              "2  13.635        80        0.0       5          27     32  \n",
              "3  14.395        75        0.0       3          10     13  \n",
              "4  14.395        75        0.0       0           1      1  "
            ],
            "text/html": [
              "\n",
              "  <div id=\"df-2c832fd0-dcd6-41f9-a00a-a5d771817726\" class=\"colab-df-container\">\n",
              "    <div>\n",
              "<style scoped>\n",
              "    .dataframe tbody tr th:only-of-type {\n",
              "        vertical-align: middle;\n",
              "    }\n",
              "\n",
              "    .dataframe tbody tr th {\n",
              "        vertical-align: top;\n",
              "    }\n",
              "\n",
              "    .dataframe thead th {\n",
              "        text-align: right;\n",
              "    }\n",
              "</style>\n",
              "<table border=\"1\" class=\"dataframe\">\n",
              "  <thead>\n",
              "    <tr style=\"text-align: right;\">\n",
              "      <th></th>\n",
              "      <th>datetime</th>\n",
              "      <th>season</th>\n",
              "      <th>holiday</th>\n",
              "      <th>workingday</th>\n",
              "      <th>weather</th>\n",
              "      <th>temp</th>\n",
              "      <th>atemp</th>\n",
              "      <th>humidity</th>\n",
              "      <th>windspeed</th>\n",
              "      <th>casual</th>\n",
              "      <th>registered</th>\n",
              "      <th>count</th>\n",
              "    </tr>\n",
              "  </thead>\n",
              "  <tbody>\n",
              "    <tr>\n",
              "      <th>0</th>\n",
              "      <td>2011-01-01 00:00:00</td>\n",
              "      <td>spring</td>\n",
              "      <td>Not Holiday</td>\n",
              "      <td>weekend or holiday</td>\n",
              "      <td>1</td>\n",
              "      <td>9.84</td>\n",
              "      <td>14.395</td>\n",
              "      <td>81</td>\n",
              "      <td>0.0</td>\n",
              "      <td>3</td>\n",
              "      <td>13</td>\n",
              "      <td>16</td>\n",
              "    </tr>\n",
              "    <tr>\n",
              "      <th>1</th>\n",
              "      <td>2011-01-01 01:00:00</td>\n",
              "      <td>spring</td>\n",
              "      <td>Not Holiday</td>\n",
              "      <td>weekend or holiday</td>\n",
              "      <td>1</td>\n",
              "      <td>9.02</td>\n",
              "      <td>13.635</td>\n",
              "      <td>80</td>\n",
              "      <td>0.0</td>\n",
              "      <td>8</td>\n",
              "      <td>32</td>\n",
              "      <td>40</td>\n",
              "    </tr>\n",
              "    <tr>\n",
              "      <th>2</th>\n",
              "      <td>2011-01-01 02:00:00</td>\n",
              "      <td>spring</td>\n",
              "      <td>Not Holiday</td>\n",
              "      <td>weekend or holiday</td>\n",
              "      <td>1</td>\n",
              "      <td>9.02</td>\n",
              "      <td>13.635</td>\n",
              "      <td>80</td>\n",
              "      <td>0.0</td>\n",
              "      <td>5</td>\n",
              "      <td>27</td>\n",
              "      <td>32</td>\n",
              "    </tr>\n",
              "    <tr>\n",
              "      <th>3</th>\n",
              "      <td>2011-01-01 03:00:00</td>\n",
              "      <td>spring</td>\n",
              "      <td>Not Holiday</td>\n",
              "      <td>weekend or holiday</td>\n",
              "      <td>1</td>\n",
              "      <td>9.84</td>\n",
              "      <td>14.395</td>\n",
              "      <td>75</td>\n",
              "      <td>0.0</td>\n",
              "      <td>3</td>\n",
              "      <td>10</td>\n",
              "      <td>13</td>\n",
              "    </tr>\n",
              "    <tr>\n",
              "      <th>4</th>\n",
              "      <td>2011-01-01 04:00:00</td>\n",
              "      <td>spring</td>\n",
              "      <td>Not Holiday</td>\n",
              "      <td>weekend or holiday</td>\n",
              "      <td>1</td>\n",
              "      <td>9.84</td>\n",
              "      <td>14.395</td>\n",
              "      <td>75</td>\n",
              "      <td>0.0</td>\n",
              "      <td>0</td>\n",
              "      <td>1</td>\n",
              "      <td>1</td>\n",
              "    </tr>\n",
              "  </tbody>\n",
              "</table>\n",
              "</div>\n",
              "    <div class=\"colab-df-buttons\">\n",
              "\n",
              "  <div class=\"colab-df-container\">\n",
              "    <button class=\"colab-df-convert\" onclick=\"convertToInteractive('df-2c832fd0-dcd6-41f9-a00a-a5d771817726')\"\n",
              "            title=\"Convert this dataframe to an interactive table.\"\n",
              "            style=\"display:none;\">\n",
              "\n",
              "  <svg xmlns=\"http://www.w3.org/2000/svg\" height=\"24px\" viewBox=\"0 -960 960 960\">\n",
              "    <path d=\"M120-120v-720h720v720H120Zm60-500h600v-160H180v160Zm220 220h160v-160H400v160Zm0 220h160v-160H400v160ZM180-400h160v-160H180v160Zm440 0h160v-160H620v160ZM180-180h160v-160H180v160Zm440 0h160v-160H620v160Z\"/>\n",
              "  </svg>\n",
              "    </button>\n",
              "\n",
              "  <style>\n",
              "    .colab-df-container {\n",
              "      display:flex;\n",
              "      gap: 12px;\n",
              "    }\n",
              "\n",
              "    .colab-df-convert {\n",
              "      background-color: #E8F0FE;\n",
              "      border: none;\n",
              "      border-radius: 50%;\n",
              "      cursor: pointer;\n",
              "      display: none;\n",
              "      fill: #1967D2;\n",
              "      height: 32px;\n",
              "      padding: 0 0 0 0;\n",
              "      width: 32px;\n",
              "    }\n",
              "\n",
              "    .colab-df-convert:hover {\n",
              "      background-color: #E2EBFA;\n",
              "      box-shadow: 0px 1px 2px rgba(60, 64, 67, 0.3), 0px 1px 3px 1px rgba(60, 64, 67, 0.15);\n",
              "      fill: #174EA6;\n",
              "    }\n",
              "\n",
              "    .colab-df-buttons div {\n",
              "      margin-bottom: 4px;\n",
              "    }\n",
              "\n",
              "    [theme=dark] .colab-df-convert {\n",
              "      background-color: #3B4455;\n",
              "      fill: #D2E3FC;\n",
              "    }\n",
              "\n",
              "    [theme=dark] .colab-df-convert:hover {\n",
              "      background-color: #434B5C;\n",
              "      box-shadow: 0px 1px 3px 1px rgba(0, 0, 0, 0.15);\n",
              "      filter: drop-shadow(0px 1px 2px rgba(0, 0, 0, 0.3));\n",
              "      fill: #FFFFFF;\n",
              "    }\n",
              "  </style>\n",
              "\n",
              "    <script>\n",
              "      const buttonEl =\n",
              "        document.querySelector('#df-2c832fd0-dcd6-41f9-a00a-a5d771817726 button.colab-df-convert');\n",
              "      buttonEl.style.display =\n",
              "        google.colab.kernel.accessAllowed ? 'block' : 'none';\n",
              "\n",
              "      async function convertToInteractive(key) {\n",
              "        const element = document.querySelector('#df-2c832fd0-dcd6-41f9-a00a-a5d771817726');\n",
              "        const dataTable =\n",
              "          await google.colab.kernel.invokeFunction('convertToInteractive',\n",
              "                                                    [key], {});\n",
              "        if (!dataTable) return;\n",
              "\n",
              "        const docLinkHtml = 'Like what you see? Visit the ' +\n",
              "          '<a target=\"_blank\" href=https://colab.research.google.com/notebooks/data_table.ipynb>data table notebook</a>'\n",
              "          + ' to learn more about interactive tables.';\n",
              "        element.innerHTML = '';\n",
              "        dataTable['output_type'] = 'display_data';\n",
              "        await google.colab.output.renderOutput(dataTable, element);\n",
              "        const docLink = document.createElement('div');\n",
              "        docLink.innerHTML = docLinkHtml;\n",
              "        element.appendChild(docLink);\n",
              "      }\n",
              "    </script>\n",
              "  </div>\n",
              "\n",
              "\n",
              "<div id=\"df-d131f58e-f7eb-4286-a4d4-c4f03543bf36\">\n",
              "  <button class=\"colab-df-quickchart\" onclick=\"quickchart('df-d131f58e-f7eb-4286-a4d4-c4f03543bf36')\"\n",
              "            title=\"Suggest charts\"\n",
              "            style=\"display:none;\">\n",
              "\n",
              "<svg xmlns=\"http://www.w3.org/2000/svg\" height=\"24px\"viewBox=\"0 0 24 24\"\n",
              "     width=\"24px\">\n",
              "    <g>\n",
              "        <path d=\"M19 3H5c-1.1 0-2 .9-2 2v14c0 1.1.9 2 2 2h14c1.1 0 2-.9 2-2V5c0-1.1-.9-2-2-2zM9 17H7v-7h2v7zm4 0h-2V7h2v10zm4 0h-2v-4h2v4z\"/>\n",
              "    </g>\n",
              "</svg>\n",
              "  </button>\n",
              "\n",
              "<style>\n",
              "  .colab-df-quickchart {\n",
              "      --bg-color: #E8F0FE;\n",
              "      --fill-color: #1967D2;\n",
              "      --hover-bg-color: #E2EBFA;\n",
              "      --hover-fill-color: #174EA6;\n",
              "      --disabled-fill-color: #AAA;\n",
              "      --disabled-bg-color: #DDD;\n",
              "  }\n",
              "\n",
              "  [theme=dark] .colab-df-quickchart {\n",
              "      --bg-color: #3B4455;\n",
              "      --fill-color: #D2E3FC;\n",
              "      --hover-bg-color: #434B5C;\n",
              "      --hover-fill-color: #FFFFFF;\n",
              "      --disabled-bg-color: #3B4455;\n",
              "      --disabled-fill-color: #666;\n",
              "  }\n",
              "\n",
              "  .colab-df-quickchart {\n",
              "    background-color: var(--bg-color);\n",
              "    border: none;\n",
              "    border-radius: 50%;\n",
              "    cursor: pointer;\n",
              "    display: none;\n",
              "    fill: var(--fill-color);\n",
              "    height: 32px;\n",
              "    padding: 0;\n",
              "    width: 32px;\n",
              "  }\n",
              "\n",
              "  .colab-df-quickchart:hover {\n",
              "    background-color: var(--hover-bg-color);\n",
              "    box-shadow: 0 1px 2px rgba(60, 64, 67, 0.3), 0 1px 3px 1px rgba(60, 64, 67, 0.15);\n",
              "    fill: var(--button-hover-fill-color);\n",
              "  }\n",
              "\n",
              "  .colab-df-quickchart-complete:disabled,\n",
              "  .colab-df-quickchart-complete:disabled:hover {\n",
              "    background-color: var(--disabled-bg-color);\n",
              "    fill: var(--disabled-fill-color);\n",
              "    box-shadow: none;\n",
              "  }\n",
              "\n",
              "  .colab-df-spinner {\n",
              "    border: 2px solid var(--fill-color);\n",
              "    border-color: transparent;\n",
              "    border-bottom-color: var(--fill-color);\n",
              "    animation:\n",
              "      spin 1s steps(1) infinite;\n",
              "  }\n",
              "\n",
              "  @keyframes spin {\n",
              "    0% {\n",
              "      border-color: transparent;\n",
              "      border-bottom-color: var(--fill-color);\n",
              "      border-left-color: var(--fill-color);\n",
              "    }\n",
              "    20% {\n",
              "      border-color: transparent;\n",
              "      border-left-color: var(--fill-color);\n",
              "      border-top-color: var(--fill-color);\n",
              "    }\n",
              "    30% {\n",
              "      border-color: transparent;\n",
              "      border-left-color: var(--fill-color);\n",
              "      border-top-color: var(--fill-color);\n",
              "      border-right-color: var(--fill-color);\n",
              "    }\n",
              "    40% {\n",
              "      border-color: transparent;\n",
              "      border-right-color: var(--fill-color);\n",
              "      border-top-color: var(--fill-color);\n",
              "    }\n",
              "    60% {\n",
              "      border-color: transparent;\n",
              "      border-right-color: var(--fill-color);\n",
              "    }\n",
              "    80% {\n",
              "      border-color: transparent;\n",
              "      border-right-color: var(--fill-color);\n",
              "      border-bottom-color: var(--fill-color);\n",
              "    }\n",
              "    90% {\n",
              "      border-color: transparent;\n",
              "      border-bottom-color: var(--fill-color);\n",
              "    }\n",
              "  }\n",
              "</style>\n",
              "\n",
              "  <script>\n",
              "    async function quickchart(key) {\n",
              "      const quickchartButtonEl =\n",
              "        document.querySelector('#' + key + ' button');\n",
              "      quickchartButtonEl.disabled = true;  // To prevent multiple clicks.\n",
              "      quickchartButtonEl.classList.add('colab-df-spinner');\n",
              "      try {\n",
              "        const charts = await google.colab.kernel.invokeFunction(\n",
              "            'suggestCharts', [key], {});\n",
              "      } catch (error) {\n",
              "        console.error('Error during call to suggestCharts:', error);\n",
              "      }\n",
              "      quickchartButtonEl.classList.remove('colab-df-spinner');\n",
              "      quickchartButtonEl.classList.add('colab-df-quickchart-complete');\n",
              "    }\n",
              "    (() => {\n",
              "      let quickchartButtonEl =\n",
              "        document.querySelector('#df-d131f58e-f7eb-4286-a4d4-c4f03543bf36 button');\n",
              "      quickchartButtonEl.style.display =\n",
              "        google.colab.kernel.accessAllowed ? 'block' : 'none';\n",
              "    })();\n",
              "  </script>\n",
              "</div>\n",
              "\n",
              "    </div>\n",
              "  </div>\n"
            ],
            "application/vnd.google.colaboratory.intrinsic+json": {
              "type": "dataframe",
              "variable_name": "data",
              "summary": "{\n  \"name\": \"data\",\n  \"rows\": 9744,\n  \"fields\": [\n    {\n      \"column\": \"datetime\",\n      \"properties\": {\n        \"dtype\": \"date\",\n        \"min\": \"2011-01-01 00:00:00\",\n        \"max\": \"2012-12-19 23:00:00\",\n        \"num_unique_values\": 9744,\n        \"samples\": [\n          \"2012-03-10 09:00:00\",\n          \"2011-03-08 13:00:00\",\n          \"2012-11-06 16:00:00\"\n        ],\n        \"semantic_type\": \"\",\n        \"description\": \"\"\n      }\n    },\n    {\n      \"column\": \"season\",\n      \"properties\": {\n        \"dtype\": \"category\",\n        \"num_unique_values\": 4,\n        \"samples\": [\n          \"summer\",\n          \"winter\",\n          \"spring\"\n        ],\n        \"semantic_type\": \"\",\n        \"description\": \"\"\n      }\n    },\n    {\n      \"column\": \"holiday\",\n      \"properties\": {\n        \"dtype\": \"category\",\n        \"num_unique_values\": 2,\n        \"samples\": [\n          \"Holiday\",\n          \"Not Holiday\"\n        ],\n        \"semantic_type\": \"\",\n        \"description\": \"\"\n      }\n    },\n    {\n      \"column\": \"workingday\",\n      \"properties\": {\n        \"dtype\": \"category\",\n        \"num_unique_values\": 2,\n        \"samples\": [\n          \"workingday\",\n          \"weekend or holiday\"\n        ],\n        \"semantic_type\": \"\",\n        \"description\": \"\"\n      }\n    },\n    {\n      \"column\": \"weather\",\n      \"properties\": {\n        \"dtype\": \"category\",\n        \"num_unique_values\": 4,\n        \"samples\": [\n          2,\n          4\n        ],\n        \"semantic_type\": \"\",\n        \"description\": \"\"\n      }\n    },\n    {\n      \"column\": \"temp\",\n      \"properties\": {\n        \"dtype\": \"number\",\n        \"std\": 7.680152236397904,\n        \"min\": 0.82,\n        \"max\": 41.0,\n        \"num_unique_values\": 49,\n        \"samples\": [\n          6.56,\n          1.64\n        ],\n        \"semantic_type\": \"\",\n        \"description\": \"\"\n      }\n    },\n    {\n      \"column\": \"atemp\",\n      \"properties\": {\n        \"dtype\": \"number\",\n        \"std\": 8.382676839506884,\n        \"min\": 0.76,\n        \"max\": 45.455,\n        \"num_unique_values\": 60,\n        \"samples\": [\n          14.395,\n          16.665\n        ],\n        \"semantic_type\": \"\",\n        \"description\": \"\"\n      }\n    },\n    {\n      \"column\": \"humidity\",\n      \"properties\": {\n        \"dtype\": \"number\",\n        \"std\": 19,\n        \"min\": 0,\n        \"max\": 100,\n        \"num_unique_values\": 89,\n        \"samples\": [\n          29,\n          61\n        ],\n        \"semantic_type\": \"\",\n        \"description\": \"\"\n      }\n    },\n    {\n      \"column\": \"windspeed\",\n      \"properties\": {\n        \"dtype\": \"number\",\n        \"std\": 8.174210305495548,\n        \"min\": 0.0,\n        \"max\": 56.9969,\n        \"num_unique_values\": 28,\n        \"samples\": [\n          22.0028,\n          43.0006\n        ],\n        \"semantic_type\": \"\",\n        \"description\": \"\"\n      }\n    },\n    {\n      \"column\": \"casual\",\n      \"properties\": {\n        \"dtype\": \"number\",\n        \"std\": 26,\n        \"min\": 0,\n        \"max\": 116,\n        \"num_unique_values\": 117,\n        \"samples\": [\n          59,\n          2\n        ],\n        \"semantic_type\": \"\",\n        \"description\": \"\"\n      }\n    },\n    {\n      \"column\": \"registered\",\n      \"properties\": {\n        \"dtype\": \"number\",\n        \"std\": 113,\n        \"min\": 0,\n        \"max\": 501,\n        \"num_unique_values\": 498,\n        \"samples\": [\n          403,\n          95\n        ],\n        \"semantic_type\": \"\",\n        \"description\": \"\"\n      }\n    },\n    {\n      \"column\": \"count\",\n      \"properties\": {\n        \"dtype\": \"number\",\n        \"std\": 131,\n        \"min\": 1,\n        \"max\": 590,\n        \"num_unique_values\": 567,\n        \"samples\": [\n          503,\n          430\n        ],\n        \"semantic_type\": \"\",\n        \"description\": \"\"\n      }\n    }\n  ]\n}"
            }
          },
          "metadata": {},
          "execution_count": 90
        }
      ]
    },
    {
      "cell_type": "code",
      "source": [
        "data['season'].value_counts()"
      ],
      "metadata": {
        "colab": {
          "base_uri": "https://localhost:8080/"
        },
        "id": "QOEI_OzL8I2d",
        "outputId": "1979a6a0-aa40-4d07-9a19-f3a2a2f1310c"
      },
      "execution_count": null,
      "outputs": [
        {
          "output_type": "execute_result",
          "data": {
            "text/plain": [
              "season\n",
              "spring    2600\n",
              "winter    2493\n",
              "summer    2346\n",
              "fall      2305\n",
              "Name: count, dtype: int64"
            ]
          },
          "metadata": {},
          "execution_count": 23
        }
      ]
    },
    {
      "cell_type": "code",
      "source": [
        "#1d.Checkinh Univarate analysis for categorical values on season\n",
        "plt.figure(figsize=(5,3))\n",
        "sns.countplot(data=data, x='season', order = data['season'].value_counts().index)\n",
        "plt.show()"
      ],
      "metadata": {
        "colab": {
          "base_uri": "https://localhost:8080/",
          "height": 311
        },
        "id": "zYnyLvg69H5q",
        "outputId": "63801d56-0c82-48b4-c634-1a9c99c2f90b"
      },
      "execution_count": null,
      "outputs": [
        {
          "output_type": "display_data",
          "data": {
            "text/plain": [
              "<Figure size 500x300 with 1 Axes>"
            ],
            "image/png": "[encoded data removed]"
          },
          "metadata": {}
        }
      ]
    },
    {
      "cell_type": "markdown",
      "source": [
        "From the above chart we can see all season are equally distributed ,which means season doesn't impact the count of registered bikes.But there is a slight less count in the spring season"
      ],
      "metadata": {
        "id": "iyu7HuaW9a4Y"
      }
    },
    {
      "cell_type": "code",
      "source": [
        "#1d.Checkinh Univarate analysis for categorical values on holiday\n",
        "plt.figure(figsize=(5,3))\n",
        "sns.countplot(data=data, x='holiday', order = data['holiday'].value_counts().index,color='violet')\n",
        "plt.show()"
      ],
      "metadata": {
        "colab": {
          "base_uri": "https://localhost:8080/",
          "height": 311
        },
        "id": "7H7Kdp6_9yKx",
        "outputId": "a77b3c77-5551-42a1-cde4-37943a7b7b25"
      },
      "execution_count": null,
      "outputs": [
        {
          "output_type": "display_data",
          "data": {
            "text/plain": [
              "<Figure size 500x300 with 1 Axes>"
            ],
            "image/png": "[encoded data removed]"
          },
          "metadata": {}
        }
      ]
    },
    {
      "cell_type": "markdown",
      "source": [
        "From the above graph ,we can see 99% of the bike are registered on not holiday days"
      ],
      "metadata": {
        "id": "FS6NeT2K-Gyo"
      }
    },
    {
      "cell_type": "code",
      "source": [
        "#1d.Checkinh Univarate analysis for categorical values on workingday\n",
        "plt.figure(figsize=(5,3))\n",
        "sns.countplot(data=data, x='workingday', order = data['workingday'].value_counts().index,color='orange')\n",
        "plt.show()"
      ],
      "metadata": {
        "colab": {
          "base_uri": "https://localhost:8080/",
          "height": 311
        },
        "id": "agbB9RhQ-CfA",
        "outputId": "8de5f8f9-bbac-43f9-97a0-0f2cb9e9ef0c"
      },
      "execution_count": null,
      "outputs": [
        {
          "output_type": "display_data",
          "data": {
            "text/plain": [
              "<Figure size 500x300 with 1 Axes>"
            ],
            "image/png": "[encoded data removed]"
          },
          "metadata": {}
        }
      ]
    },
    {
      "cell_type": "markdown",
      "source": [
        "from the above graph ,we can see the registration of bike are 50 percent more in working day than the weekend or holiday"
      ],
      "metadata": {
        "id": "G1NZnpXJ-Rdv"
      }
    },
    {
      "cell_type": "code",
      "source": [
        "#1d.Checkinh Univarate analysis for categorical values on weather\n",
        "plt.figure(figsize=(5,3))\n",
        "sns.countplot(data=data, x='weather', order = data['weather'].value_counts().index,color='brown')\n",
        "plt.show()"
      ],
      "metadata": {
        "colab": {
          "base_uri": "https://localhost:8080/",
          "height": 311
        },
        "id": "oFzXS68X-gOX",
        "outputId": "5a0e607c-58b2-499e-8be0-82a81ef8b96a"
      },
      "execution_count": null,
      "outputs": [
        {
          "output_type": "display_data",
          "data": {
            "text/plain": [
              "<Figure size 500x300 with 1 Axes>"
            ],
            "image/png": "[encoded data removed]"
          },
          "metadata": {}
        }
      ]
    },
    {
      "cell_type": "markdown",
      "source": [
        "1: Clear, Few clouds, partly cloudy, partly cloudy\n",
        "2: Mist + Cloudy, Mist + Broken clouds, Mist + Few clouds, Mist\n",
        "3: Light Snow, Light Rain + Thunderstorm + Scattered clouds, Light Rain + Scattered clouds\n",
        "4: Heavy Rain + Ice Pallets + Thunderstorm + Mist, Snow + Fog\n",
        "\n",
        "\n",
        "From the above graph,we can see there is no bike has been registered during the haeavy rain,which means weateher is crucial factor determining the bike demand"
      ],
      "metadata": {
        "id": "Xfo0_KqZ-tI6"
      }
    },
    {
      "cell_type": "code",
      "source": [],
      "metadata": {
        "id": "TW4bHTUPJyAE"
      },
      "execution_count": null,
      "outputs": []
    },
    {
      "cell_type": "code",
      "source": [
        "data.dtypes"
      ],
      "metadata": {
        "colab": {
          "base_uri": "https://localhost:8080/"
        },
        "id": "RDRdP2e2_Fbi",
        "outputId": "ee8affa4-c51a-4cbc-ef2e-341712e0ab39"
      },
      "execution_count": null,
      "outputs": [
        {
          "output_type": "execute_result",
          "data": {
            "text/plain": [
              "datetime      datetime64[ns]\n",
              "season              category\n",
              "holiday             category\n",
              "workingday          category\n",
              "weather             category\n",
              "temp                 float64\n",
              "atemp                float64\n",
              "humidity               int64\n",
              "windspeed            float64\n",
              "casual                 int64\n",
              "registered             int64\n",
              "count                  int64\n",
              "dtype: object"
            ]
          },
          "metadata": {},
          "execution_count": 96
        }
      ]
    },
    {
      "cell_type": "code",
      "source": [
        "#2Numeric -Numeric Relation checking for dependent and independent variables\n",
        "data_corr=data.select_dtypes(include=np.number)\n",
        "data_corr.head()"
      ],
      "metadata": {
        "colab": {
          "base_uri": "https://localhost:8080/",
          "height": 206
        },
        "id": "6JwHz_cp__1e",
        "outputId": "a815b771-3a40-44e1-b88d-736c4c003f4e"
      },
      "execution_count": null,
      "outputs": [
        {
          "output_type": "execute_result",
          "data": {
            "text/plain": [
              "   temp   atemp  humidity  windspeed  casual  registered  count\n",
              "0  9.84  14.395        81        0.0       3          13     16\n",
              "1  9.02  13.635        80        0.0       8          32     40\n",
              "2  9.02  13.635        80        0.0       5          27     32\n",
              "3  9.84  14.395        75        0.0       3          10     13\n",
              "4  9.84  14.395        75        0.0       0           1      1"
            ],
            "text/html": [
              "\n",
              "  <div id=\"df-e054d87c-467a-4f4a-8d65-68c3407d3cc8\" class=\"colab-df-container\">\n",
              "    <div>\n",
              "<style scoped>\n",
              "    .dataframe tbody tr th:only-of-type {\n",
              "        vertical-align: middle;\n",
              "    }\n",
              "\n",
              "    .dataframe tbody tr th {\n",
              "        vertical-align: top;\n",
              "    }\n",
              "\n",
              "    .dataframe thead th {\n",
              "        text-align: right;\n",
              "    }\n",
              "</style>\n",
              "<table border=\"1\" class=\"dataframe\">\n",
              "  <thead>\n",
              "    <tr style=\"text-align: right;\">\n",
              "      <th></th>\n",
              "      <th>temp</th>\n",
              "      <th>atemp</th>\n",
              "      <th>humidity</th>\n",
              "      <th>windspeed</th>\n",
              "      <th>casual</th>\n",
              "      <th>registered</th>\n",
              "      <th>count</th>\n",
              "    </tr>\n",
              "  </thead>\n",
              "  <tbody>\n",
              "    <tr>\n",
              "      <th>0</th>\n",
              "      <td>9.84</td>\n",
              "      <td>14.395</td>\n",
              "      <td>81</td>\n",
              "      <td>0.0</td>\n",
              "      <td>3</td>\n",
              "      <td>13</td>\n",
              "      <td>16</td>\n",
              "    </tr>\n",
              "    <tr>\n",
              "      <th>1</th>\n",
              "      <td>9.02</td>\n",
              "      <td>13.635</td>\n",
              "      <td>80</td>\n",
              "      <td>0.0</td>\n",
              "      <td>8</td>\n",
              "      <td>32</td>\n",
              "      <td>40</td>\n",
              "    </tr>\n",
              "    <tr>\n",
              "      <th>2</th>\n",
              "      <td>9.02</td>\n",
              "      <td>13.635</td>\n",
              "      <td>80</td>\n",
              "      <td>0.0</td>\n",
              "      <td>5</td>\n",
              "      <td>27</td>\n",
              "      <td>32</td>\n",
              "    </tr>\n",
              "    <tr>\n",
              "      <th>3</th>\n",
              "      <td>9.84</td>\n",
              "      <td>14.395</td>\n",
              "      <td>75</td>\n",
              "      <td>0.0</td>\n",
              "      <td>3</td>\n",
              "      <td>10</td>\n",
              "      <td>13</td>\n",
              "    </tr>\n",
              "    <tr>\n",
              "      <th>4</th>\n",
              "      <td>9.84</td>\n",
              "      <td>14.395</td>\n",
              "      <td>75</td>\n",
              "      <td>0.0</td>\n",
              "      <td>0</td>\n",
              "      <td>1</td>\n",
              "      <td>1</td>\n",
              "    </tr>\n",
              "  </tbody>\n",
              "</table>\n",
              "</div>\n",
              "    <div class=\"colab-df-buttons\">\n",
              "\n",
              "  <div class=\"colab-df-container\">\n",
              "    <button class=\"colab-df-convert\" onclick=\"convertToInteractive('df-e054d87c-467a-4f4a-8d65-68c3407d3cc8')\"\n",
              "            title=\"Convert this dataframe to an interactive table.\"\n",
              "            style=\"display:none;\">\n",
              "\n",
              "  <svg xmlns=\"http://www.w3.org/2000/svg\" height=\"24px\" viewBox=\"0 -960 960 960\">\n",
              "    <path d=\"M120-120v-720h720v720H120Zm60-500h600v-160H180v160Zm220 220h160v-160H400v160Zm0 220h160v-160H400v160ZM180-400h160v-160H180v160Zm440 0h160v-160H620v160ZM180-180h160v-160H180v160Zm440 0h160v-160H620v160Z\"/>\n",
              "  </svg>\n",
              "    </button>\n",
              "\n",
              "  <style>\n",
              "    .colab-df-container {\n",
              "      display:flex;\n",
              "      gap: 12px;\n",
              "    }\n",
              "\n",
              "    .colab-df-convert {\n",
              "      background-color: #E8F0FE;\n",
              "      border: none;\n",
              "      border-radius: 50%;\n",
              "      cursor: pointer;\n",
              "      display: none;\n",
              "      fill: #1967D2;\n",
              "      height: 32px;\n",
              "      padding: 0 0 0 0;\n",
              "      width: 32px;\n",
              "    }\n",
              "\n",
              "    .colab-df-convert:hover {\n",
              "      background-color: #E2EBFA;\n",
              "      box-shadow: 0px 1px 2px rgba(60, 64, 67, 0.3), 0px 1px 3px 1px rgba(60, 64, 67, 0.15);\n",
              "      fill: #174EA6;\n",
              "    }\n",
              "\n",
              "    .colab-df-buttons div {\n",
              "      margin-bottom: 4px;\n",
              "    }\n",
              "\n",
              "    [theme=dark] .colab-df-convert {\n",
              "      background-color: #3B4455;\n",
              "      fill: #D2E3FC;\n",
              "    }\n",
              "\n",
              "    [theme=dark] .colab-df-convert:hover {\n",
              "      background-color: #434B5C;\n",
              "      box-shadow: 0px 1px 3px 1px rgba(0, 0, 0, 0.15);\n",
              "      filter: drop-shadow(0px 1px 2px rgba(0, 0, 0, 0.3));\n",
              "      fill: #FFFFFF;\n",
              "    }\n",
              "  </style>\n",
              "\n",
              "    <script>\n",
              "      const buttonEl =\n",
              "        document.querySelector('#df-e054d87c-467a-4f4a-8d65-68c3407d3cc8 button.colab-df-convert');\n",
              "      buttonEl.style.display =\n",
              "        google.colab.kernel.accessAllowed ? 'block' : 'none';\n",
              "\n",
              "      async function convertToInteractive(key) {\n",
              "        const element = document.querySelector('#df-e054d87c-467a-4f4a-8d65-68c3407d3cc8');\n",
              "        const dataTable =\n",
              "          await google.colab.kernel.invokeFunction('convertToInteractive',\n",
              "                                                    [key], {});\n",
              "        if (!dataTable) return;\n",
              "\n",
              "        const docLinkHtml = 'Like what you see? Visit the ' +\n",
              "          '<a target=\"_blank\" href=https://colab.research.google.com/notebooks/data_table.ipynb>data table notebook</a>'\n",
              "          + ' to learn more about interactive tables.';\n",
              "        element.innerHTML = '';\n",
              "        dataTable['output_type'] = 'display_data';\n",
              "        await google.colab.output.renderOutput(dataTable, element);\n",
              "        const docLink = document.createElement('div');\n",
              "        docLink.innerHTML = docLinkHtml;\n",
              "        element.appendChild(docLink);\n",
              "      }\n",
              "    </script>\n",
              "  </div>\n",
              "\n",
              "\n",
              "<div id=\"df-160c308a-1c06-4a21-829d-fb7a947d347c\">\n",
              "  <button class=\"colab-df-quickchart\" onclick=\"quickchart('df-160c308a-1c06-4a21-829d-fb7a947d347c')\"\n",
              "            title=\"Suggest charts\"\n",
              "            style=\"display:none;\">\n",
              "\n",
              "<svg xmlns=\"http://www.w3.org/2000/svg\" height=\"24px\"viewBox=\"0 0 24 24\"\n",
              "     width=\"24px\">\n",
              "    <g>\n",
              "        <path d=\"M19 3H5c-1.1 0-2 .9-2 2v14c0 1.1.9 2 2 2h14c1.1 0 2-.9 2-2V5c0-1.1-.9-2-2-2zM9 17H7v-7h2v7zm4 0h-2V7h2v10zm4 0h-2v-4h2v4z\"/>\n",
              "    </g>\n",
              "</svg>\n",
              "  </button>\n",
              "\n",
              "<style>\n",
              "  .colab-df-quickchart {\n",
              "      --bg-color: #E8F0FE;\n",
              "      --fill-color: #1967D2;\n",
              "      --hover-bg-color: #E2EBFA;\n",
              "      --hover-fill-color: #174EA6;\n",
              "      --disabled-fill-color: #AAA;\n",
              "      --disabled-bg-color: #DDD;\n",
              "  }\n",
              "\n",
              "  [theme=dark] .colab-df-quickchart {\n",
              "      --bg-color: #3B4455;\n",
              "      --fill-color: #D2E3FC;\n",
              "      --hover-bg-color: #434B5C;\n",
              "      --hover-fill-color: #FFFFFF;\n",
              "      --disabled-bg-color: #3B4455;\n",
              "      --disabled-fill-color: #666;\n",
              "  }\n",
              "\n",
              "  .colab-df-quickchart {\n",
              "    background-color: var(--bg-color);\n",
              "    border: none;\n",
              "    border-radius: 50%;\n",
              "    cursor: pointer;\n",
              "    display: none;\n",
              "    fill: var(--fill-color);\n",
              "    height: 32px;\n",
              "    padding: 0;\n",
              "    width: 32px;\n",
              "  }\n",
              "\n",
              "  .colab-df-quickchart:hover {\n",
              "    background-color: var(--hover-bg-color);\n",
              "    box-shadow: 0 1px 2px rgba(60, 64, 67, 0.3), 0 1px 3px 1px rgba(60, 64, 67, 0.15);\n",
              "    fill: var(--button-hover-fill-color);\n",
              "  }\n",
              "\n",
              "  .colab-df-quickchart-complete:disabled,\n",
              "  .colab-df-quickchart-complete:disabled:hover {\n",
              "    background-color: var(--disabled-bg-color);\n",
              "    fill: var(--disabled-fill-color);\n",
              "    box-shadow: none;\n",
              "  }\n",
              "\n",
              "  .colab-df-spinner {\n",
              "    border: 2px solid var(--fill-color);\n",
              "    border-color: transparent;\n",
              "    border-bottom-color: var(--fill-color);\n",
              "    animation:\n",
              "      spin 1s steps(1) infinite;\n",
              "  }\n",
              "\n",
              "  @keyframes spin {\n",
              "    0% {\n",
              "      border-color: transparent;\n",
              "      border-bottom-color: var(--fill-color);\n",
              "      border-left-color: var(--fill-color);\n",
              "    }\n",
              "    20% {\n",
              "      border-color: transparent;\n",
              "      border-left-color: var(--fill-color);\n",
              "      border-top-color: var(--fill-color);\n",
              "    }\n",
              "    30% {\n",
              "      border-color: transparent;\n",
              "      border-left-color: var(--fill-color);\n",
              "      border-top-color: var(--fill-color);\n",
              "      border-right-color: var(--fill-color);\n",
              "    }\n",
              "    40% {\n",
              "      border-color: transparent;\n",
              "      border-right-color: var(--fill-color);\n",
              "      border-top-color: var(--fill-color);\n",
              "    }\n",
              "    60% {\n",
              "      border-color: transparent;\n",
              "      border-right-color: var(--fill-color);\n",
              "    }\n",
              "    80% {\n",
              "      border-color: transparent;\n",
              "      border-right-color: var(--fill-color);\n",
              "      border-bottom-color: var(--fill-color);\n",
              "    }\n",
              "    90% {\n",
              "      border-color: transparent;\n",
              "      border-bottom-color: var(--fill-color);\n",
              "    }\n",
              "  }\n",
              "</style>\n",
              "\n",
              "  <script>\n",
              "    async function quickchart(key) {\n",
              "      const quickchartButtonEl =\n",
              "        document.querySelector('#' + key + ' button');\n",
              "      quickchartButtonEl.disabled = true;  // To prevent multiple clicks.\n",
              "      quickchartButtonEl.classList.add('colab-df-spinner');\n",
              "      try {\n",
              "        const charts = await google.colab.kernel.invokeFunction(\n",
              "            'suggestCharts', [key], {});\n",
              "      } catch (error) {\n",
              "        console.error('Error during call to suggestCharts:', error);\n",
              "      }\n",
              "      quickchartButtonEl.classList.remove('colab-df-spinner');\n",
              "      quickchartButtonEl.classList.add('colab-df-quickchart-complete');\n",
              "    }\n",
              "    (() => {\n",
              "      let quickchartButtonEl =\n",
              "        document.querySelector('#df-160c308a-1c06-4a21-829d-fb7a947d347c button');\n",
              "      quickchartButtonEl.style.display =\n",
              "        google.colab.kernel.accessAllowed ? 'block' : 'none';\n",
              "    })();\n",
              "  </script>\n",
              "</div>\n",
              "\n",
              "    </div>\n",
              "  </div>\n"
            ],
            "application/vnd.google.colaboratory.intrinsic+json": {
              "type": "dataframe",
              "variable_name": "data_corr",
              "summary": "{\n  \"name\": \"data_corr\",\n  \"rows\": 9744,\n  \"fields\": [\n    {\n      \"column\": \"temp\",\n      \"properties\": {\n        \"dtype\": \"number\",\n        \"std\": 7.680152236397904,\n        \"min\": 0.82,\n        \"max\": 41.0,\n        \"num_unique_values\": 49,\n        \"samples\": [\n          6.56,\n          1.64,\n          39.36\n        ],\n        \"semantic_type\": \"\",\n        \"description\": \"\"\n      }\n    },\n    {\n      \"column\": \"atemp\",\n      \"properties\": {\n        \"dtype\": \"number\",\n        \"std\": 8.382676839506884,\n        \"min\": 0.76,\n        \"max\": 45.455,\n        \"num_unique_values\": 60,\n        \"samples\": [\n          14.395,\n          16.665,\n          31.82\n        ],\n        \"semantic_type\": \"\",\n        \"description\": \"\"\n      }\n    },\n    {\n      \"column\": \"humidity\",\n      \"properties\": {\n        \"dtype\": \"number\",\n        \"std\": 19,\n        \"min\": 0,\n        \"max\": 100,\n        \"num_unique_values\": 89,\n        \"samples\": [\n          29,\n          61,\n          63\n        ],\n        \"semantic_type\": \"\",\n        \"description\": \"\"\n      }\n    },\n    {\n      \"column\": \"windspeed\",\n      \"properties\": {\n        \"dtype\": \"number\",\n        \"std\": 8.174210305495548,\n        \"min\": 0.0,\n        \"max\": 56.9969,\n        \"num_unique_values\": 28,\n        \"samples\": [\n          22.0028,\n          43.0006,\n          11.0014\n        ],\n        \"semantic_type\": \"\",\n        \"description\": \"\"\n      }\n    },\n    {\n      \"column\": \"casual\",\n      \"properties\": {\n        \"dtype\": \"number\",\n        \"std\": 26,\n        \"min\": 0,\n        \"max\": 116,\n        \"num_unique_values\": 117,\n        \"samples\": [\n          59,\n          2,\n          39\n        ],\n        \"semantic_type\": \"\",\n        \"description\": \"\"\n      }\n    },\n    {\n      \"column\": \"registered\",\n      \"properties\": {\n        \"dtype\": \"number\",\n        \"std\": 113,\n        \"min\": 0,\n        \"max\": 501,\n        \"num_unique_values\": 498,\n        \"samples\": [\n          403,\n          95,\n          280\n        ],\n        \"semantic_type\": \"\",\n        \"description\": \"\"\n      }\n    },\n    {\n      \"column\": \"count\",\n      \"properties\": {\n        \"dtype\": \"number\",\n        \"std\": 131,\n        \"min\": 1,\n        \"max\": 590,\n        \"num_unique_values\": 567,\n        \"samples\": [\n          503,\n          430,\n          280\n        ],\n        \"semantic_type\": \"\",\n        \"description\": \"\"\n      }\n    }\n  ]\n}"
            }
          },
          "metadata": {},
          "execution_count": 60
        }
      ]
    },
    {
      "cell_type": "code",
      "source": [
        "data_corr.corr()"
      ],
      "metadata": {
        "colab": {
          "base_uri": "https://localhost:8080/",
          "height": 269
        },
        "id": "fb8zYSuNp1Js",
        "outputId": "546cbf10-be49-46de-c9c5-c21ddc55cfd7"
      },
      "execution_count": null,
      "outputs": [
        {
          "output_type": "execute_result",
          "data": {
            "text/plain": [
              "                temp     atemp  humidity  windspeed    casual  registered  \\\n",
              "temp        1.000000  0.986218 -0.001363  -0.032772  0.517067    0.279005   \n",
              "atemp       0.986218  1.000000  0.018167  -0.076602  0.509716    0.275498   \n",
              "humidity   -0.001363  0.018167  1.000000  -0.322095 -0.321399   -0.248771   \n",
              "windspeed  -0.032772 -0.076602 -0.322095   1.000000  0.102367    0.095712   \n",
              "casual      0.517067  0.509716 -0.321399   0.102367  1.000000    0.579132   \n",
              "registered  0.279005  0.275498 -0.248771   0.095712  0.579132    1.000000   \n",
              "count       0.348072  0.343522 -0.281677   0.104000  0.707446    0.985885   \n",
              "\n",
              "               count  \n",
              "temp        0.348072  \n",
              "atemp       0.343522  \n",
              "humidity   -0.281677  \n",
              "windspeed   0.104000  \n",
              "casual      0.707446  \n",
              "registered  0.985885  \n",
              "count       1.000000  "
            ],
            "text/html": [
              "\n",
              "  <div id=\"df-26ce566a-a6d1-4046-8c95-bab2e100d073\" class=\"colab-df-container\">\n",
              "    <div>\n",
              "<style scoped>\n",
              "    .dataframe tbody tr th:only-of-type {\n",
              "        vertical-align: middle;\n",
              "    }\n",
              "\n",
              "    .dataframe tbody tr th {\n",
              "        vertical-align: top;\n",
              "    }\n",
              "\n",
              "    .dataframe thead th {\n",
              "        text-align: right;\n",
              "    }\n",
              "</style>\n",
              "<table border=\"1\" class=\"dataframe\">\n",
              "  <thead>\n",
              "    <tr style=\"text-align: right;\">\n",
              "      <th></th>\n",
              "      <th>temp</th>\n",
              "      <th>atemp</th>\n",
              "      <th>humidity</th>\n",
              "      <th>windspeed</th>\n",
              "      <th>casual</th>\n",
              "      <th>registered</th>\n",
              "      <th>count</th>\n",
              "    </tr>\n",
              "  </thead>\n",
              "  <tbody>\n",
              "    <tr>\n",
              "      <th>temp</th>\n",
              "      <td>1.000000</td>\n",
              "      <td>0.986218</td>\n",
              "      <td>-0.001363</td>\n",
              "      <td>-0.032772</td>\n",
              "      <td>0.517067</td>\n",
              "      <td>0.279005</td>\n",
              "      <td>0.348072</td>\n",
              "    </tr>\n",
              "    <tr>\n",
              "      <th>atemp</th>\n",
              "      <td>0.986218</td>\n",
              "      <td>1.000000</td>\n",
              "      <td>0.018167</td>\n",
              "      <td>-0.076602</td>\n",
              "      <td>0.509716</td>\n",
              "      <td>0.275498</td>\n",
              "      <td>0.343522</td>\n",
              "    </tr>\n",
              "    <tr>\n",
              "      <th>humidity</th>\n",
              "      <td>-0.001363</td>\n",
              "      <td>0.018167</td>\n",
              "      <td>1.000000</td>\n",
              "      <td>-0.322095</td>\n",
              "      <td>-0.321399</td>\n",
              "      <td>-0.248771</td>\n",
              "      <td>-0.281677</td>\n",
              "    </tr>\n",
              "    <tr>\n",
              "      <th>windspeed</th>\n",
              "      <td>-0.032772</td>\n",
              "      <td>-0.076602</td>\n",
              "      <td>-0.322095</td>\n",
              "      <td>1.000000</td>\n",
              "      <td>0.102367</td>\n",
              "      <td>0.095712</td>\n",
              "      <td>0.104000</td>\n",
              "    </tr>\n",
              "    <tr>\n",
              "      <th>casual</th>\n",
              "      <td>0.517067</td>\n",
              "      <td>0.509716</td>\n",
              "      <td>-0.321399</td>\n",
              "      <td>0.102367</td>\n",
              "      <td>1.000000</td>\n",
              "      <td>0.579132</td>\n",
              "      <td>0.707446</td>\n",
              "    </tr>\n",
              "    <tr>\n",
              "      <th>registered</th>\n",
              "      <td>0.279005</td>\n",
              "      <td>0.275498</td>\n",
              "      <td>-0.248771</td>\n",
              "      <td>0.095712</td>\n",
              "      <td>0.579132</td>\n",
              "      <td>1.000000</td>\n",
              "      <td>0.985885</td>\n",
              "    </tr>\n",
              "    <tr>\n",
              "      <th>count</th>\n",
              "      <td>0.348072</td>\n",
              "      <td>0.343522</td>\n",
              "      <td>-0.281677</td>\n",
              "      <td>0.104000</td>\n",
              "      <td>0.707446</td>\n",
              "      <td>0.985885</td>\n",
              "      <td>1.000000</td>\n",
              "    </tr>\n",
              "  </tbody>\n",
              "</table>\n",
              "</div>\n",
              "    <div class=\"colab-df-buttons\">\n",
              "\n",
              "  <div class=\"colab-df-container\">\n",
              "    <button class=\"colab-df-convert\" onclick=\"convertToInteractive('df-26ce566a-a6d1-4046-8c95-bab2e100d073')\"\n",
              "            title=\"Convert this dataframe to an interactive table.\"\n",
              "            style=\"display:none;\">\n",
              "\n",
              "  <svg xmlns=\"http://www.w3.org/2000/svg\" height=\"24px\" viewBox=\"0 -960 960 960\">\n",
              "    <path d=\"M120-120v-720h720v720H120Zm60-500h600v-160H180v160Zm220 220h160v-160H400v160Zm0 220h160v-160H400v160ZM180-400h160v-160H180v160Zm440 0h160v-160H620v160ZM180-180h160v-160H180v160Zm440 0h160v-160H620v160Z\"/>\n",
              "  </svg>\n",
              "    </button>\n",
              "\n",
              "  <style>\n",
              "    .colab-df-container {\n",
              "      display:flex;\n",
              "      gap: 12px;\n",
              "    }\n",
              "\n",
              "    .colab-df-convert {\n",
              "      background-color: #E8F0FE;\n",
              "      border: none;\n",
              "      border-radius: 50%;\n",
              "      cursor: pointer;\n",
              "      display: none;\n",
              "      fill: #1967D2;\n",
              "      height: 32px;\n",
              "      padding: 0 0 0 0;\n",
              "      width: 32px;\n",
              "    }\n",
              "\n",
              "    .colab-df-convert:hover {\n",
              "      background-color: #E2EBFA;\n",
              "      box-shadow: 0px 1px 2px rgba(60, 64, 67, 0.3), 0px 1px 3px 1px rgba(60, 64, 67, 0.15);\n",
              "      fill: #174EA6;\n",
              "    }\n",
              "\n",
              "    .colab-df-buttons div {\n",
              "      margin-bottom: 4px;\n",
              "    }\n",
              "\n",
              "    [theme=dark] .colab-df-convert {\n",
              "      background-color: #3B4455;\n",
              "      fill: #D2E3FC;\n",
              "    }\n",
              "\n",
              "    [theme=dark] .colab-df-convert:hover {\n",
              "      background-color: #434B5C;\n",
              "      box-shadow: 0px 1px 3px 1px rgba(0, 0, 0, 0.15);\n",
              "      filter: drop-shadow(0px 1px 2px rgba(0, 0, 0, 0.3));\n",
              "      fill: #FFFFFF;\n",
              "    }\n",
              "  </style>\n",
              "\n",
              "    <script>\n",
              "      const buttonEl =\n",
              "        document.querySelector('#df-26ce566a-a6d1-4046-8c95-bab2e100d073 button.colab-df-convert');\n",
              "      buttonEl.style.display =\n",
              "        google.colab.kernel.accessAllowed ? 'block' : 'none';\n",
              "\n",
              "      async function convertToInteractive(key) {\n",
              "        const element = document.querySelector('#df-26ce566a-a6d1-4046-8c95-bab2e100d073');\n",
              "        const dataTable =\n",
              "          await google.colab.kernel.invokeFunction('convertToInteractive',\n",
              "                                                    [key], {});\n",
              "        if (!dataTable) return;\n",
              "\n",
              "        const docLinkHtml = 'Like what you see? Visit the ' +\n",
              "          '<a target=\"_blank\" href=https://colab.research.google.com/notebooks/data_table.ipynb>data table notebook</a>'\n",
              "          + ' to learn more about interactive tables.';\n",
              "        element.innerHTML = '';\n",
              "        dataTable['output_type'] = 'display_data';\n",
              "        await google.colab.output.renderOutput(dataTable, element);\n",
              "        const docLink = document.createElement('div');\n",
              "        docLink.innerHTML = docLinkHtml;\n",
              "        element.appendChild(docLink);\n",
              "      }\n",
              "    </script>\n",
              "  </div>\n",
              "\n",
              "\n",
              "<div id=\"df-410eed43-35a9-4f09-8c96-5f1a09e64490\">\n",
              "  <button class=\"colab-df-quickchart\" onclick=\"quickchart('df-410eed43-35a9-4f09-8c96-5f1a09e64490')\"\n",
              "            title=\"Suggest charts\"\n",
              "            style=\"display:none;\">\n",
              "\n",
              "<svg xmlns=\"http://www.w3.org/2000/svg\" height=\"24px\"viewBox=\"0 0 24 24\"\n",
              "     width=\"24px\">\n",
              "    <g>\n",
              "        <path d=\"M19 3H5c-1.1 0-2 .9-2 2v14c0 1.1.9 2 2 2h14c1.1 0 2-.9 2-2V5c0-1.1-.9-2-2-2zM9 17H7v-7h2v7zm4 0h-2V7h2v10zm4 0h-2v-4h2v4z\"/>\n",
              "    </g>\n",
              "</svg>\n",
              "  </button>\n",
              "\n",
              "<style>\n",
              "  .colab-df-quickchart {\n",
              "      --bg-color: #E8F0FE;\n",
              "      --fill-color: #1967D2;\n",
              "      --hover-bg-color: #E2EBFA;\n",
              "      --hover-fill-color: #174EA6;\n",
              "      --disabled-fill-color: #AAA;\n",
              "      --disabled-bg-color: #DDD;\n",
              "  }\n",
              "\n",
              "  [theme=dark] .colab-df-quickchart {\n",
              "      --bg-color: #3B4455;\n",
              "      --fill-color: #D2E3FC;\n",
              "      --hover-bg-color: #434B5C;\n",
              "      --hover-fill-color: #FFFFFF;\n",
              "      --disabled-bg-color: #3B4455;\n",
              "      --disabled-fill-color: #666;\n",
              "  }\n",
              "\n",
              "  .colab-df-quickchart {\n",
              "    background-color: var(--bg-color);\n",
              "    border: none;\n",
              "    border-radius: 50%;\n",
              "    cursor: pointer;\n",
              "    display: none;\n",
              "    fill: var(--fill-color);\n",
              "    height: 32px;\n",
              "    padding: 0;\n",
              "    width: 32px;\n",
              "  }\n",
              "\n",
              "  .colab-df-quickchart:hover {\n",
              "    background-color: var(--hover-bg-color);\n",
              "    box-shadow: 0 1px 2px rgba(60, 64, 67, 0.3), 0 1px 3px 1px rgba(60, 64, 67, 0.15);\n",
              "    fill: var(--button-hover-fill-color);\n",
              "  }\n",
              "\n",
              "  .colab-df-quickchart-complete:disabled,\n",
              "  .colab-df-quickchart-complete:disabled:hover {\n",
              "    background-color: var(--disabled-bg-color);\n",
              "    fill: var(--disabled-fill-color);\n",
              "    box-shadow: none;\n",
              "  }\n",
              "\n",
              "  .colab-df-spinner {\n",
              "    border: 2px solid var(--fill-color);\n",
              "    border-color: transparent;\n",
              "    border-bottom-color: var(--fill-color);\n",
              "    animation:\n",
              "      spin 1s steps(1) infinite;\n",
              "  }\n",
              "\n",
              "  @keyframes spin {\n",
              "    0% {\n",
              "      border-color: transparent;\n",
              "      border-bottom-color: var(--fill-color);\n",
              "      border-left-color: var(--fill-color);\n",
              "    }\n",
              "    20% {\n",
              "      border-color: transparent;\n",
              "      border-left-color: var(--fill-color);\n",
              "      border-top-color: var(--fill-color);\n",
              "    }\n",
              "    30% {\n",
              "      border-color: transparent;\n",
              "      border-left-color: var(--fill-color);\n",
              "      border-top-color: var(--fill-color);\n",
              "      border-right-color: var(--fill-color);\n",
              "    }\n",
              "    40% {\n",
              "      border-color: transparent;\n",
              "      border-right-color: var(--fill-color);\n",
              "      border-top-color: var(--fill-color);\n",
              "    }\n",
              "    60% {\n",
              "      border-color: transparent;\n",
              "      border-right-color: var(--fill-color);\n",
              "    }\n",
              "    80% {\n",
              "      border-color: transparent;\n",
              "      border-right-color: var(--fill-color);\n",
              "      border-bottom-color: var(--fill-color);\n",
              "    }\n",
              "    90% {\n",
              "      border-color: transparent;\n",
              "      border-bottom-color: var(--fill-color);\n",
              "    }\n",
              "  }\n",
              "</style>\n",
              "\n",
              "  <script>\n",
              "    async function quickchart(key) {\n",
              "      const quickchartButtonEl =\n",
              "        document.querySelector('#' + key + ' button');\n",
              "      quickchartButtonEl.disabled = true;  // To prevent multiple clicks.\n",
              "      quickchartButtonEl.classList.add('colab-df-spinner');\n",
              "      try {\n",
              "        const charts = await google.colab.kernel.invokeFunction(\n",
              "            'suggestCharts', [key], {});\n",
              "      } catch (error) {\n",
              "        console.error('Error during call to suggestCharts:', error);\n",
              "      }\n",
              "      quickchartButtonEl.classList.remove('colab-df-spinner');\n",
              "      quickchartButtonEl.classList.add('colab-df-quickchart-complete');\n",
              "    }\n",
              "    (() => {\n",
              "      let quickchartButtonEl =\n",
              "        document.querySelector('#df-410eed43-35a9-4f09-8c96-5f1a09e64490 button');\n",
              "      quickchartButtonEl.style.display =\n",
              "        google.colab.kernel.accessAllowed ? 'block' : 'none';\n",
              "    })();\n",
              "  </script>\n",
              "</div>\n",
              "\n",
              "    </div>\n",
              "  </div>\n"
            ],
            "application/vnd.google.colaboratory.intrinsic+json": {
              "type": "dataframe",
              "summary": "{\n  \"name\": \"data_corr\",\n  \"rows\": 7,\n  \"fields\": [\n    {\n      \"column\": \"temp\",\n      \"properties\": {\n        \"dtype\": \"number\",\n        \"std\": 0.42240202655894055,\n        \"min\": -0.03277176539973264,\n        \"max\": 1.0,\n        \"num_unique_values\": 7,\n        \"samples\": [\n          1.0,\n          0.9862180968857824,\n          0.27900521135637146\n        ],\n        \"semantic_type\": \"\",\n        \"description\": \"\"\n      }\n    },\n    {\n      \"column\": \"atemp\",\n      \"properties\": {\n        \"dtype\": \"number\",\n        \"std\": 0.4277705039425211,\n        \"min\": -0.07660202477980568,\n        \"max\": 1.0,\n        \"num_unique_values\": 7,\n        \"samples\": [\n          0.9862180968857824,\n          1.0,\n          0.2754981246574718\n        ],\n        \"semantic_type\": \"\",\n        \"description\": \"\"\n      }\n    },\n    {\n      \"column\": \"humidity\",\n      \"properties\": {\n        \"dtype\": \"number\",\n        \"std\": 0.47347575452647245,\n        \"min\": -0.3220954603190331,\n        \"max\": 1.0,\n        \"num_unique_values\": 7,\n        \"samples\": [\n          -0.0013634325085030744,\n          0.01816667408236878,\n          -0.2487706800776841\n        ],\n        \"semantic_type\": \"\",\n        \"description\": \"\"\n      }\n    },\n    {\n      \"column\": \"windspeed\",\n      \"properties\": {\n        \"dtype\": \"number\",\n        \"std\": 0.4149021859983258,\n        \"min\": -0.3220954603190331,\n        \"max\": 1.0,\n        \"num_unique_values\": 7,\n        \"samples\": [\n          -0.03277176539973264,\n          -0.07660202477980568,\n          0.09571184096911103\n        ],\n        \"semantic_type\": \"\",\n        \"description\": \"\"\n      }\n    },\n    {\n      \"column\": \"casual\",\n      \"properties\": {\n        \"dtype\": \"number\",\n        \"std\": 0.4299185914076089,\n        \"min\": -0.321399008348452,\n        \"max\": 1.0,\n        \"num_unique_values\": 7,\n        \"samples\": [\n          0.5170672992404578,\n          0.5097157765765121,\n          0.5791324035205424\n        ],\n        \"semantic_type\": \"\",\n        \"description\": \"\"\n      }\n    },\n    {\n      \"column\": \"registered\",\n      \"properties\": {\n        \"dtype\": \"number\",\n        \"std\": 0.4609820508011412,\n        \"min\": -0.2487706800776841,\n        \"max\": 1.0,\n        \"num_unique_values\": 7,\n        \"samples\": [\n          0.27900521135637146,\n          0.2754981246574718,\n          1.0\n        ],\n        \"semantic_type\": \"\",\n        \"description\": \"\"\n      }\n    },\n    {\n      \"column\": \"count\",\n      \"properties\": {\n        \"dtype\": \"number\",\n        \"std\": 0.4712176892938829,\n        \"min\": -0.2816765785180488,\n        \"max\": 1.0,\n        \"num_unique_values\": 7,\n        \"samples\": [\n          0.3480721495941864,\n          0.34352192076977217,\n          0.9858853825229874\n        ],\n        \"semantic_type\": \"\",\n        \"description\": \"\"\n      }\n    }\n  ]\n}"
            }
          },
          "metadata": {},
          "execution_count": 100
        }
      ]
    },
    {
      "cell_type": "code",
      "source": [
        "sns.heatmap(data_corr.corr(), cmap=\"RdBu\", linecolor=\"black\",linewidths=0.01, annot=True)\n",
        "plt.title('Correlation between numeric values');\n",
        "plt.show()"
      ],
      "metadata": {
        "colab": {
          "base_uri": "https://localhost:8080/",
          "height": 513
        },
        "id": "lgnpDe3ap5OO",
        "outputId": "d76b325d-6f99-40cc-e65e-d29fdf8d5b81"
      },
      "execution_count": null,
      "outputs": [
        {
          "output_type": "display_data",
          "data": {
            "text/plain": [
              "<Figure size 640x480 with 2 Axes>"
            ],
            "image/png": "[encoded data removed]"
          },
          "metadata": {}
        }
      ]
    },
    {
      "cell_type": "markdown",
      "source": [
        "\n",
        "\n",
        "*   Diagonal values are all 1 because they represent correlation between the same variable\n",
        "*   The stronger the colour, the stronger the correlation between the variables\n",
        "\n",
        "\n",
        "\n",
        "\n",
        "**Positive corelation:**\n",
        "*   As the temperature and feeling temp increase the casual,registered count also increasing.\n",
        "\n",
        "**Negative correlation:**\n",
        "\n",
        "\n",
        "*   Humididty and total counts of bike are negativley correlated,so lesser the humididty more number of bikes counted and also registred because the **corelation is = -0.28**\n",
        "\n",
        "**Zero correlation:**\n",
        "\n",
        "\n",
        "*   temperature and atemperature have no corrrelation on count of total bikes\n",
        "\n",
        "\n",
        "\n",
        "\n",
        "\n",
        "\n",
        "\n",
        "\n"
      ],
      "metadata": {
        "id": "8CMglOVaqGp6"
      }
    },
    {
      "cell_type": "markdown",
      "source": [
        "**Bivariate Analysis**"
      ],
      "metadata": {
        "id": "YdlpU-Vlxnn9"
      }
    },
    {
      "cell_type": "code",
      "source": [
        "#Bivariate Analysis"
      ],
      "metadata": {
        "id": "R95axNXZszU9"
      },
      "execution_count": null,
      "outputs": []
    },
    {
      "cell_type": "code",
      "source": [
        "data['workingday'].unique()"
      ],
      "metadata": {
        "colab": {
          "base_uri": "https://localhost:8080/"
        },
        "id": "jYKg2031Gkgt",
        "outputId": "fca51058-38ab-4e3f-e61c-867b42d3477f"
      },
      "execution_count": null,
      "outputs": [
        {
          "output_type": "execute_result",
          "data": {
            "text/plain": [
              "['weekend or holiday', 'workingday']\n",
              "Categories (2, object): ['weekend or holiday', 'workingday']"
            ]
          },
          "metadata": {},
          "execution_count": 61
        }
      ]
    },
    {
      "cell_type": "markdown",
      "source": [
        "**2.Significancedifference between the no. of bike rides on Weekdays and Weekends**"
      ],
      "metadata": {
        "id": "kqTTnwbTNU7O"
      }
    },
    {
      "cell_type": "markdown",
      "source": [
        "**workingday vs Total bike count**"
      ],
      "metadata": {
        "id": "4ft6BtIRM1PO"
      }
    },
    {
      "cell_type": "code",
      "source": [
        "#get the total bike count for weekend and workingday separetly\n",
        "weekends=data[data['workingday']=='weekend or holiday']['count']\n",
        "weekdays=data[data['workingday']=='workingday']['count']"
      ],
      "metadata": {
        "id": "pXYJFaTD-ZbE"
      },
      "execution_count": null,
      "outputs": []
    },
    {
      "cell_type": "code",
      "source": [
        "#1a.setting up Null Hypothesis and alternate Hypothesis\n",
        "#H0:There is no significant differnce in total count of bikes in weekend and weekdays(mu1 equal mu2)\n",
        "#H1:There is significant differnce in total count of bikes in weekend and weekdays(mu1 not equal mu2)"
      ],
      "metadata": {
        "id": "xBcPMhXOLVYd"
      },
      "execution_count": null,
      "outputs": []
    },
    {
      "cell_type": "code",
      "source": [
        "#Here the two groups of values weekend and weekdays are independtant values .\n",
        "#And we need to find any effect on numeric field i.e total bike count by this 2 groups of independent categorical value\n",
        "\n",
        "#1b.To do Hypothesis testing we using Ttest on independent variables with 95% confidence level\n",
        "#1c.Find the pvalue\n",
        "st_stat, p_value = stats.ttest_ind(weekends, weekdays)\n",
        "st_stat, p_value"
      ],
      "metadata": {
        "colab": {
          "base_uri": "https://localhost:8080/"
        },
        "id": "doqGP5LULf9w",
        "outputId": "714cf7e9-c2a2-4afd-cf34-dc0b7c873cb8"
      },
      "execution_count": null,
      "outputs": [
        {
          "output_type": "execute_result",
          "data": {
            "text/plain": [
              "(-14.122552537877892, 7.627521376299639e-45)"
            ]
          },
          "metadata": {},
          "execution_count": 63
        }
      ]
    },
    {
      "cell_type": "code",
      "source": [
        "#1d.\n",
        "Confidence_level=.95\n",
        "alpha = 1 - Confidence_level\n",
        "alpha=round(alpha,2)\n",
        "\n",
        "\n",
        "#1e.accept or reject the Null Hypothesis\n",
        "if p_value < alpha:\n",
        "  print('Reject H0; H1:There is significant differnce in total count of bikes in weekend and weekdays(mu1 not equal mu2)')\n",
        "else:\n",
        "  print ('Fail to Reject H0; H0:There is no significant differnce in total count of bikes in weekend and weekdays(mu1 equal mu2)')"
      ],
      "metadata": {
        "colab": {
          "base_uri": "https://localhost:8080/"
        },
        "id": "CdLAH8dFNvhS",
        "outputId": "59e4e847-afa3-4cbe-d1fa-c804618ca8e8"
      },
      "execution_count": null,
      "outputs": [
        {
          "output_type": "stream",
          "name": "stdout",
          "text": [
            "Reject H0; H1:There is significant differnce in total count of bikes in weekend and weekdays(mu1 not equal mu2)\n"
          ]
        }
      ]
    },
    {
      "cell_type": "code",
      "source": [
        "sns.boxplot(x='workingday', y='count', data=data,color='pink')"
      ],
      "metadata": {
        "colab": {
          "base_uri": "https://localhost:8080/",
          "height": 466
        },
        "id": "x2jiAWKc_HVn",
        "outputId": "cc1677a9-6739-470d-f418-704f978f2ed9"
      },
      "execution_count": null,
      "outputs": [
        {
          "output_type": "execute_result",
          "data": {
            "text/plain": [
              "<Axes: xlabel='workingday', ylabel='count'>"
            ]
          },
          "metadata": {},
          "execution_count": 65
        },
        {
          "output_type": "display_data",
          "data": {
            "text/plain": [
              "<Figure size 640x480 with 1 Axes>"
            ],
            "image/png": "[encoded data removed]"
          },
          "metadata": {}
        }
      ]
    },
    {
      "cell_type": "markdown",
      "source": [
        "From the above Hypothesis calculation and inference plot ,we can say that the average count of working day is higher than the weekend days.So it is best to increase the no of bikes keeping in the location on weekdays than the working days"
      ],
      "metadata": {
        "id": "zHOnt9CYPeeU"
      }
    },
    {
      "cell_type": "markdown",
      "source": [
        "**4.demand of bicycles on rent is the same for different Weather**\n",
        "**conditions**"
      ],
      "metadata": {
        "id": "j3hzMPluMX7G"
      }
    },
    {
      "cell_type": "markdown",
      "source": [
        "**Weather vs Bike counts**"
      ],
      "metadata": {
        "id": "Of2X1GmIDktl"
      }
    },
    {
      "cell_type": "code",
      "source": [
        "data['weather'].unique()"
      ],
      "metadata": {
        "colab": {
          "base_uri": "https://localhost:8080/"
        },
        "id": "QJSwM96bEFId",
        "outputId": "32341eff-1617-4741-9d8c-b6a110500806"
      },
      "execution_count": null,
      "outputs": [
        {
          "output_type": "execute_result",
          "data": {
            "text/plain": [
              "[1, 2, 3, 4]\n",
              "Categories (4, int64): [1, 2, 3, 4]"
            ]
          },
          "metadata": {},
          "execution_count": 33
        }
      ]
    },
    {
      "cell_type": "code",
      "source": [
        "#weather:\n",
        "#1: Clear, Few clouds, partly cloudy, partly cloudy\n",
        "#2: Mist + Cloudy, Mist + Broken clouds, Mist + Few clouds, Mist\n",
        "#3: Light Snow, Light Rain + Thunderstorm + Scattered clouds, Light Rain + Scattered clouds\n",
        "#4: Heavy Rain + Ice Pallets + Thunderstorm + Mist, Snow + Fog"
      ],
      "metadata": {
        "id": "HBZVmjCcEmRM"
      },
      "execution_count": null,
      "outputs": []
    },
    {
      "cell_type": "code",
      "source": [
        "clear_day=data[data['weather']==1]['count']\n",
        "Mist_day=data[data['weather']==2]['count']\n",
        "Light_day=data[data['weather']==3]['count']\n",
        "Heavy_day=data[data['weather']==4]['count']"
      ],
      "metadata": {
        "id": "KvRB_Wh7Dr4V"
      },
      "execution_count": null,
      "outputs": []
    },
    {
      "cell_type": "code",
      "source": [
        "# Numerical(Total Count of bikes) Vs One independent group (Weather - 4 Categories).\n",
        "# So if there's a significant difference among the numerical values when we have more than two categories in a single group to compare.\n",
        "\n",
        "# We can use independent TTest multiple times,rather than doing this test we can use a powerful test One way ANOVA test\n",
        "# But if we are doing Anova test,we need to do below prechecks and it need to satisfied the conditions.\n",
        "\n",
        "# 1.Normality Test :\n",
        "# Data should be Normally distributed/Gaussion\n",
        "# Taking a sample size of 100 on bike count calculating the mean.\n",
        "\n",
        "sample100 = [np.mean(data['count'].sample(100)) for i in range(100) ]"
      ],
      "metadata": {
        "id": "NXWygz9gHWsy"
      },
      "execution_count": null,
      "outputs": []
    },
    {
      "cell_type": "markdown",
      "source": [
        "Checking Skewness of data"
      ],
      "metadata": {
        "id": "ZT8hfjGjL3pH"
      }
    },
    {
      "cell_type": "code",
      "source": [
        "#4.C.i. fig = plt.figure(figsize=(10,10))\n",
        "#plt.subplot(2,3,1)\n",
        "plt.xlabel('Bikecount_sample 100')\n",
        "sns.histplot(sample100, kde=True)"
      ],
      "metadata": {
        "colab": {
          "base_uri": "https://localhost:8080/",
          "height": 467
        },
        "id": "eyTgQGVaKJuX",
        "outputId": "8adafa3a-844f-40e9-bfb6-b4bb07122d10"
      },
      "execution_count": null,
      "outputs": [
        {
          "output_type": "execute_result",
          "data": {
            "text/plain": [
              "<Axes: xlabel='Bikecount_sample 100', ylabel='Count'>"
            ]
          },
          "metadata": {},
          "execution_count": 68
        },
        {
          "output_type": "display_data",
          "data": {
            "text/plain": [
              "<Figure size 640x480 with 1 Axes>"
            ],
            "image/png": "[encoded data removed]"
          },
          "metadata": {}
        }
      ]
    },
    {
      "cell_type": "markdown",
      "source": [
        "From the above graph we can conclude the data is distributed Normally.We can check few more test before going with Anova test."
      ],
      "metadata": {
        "id": "frap-KU7Ldkl"
      }
    },
    {
      "cell_type": "code",
      "source": [
        "data['count'].describe()"
      ],
      "metadata": {
        "colab": {
          "base_uri": "https://localhost:8080/"
        },
        "id": "ZKbIjcFMKVCE",
        "outputId": "8f9c2078-3c7c-45f2-d95e-a491c791ceab"
      },
      "execution_count": null,
      "outputs": [
        {
          "output_type": "execute_result",
          "data": {
            "text/plain": [
              "count    9744.000000\n",
              "mean      149.871511\n",
              "std       131.331606\n",
              "min         1.000000\n",
              "25%        34.000000\n",
              "50%       122.000000\n",
              "75%       230.000000\n",
              "max       590.000000\n",
              "Name: count, dtype: float64"
            ]
          },
          "metadata": {},
          "execution_count": 27
        }
      ]
    },
    {
      "cell_type": "markdown",
      "source": [
        "From the above graph we can see mean is greater than median,so it is postively/right skewed distribution,further can test by skew() function as below"
      ],
      "metadata": {
        "id": "44Xb9hiEQN6f"
      }
    },
    {
      "cell_type": "code",
      "source": [
        "#check the skewness of the data\n",
        "data['count'].skew()"
      ],
      "metadata": {
        "colab": {
          "base_uri": "https://localhost:8080/"
        },
        "id": "cXAp5e36F9wo",
        "outputId": "d402219c-b5e1-468d-8509-04fe12933fef"
      },
      "execution_count": null,
      "outputs": [
        {
          "output_type": "execute_result",
          "data": {
            "text/plain": [
              "0.8962037048424285"
            ]
          },
          "metadata": {},
          "execution_count": 69
        }
      ]
    },
    {
      "cell_type": "markdown",
      "source": [
        "From the above value 0.8962 which is positive vlaue,so the data is positvely skewd,further we can check by kurt function"
      ],
      "metadata": {
        "id": "eEutNSQvGHcr"
      }
    },
    {
      "cell_type": "code",
      "source": [
        "#Kurtosis calcualtion to find the shape of the probabilty distribution\n",
        "kurt=data['count'].kurt()\n",
        "Excess_kurtosis  =  kurt - 3\n",
        "print(Excess_kurtosis)"
      ],
      "metadata": {
        "colab": {
          "base_uri": "https://localhost:8080/"
        },
        "id": "eQ9zsoUEGHHg",
        "outputId": "a90cddb6-fa98-47e1-e827-0dea54ab92d9"
      },
      "execution_count": null,
      "outputs": [
        {
          "output_type": "stream",
          "name": "stdout",
          "text": [
            "-2.8674250078318444\n"
          ]
        }
      ]
    },
    {
      "cell_type": "markdown",
      "source": [
        "Fromt the above Kurtosis calculation.\n",
        "And for Excess_kurtosis < 3, it is called a Platykurtic distribution (shows lack of outliers)."
      ],
      "metadata": {
        "id": "_aSdtBAbKjLj"
      }
    },
    {
      "cell_type": "code",
      "source": [
        "#C.ii.QQ plot\n",
        "qqplot(data['count'], line=\"s\")\n",
        "plt.show()"
      ],
      "metadata": {
        "colab": {
          "base_uri": "https://localhost:8080/",
          "height": 449
        },
        "id": "ayQtNDeaQcRa",
        "outputId": "dfbdfdf2-cf8e-4472-b0ac-90d3aa244068"
      },
      "execution_count": null,
      "outputs": [
        {
          "output_type": "display_data",
          "data": {
            "text/plain": [
              "<Figure size 640x480 with 1 Axes>"
            ],
            "image/png": "[encoded data removed]"
          },
          "metadata": {}
        }
      ]
    },
    {
      "cell_type": "markdown",
      "source": [
        "The red line in a Q-Q plot is a comparison point, like a ruler. It shows you what the data should look like if it perfectly follows a specific pattern, like a bell curve.\n",
        "\n",
        "The red line represents the reference line.\n",
        "\n",
        "The blue dots represent the actual data points and show you how they match up to the expected pattern.\n",
        "\n",
        "If the red line is straight and the blue dots fall close to it, then your data fits the pattern well and follows a Normal Distribution.\n",
        "\n",
        "If the line is crooked or the dots are scattered, then your data doesn't quite fit and does not follow a Normal Distribution.\n",
        "\n",
        "i.e..Here the data falling into normal distribution slightly only,So further confirming it we can do shapiro test"
      ],
      "metadata": {
        "id": "QzuNcq8hc6Yk"
      }
    },
    {
      "cell_type": "code",
      "source": [
        "#i.e..Here the data falling into normal distribution slightly only,So further confirming it we can do shapiro test\n",
        "\n",
        "# H0: Data is Gaussian\n",
        "# Ha: Data is not Gaussian\n",
        "\n",
        "# Shapiro-Wilk’s test\n",
        "test_stat, p_value = shapiro(sample100)\n",
        "print(p_value)"
      ],
      "metadata": {
        "colab": {
          "base_uri": "https://localhost:8080/"
        },
        "id": "0fwcCrwCdTmJ",
        "outputId": "f304c072-1496-46c7-cea4-719ee68ba9ae"
      },
      "execution_count": null,
      "outputs": [
        {
          "output_type": "stream",
          "name": "stdout",
          "text": [
            "0.5639069080352783\n"
          ]
        }
      ]
    },
    {
      "cell_type": "code",
      "source": [
        "#Finding the Data is gaussion or not with 5% significance level\n",
        "if p_value < 0.05:\n",
        "    print(\"Reject H0\")\n",
        "    print(\"Data is not Gaussian\")\n",
        "else:\n",
        "    print(\"Fail to reject H0\")\n",
        "    print(\"Data is Gaussian\")"
      ],
      "metadata": {
        "colab": {
          "base_uri": "https://localhost:8080/"
        },
        "id": "nmmy-eO4eLFJ",
        "outputId": "52a4e3d1-ebad-42c9-cffb-6a8f7c51f727"
      },
      "execution_count": null,
      "outputs": [
        {
          "output_type": "stream",
          "name": "stdout",
          "text": [
            "Fail to reject H0\n",
            "Data is Gaussian\n"
          ]
        }
      ]
    },
    {
      "cell_type": "markdown",
      "source": [
        "Further checking by Equality variance test by Levene's Test"
      ],
      "metadata": {
        "id": "Qfk7KZwheqOB"
      }
    },
    {
      "cell_type": "code",
      "source": [
        "#There should be equal variance in different groups/categories in our data when\n",
        "\n",
        "\n",
        "# H0: Variances are equal\n",
        "# Ha: Variances are not equal\n",
        "levene_stat, p_value = levene(clear_day, Mist_day,Light_day,Heavy_day)\n",
        "if p_value < 0.05:\n",
        "    print(\"Variances are not equal\")"
      ],
      "metadata": {
        "colab": {
          "base_uri": "https://localhost:8080/"
        },
        "id": "w9pNvbQ0e7BZ",
        "outputId": "62e47dc8-2498-4574-ea98-a9894eb1c2b9"
      },
      "execution_count": null,
      "outputs": [
        {
          "output_type": "stream",
          "name": "stdout",
          "text": [
            "Variances are not equal\n"
          ]
        }
      ]
    },
    {
      "cell_type": "code",
      "source": [
        "#Variance should be equal for Anova test,So we can do Kruskal-Wallis test to proceed further.\n",
        "#But In our case we can proceed One way Anova,as the data is Normillay distributed.(we checked it by Shapiro-Wilk’s test"
      ],
      "metadata": {
        "id": "CEdChsaKjVFc"
      },
      "execution_count": null,
      "outputs": []
    },
    {
      "cell_type": "code",
      "source": [
        "#4.a.Anova One way\n",
        "#4.b H0: All weather have the same mean\n",
        "# Ha: One or more weather have different mean\n",
        "f_stats, p_value = f_oneway(clear_day, Mist_day,Light_day,Heavy_day)\n",
        "\n",
        "print(\"test statistic:\",f_stats)\n",
        "print(\"p_value:\",p_value)\n"
      ],
      "metadata": {
        "colab": {
          "base_uri": "https://localhost:8080/"
        },
        "id": "jrllpaZ0j4uP",
        "outputId": "a4f2ea71-bcc6-46b1-8b7c-1d41eb2550d4"
      },
      "execution_count": null,
      "outputs": [
        {
          "output_type": "stream",
          "name": "stdout",
          "text": [
            "test statistic: 46.45209330731525\n",
            "p_value: 8.465264561246368e-30\n"
          ]
        }
      ]
    },
    {
      "cell_type": "code",
      "source": [
        "#4d.\n",
        "Confidence_level=.95\n",
        "alpha = 1 - Confidence_level\n",
        "alpha=round(alpha,2)"
      ],
      "metadata": {
        "id": "rD6Iqc0wkPq-"
      },
      "execution_count": null,
      "outputs": []
    },
    {
      "cell_type": "code",
      "source": [
        "#4e.accept or reject the Null Hypothesis\n",
        "if p_value < alpha:\n",
        "    print(\"Reject H0\")\n",
        "    print(\"Atleast one weather group have different mean\")\n",
        "else:\n",
        "    print(\"Fail to reject H0\")\n",
        "    print(\"All weather groups have same mean\")"
      ],
      "metadata": {
        "colab": {
          "base_uri": "https://localhost:8080/"
        },
        "id": "mOhRNG0EkKxt",
        "outputId": "8f4a60e5-e4be-4de7-b8f8-cc8d1840708c"
      },
      "execution_count": null,
      "outputs": [
        {
          "output_type": "stream",
          "name": "stdout",
          "text": [
            "Reject H0\n",
            "Atleast one weather group have different mean\n"
          ]
        }
      ]
    },
    {
      "cell_type": "code",
      "source": [
        "#Infer the medians for different weather\n",
        "sns.boxplot(x='weather', y='count', data=data,color='brown')"
      ],
      "metadata": {
        "colab": {
          "base_uri": "https://localhost:8080/",
          "height": 466
        },
        "id": "0w8i-m8ols-9",
        "outputId": "839d2660-dcb0-4df6-922a-2bd3ea138bb4"
      },
      "execution_count": null,
      "outputs": [
        {
          "output_type": "execute_result",
          "data": {
            "text/plain": [
              "<Axes: xlabel='weather', ylabel='count'>"
            ]
          },
          "metadata": {},
          "execution_count": 77
        },
        {
          "output_type": "display_data",
          "data": {
            "text/plain": [
              "<Figure size 640x480 with 1 Axes>"
            ],
            "image/png": "[encoded data removed]"
          },
          "metadata": {}
        }
      ]
    },
    {
      "cell_type": "code",
      "source": [
        "#weather:\n",
        "#1: Clear, Few clouds, partly cloudy, partly cloudy\n",
        "#2: Mist + Cloudy, Mist + Broken clouds, Mist + Few clouds, Mist\n",
        "#3: Light Snow, Light Rain + Thunderstorm + Scattered clouds, Light Rain + Scattered clouds\n",
        "#4: Heavy Rain + Ice Pallets + Thunderstorm + Mist, Snow + Fog"
      ],
      "metadata": {
        "id": "giOZLYQrmJxh"
      },
      "execution_count": null,
      "outputs": []
    },
    {
      "cell_type": "markdown",
      "source": [
        "From the above graph,we can conclude there is significat difference in all medians ,which means the weather is affecting the Bike count.There is increase in no of bike ,when the weather is Clear, Few clouds, partly cloudy, partly cloudy and Mist + Cloudy, Mist + Broken clouds, Mist + Few clouds, Mist.\n",
        "\n",
        "Note:And during heavy rain day,that is Heavy Rain + Ice Pallets + Thunderstorm + Mist, Snow + Fog,the demand of bicycles is very low.Which is the prime factor for the drastic reduction in the bike count.\n",
        "\n"
      ],
      "metadata": {
        "id": "2WZinpKal3PC"
      }
    },
    {
      "cell_type": "code",
      "source": [
        "data.head()"
      ],
      "metadata": {
        "id": "_XqNJi3om9Zh",
        "colab": {
          "base_uri": "https://localhost:8080/",
          "height": 206
        },
        "outputId": "78244dba-4380-4e77-ce21-789ba4014c9b"
      },
      "execution_count": null,
      "outputs": [
        {
          "output_type": "execute_result",
          "data": {
            "text/plain": [
              "             datetime  season      holiday          workingday weather  temp  \\\n",
              "0 2011-01-01 00:00:00  spring  Not Holiday  weekend or holiday       1  9.84   \n",
              "1 2011-01-01 01:00:00  spring  Not Holiday  weekend or holiday       1  9.02   \n",
              "2 2011-01-01 02:00:00  spring  Not Holiday  weekend or holiday       1  9.02   \n",
              "3 2011-01-01 03:00:00  spring  Not Holiday  weekend or holiday       1  9.84   \n",
              "4 2011-01-01 04:00:00  spring  Not Holiday  weekend or holiday       1  9.84   \n",
              "\n",
              "    atemp  humidity  windspeed  casual  registered  count  \n",
              "0  14.395        81        0.0       3          13     16  \n",
              "1  13.635        80        0.0       8          32     40  \n",
              "2  13.635        80        0.0       5          27     32  \n",
              "3  14.395        75        0.0       3          10     13  \n",
              "4  14.395        75        0.0       0           1      1  "
            ],
            "text/html": [
              "\n",
              "  <div id=\"df-7b6d7d62-5ec5-4ee3-9184-978ecaa8a94c\" class=\"colab-df-container\">\n",
              "    <div>\n",
              "<style scoped>\n",
              "    .dataframe tbody tr th:only-of-type {\n",
              "        vertical-align: middle;\n",
              "    }\n",
              "\n",
              "    .dataframe tbody tr th {\n",
              "        vertical-align: top;\n",
              "    }\n",
              "\n",
              "    .dataframe thead th {\n",
              "        text-align: right;\n",
              "    }\n",
              "</style>\n",
              "<table border=\"1\" class=\"dataframe\">\n",
              "  <thead>\n",
              "    <tr style=\"text-align: right;\">\n",
              "      <th></th>\n",
              "      <th>datetime</th>\n",
              "      <th>season</th>\n",
              "      <th>holiday</th>\n",
              "      <th>workingday</th>\n",
              "      <th>weather</th>\n",
              "      <th>temp</th>\n",
              "      <th>atemp</th>\n",
              "      <th>humidity</th>\n",
              "      <th>windspeed</th>\n",
              "      <th>casual</th>\n",
              "      <th>registered</th>\n",
              "      <th>count</th>\n",
              "    </tr>\n",
              "  </thead>\n",
              "  <tbody>\n",
              "    <tr>\n",
              "      <th>0</th>\n",
              "      <td>2011-01-01 00:00:00</td>\n",
              "      <td>spring</td>\n",
              "      <td>Not Holiday</td>\n",
              "      <td>weekend or holiday</td>\n",
              "      <td>1</td>\n",
              "      <td>9.84</td>\n",
              "      <td>14.395</td>\n",
              "      <td>81</td>\n",
              "      <td>0.0</td>\n",
              "      <td>3</td>\n",
              "      <td>13</td>\n",
              "      <td>16</td>\n",
              "    </tr>\n",
              "    <tr>\n",
              "      <th>1</th>\n",
              "      <td>2011-01-01 01:00:00</td>\n",
              "      <td>spring</td>\n",
              "      <td>Not Holiday</td>\n",
              "      <td>weekend or holiday</td>\n",
              "      <td>1</td>\n",
              "      <td>9.02</td>\n",
              "      <td>13.635</td>\n",
              "      <td>80</td>\n",
              "      <td>0.0</td>\n",
              "      <td>8</td>\n",
              "      <td>32</td>\n",
              "      <td>40</td>\n",
              "    </tr>\n",
              "    <tr>\n",
              "      <th>2</th>\n",
              "      <td>2011-01-01 02:00:00</td>\n",
              "      <td>spring</td>\n",
              "      <td>Not Holiday</td>\n",
              "      <td>weekend or holiday</td>\n",
              "      <td>1</td>\n",
              "      <td>9.02</td>\n",
              "      <td>13.635</td>\n",
              "      <td>80</td>\n",
              "      <td>0.0</td>\n",
              "      <td>5</td>\n",
              "      <td>27</td>\n",
              "      <td>32</td>\n",
              "    </tr>\n",
              "    <tr>\n",
              "      <th>3</th>\n",
              "      <td>2011-01-01 03:00:00</td>\n",
              "      <td>spring</td>\n",
              "      <td>Not Holiday</td>\n",
              "      <td>weekend or holiday</td>\n",
              "      <td>1</td>\n",
              "      <td>9.84</td>\n",
              "      <td>14.395</td>\n",
              "      <td>75</td>\n",
              "      <td>0.0</td>\n",
              "      <td>3</td>\n",
              "      <td>10</td>\n",
              "      <td>13</td>\n",
              "    </tr>\n",
              "    <tr>\n",
              "      <th>4</th>\n",
              "      <td>2011-01-01 04:00:00</td>\n",
              "      <td>spring</td>\n",
              "      <td>Not Holiday</td>\n",
              "      <td>weekend or holiday</td>\n",
              "      <td>1</td>\n",
              "      <td>9.84</td>\n",
              "      <td>14.395</td>\n",
              "      <td>75</td>\n",
              "      <td>0.0</td>\n",
              "      <td>0</td>\n",
              "      <td>1</td>\n",
              "      <td>1</td>\n",
              "    </tr>\n",
              "  </tbody>\n",
              "</table>\n",
              "</div>\n",
              "    <div class=\"colab-df-buttons\">\n",
              "\n",
              "  <div class=\"colab-df-container\">\n",
              "    <button class=\"colab-df-convert\" onclick=\"convertToInteractive('df-7b6d7d62-5ec5-4ee3-9184-978ecaa8a94c')\"\n",
              "            title=\"Convert this dataframe to an interactive table.\"\n",
              "            style=\"display:none;\">\n",
              "\n",
              "  <svg xmlns=\"http://www.w3.org/2000/svg\" height=\"24px\" viewBox=\"0 -960 960 960\">\n",
              "    <path d=\"M120-120v-720h720v720H120Zm60-500h600v-160H180v160Zm220 220h160v-160H400v160Zm0 220h160v-160H400v160ZM180-400h160v-160H180v160Zm440 0h160v-160H620v160ZM180-180h160v-160H180v160Zm440 0h160v-160H620v160Z\"/>\n",
              "  </svg>\n",
              "    </button>\n",
              "\n",
              "  <style>\n",
              "    .colab-df-container {\n",
              "      display:flex;\n",
              "      gap: 12px;\n",
              "    }\n",
              "\n",
              "    .colab-df-convert {\n",
              "      background-color: #E8F0FE;\n",
              "      border: none;\n",
              "      border-radius: 50%;\n",
              "      cursor: pointer;\n",
              "      display: none;\n",
              "      fill: #1967D2;\n",
              "      height: 32px;\n",
              "      padding: 0 0 0 0;\n",
              "      width: 32px;\n",
              "    }\n",
              "\n",
              "    .colab-df-convert:hover {\n",
              "      background-color: #E2EBFA;\n",
              "      box-shadow: 0px 1px 2px rgba(60, 64, 67, 0.3), 0px 1px 3px 1px rgba(60, 64, 67, 0.15);\n",
              "      fill: #174EA6;\n",
              "    }\n",
              "\n",
              "    .colab-df-buttons div {\n",
              "      margin-bottom: 4px;\n",
              "    }\n",
              "\n",
              "    [theme=dark] .colab-df-convert {\n",
              "      background-color: #3B4455;\n",
              "      fill: #D2E3FC;\n",
              "    }\n",
              "\n",
              "    [theme=dark] .colab-df-convert:hover {\n",
              "      background-color: #434B5C;\n",
              "      box-shadow: 0px 1px 3px 1px rgba(0, 0, 0, 0.15);\n",
              "      filter: drop-shadow(0px 1px 2px rgba(0, 0, 0, 0.3));\n",
              "      fill: #FFFFFF;\n",
              "    }\n",
              "  </style>\n",
              "\n",
              "    <script>\n",
              "      const buttonEl =\n",
              "        document.querySelector('#df-7b6d7d62-5ec5-4ee3-9184-978ecaa8a94c button.colab-df-convert');\n",
              "      buttonEl.style.display =\n",
              "        google.colab.kernel.accessAllowed ? 'block' : 'none';\n",
              "\n",
              "      async function convertToInteractive(key) {\n",
              "        const element = document.querySelector('#df-7b6d7d62-5ec5-4ee3-9184-978ecaa8a94c');\n",
              "        const dataTable =\n",
              "          await google.colab.kernel.invokeFunction('convertToInteractive',\n",
              "                                                    [key], {});\n",
              "        if (!dataTable) return;\n",
              "\n",
              "        const docLinkHtml = 'Like what you see? Visit the ' +\n",
              "          '<a target=\"_blank\" href=https://colab.research.google.com/notebooks/data_table.ipynb>data table notebook</a>'\n",
              "          + ' to learn more about interactive tables.';\n",
              "        element.innerHTML = '';\n",
              "        dataTable['output_type'] = 'display_data';\n",
              "        await google.colab.output.renderOutput(dataTable, element);\n",
              "        const docLink = document.createElement('div');\n",
              "        docLink.innerHTML = docLinkHtml;\n",
              "        element.appendChild(docLink);\n",
              "      }\n",
              "    </script>\n",
              "  </div>\n",
              "\n",
              "\n",
              "<div id=\"df-6006eced-50f6-42b3-ba08-9647e24a5246\">\n",
              "  <button class=\"colab-df-quickchart\" onclick=\"quickchart('df-6006eced-50f6-42b3-ba08-9647e24a5246')\"\n",
              "            title=\"Suggest charts\"\n",
              "            style=\"display:none;\">\n",
              "\n",
              "<svg xmlns=\"http://www.w3.org/2000/svg\" height=\"24px\"viewBox=\"0 0 24 24\"\n",
              "     width=\"24px\">\n",
              "    <g>\n",
              "        <path d=\"M19 3H5c-1.1 0-2 .9-2 2v14c0 1.1.9 2 2 2h14c1.1 0 2-.9 2-2V5c0-1.1-.9-2-2-2zM9 17H7v-7h2v7zm4 0h-2V7h2v10zm4 0h-2v-4h2v4z\"/>\n",
              "    </g>\n",
              "</svg>\n",
              "  </button>\n",
              "\n",
              "<style>\n",
              "  .colab-df-quickchart {\n",
              "      --bg-color: #E8F0FE;\n",
              "      --fill-color: #1967D2;\n",
              "      --hover-bg-color: #E2EBFA;\n",
              "      --hover-fill-color: #174EA6;\n",
              "      --disabled-fill-color: #AAA;\n",
              "      --disabled-bg-color: #DDD;\n",
              "  }\n",
              "\n",
              "  [theme=dark] .colab-df-quickchart {\n",
              "      --bg-color: #3B4455;\n",
              "      --fill-color: #D2E3FC;\n",
              "      --hover-bg-color: #434B5C;\n",
              "      --hover-fill-color: #FFFFFF;\n",
              "      --disabled-bg-color: #3B4455;\n",
              "      --disabled-fill-color: #666;\n",
              "  }\n",
              "\n",
              "  .colab-df-quickchart {\n",
              "    background-color: var(--bg-color);\n",
              "    border: none;\n",
              "    border-radius: 50%;\n",
              "    cursor: pointer;\n",
              "    display: none;\n",
              "    fill: var(--fill-color);\n",
              "    height: 32px;\n",
              "    padding: 0;\n",
              "    width: 32px;\n",
              "  }\n",
              "\n",
              "  .colab-df-quickchart:hover {\n",
              "    background-color: var(--hover-bg-color);\n",
              "    box-shadow: 0 1px 2px rgba(60, 64, 67, 0.3), 0 1px 3px 1px rgba(60, 64, 67, 0.15);\n",
              "    fill: var(--button-hover-fill-color);\n",
              "  }\n",
              "\n",
              "  .colab-df-quickchart-complete:disabled,\n",
              "  .colab-df-quickchart-complete:disabled:hover {\n",
              "    background-color: var(--disabled-bg-color);\n",
              "    fill: var(--disabled-fill-color);\n",
              "    box-shadow: none;\n",
              "  }\n",
              "\n",
              "  .colab-df-spinner {\n",
              "    border: 2px solid var(--fill-color);\n",
              "    border-color: transparent;\n",
              "    border-bottom-color: var(--fill-color);\n",
              "    animation:\n",
              "      spin 1s steps(1) infinite;\n",
              "  }\n",
              "\n",
              "  @keyframes spin {\n",
              "    0% {\n",
              "      border-color: transparent;\n",
              "      border-bottom-color: var(--fill-color);\n",
              "      border-left-color: var(--fill-color);\n",
              "    }\n",
              "    20% {\n",
              "      border-color: transparent;\n",
              "      border-left-color: var(--fill-color);\n",
              "      border-top-color: var(--fill-color);\n",
              "    }\n",
              "    30% {\n",
              "      border-color: transparent;\n",
              "      border-left-color: var(--fill-color);\n",
              "      border-top-color: var(--fill-color);\n",
              "      border-right-color: var(--fill-color);\n",
              "    }\n",
              "    40% {\n",
              "      border-color: transparent;\n",
              "      border-right-color: var(--fill-color);\n",
              "      border-top-color: var(--fill-color);\n",
              "    }\n",
              "    60% {\n",
              "      border-color: transparent;\n",
              "      border-right-color: var(--fill-color);\n",
              "    }\n",
              "    80% {\n",
              "      border-color: transparent;\n",
              "      border-right-color: var(--fill-color);\n",
              "      border-bottom-color: var(--fill-color);\n",
              "    }\n",
              "    90% {\n",
              "      border-color: transparent;\n",
              "      border-bottom-color: var(--fill-color);\n",
              "    }\n",
              "  }\n",
              "</style>\n",
              "\n",
              "  <script>\n",
              "    async function quickchart(key) {\n",
              "      const quickchartButtonEl =\n",
              "        document.querySelector('#' + key + ' button');\n",
              "      quickchartButtonEl.disabled = true;  // To prevent multiple clicks.\n",
              "      quickchartButtonEl.classList.add('colab-df-spinner');\n",
              "      try {\n",
              "        const charts = await google.colab.kernel.invokeFunction(\n",
              "            'suggestCharts', [key], {});\n",
              "      } catch (error) {\n",
              "        console.error('Error during call to suggestCharts:', error);\n",
              "      }\n",
              "      quickchartButtonEl.classList.remove('colab-df-spinner');\n",
              "      quickchartButtonEl.classList.add('colab-df-quickchart-complete');\n",
              "    }\n",
              "    (() => {\n",
              "      let quickchartButtonEl =\n",
              "        document.querySelector('#df-6006eced-50f6-42b3-ba08-9647e24a5246 button');\n",
              "      quickchartButtonEl.style.display =\n",
              "        google.colab.kernel.accessAllowed ? 'block' : 'none';\n",
              "    })();\n",
              "  </script>\n",
              "</div>\n",
              "\n",
              "    </div>\n",
              "  </div>\n"
            ],
            "application/vnd.google.colaboratory.intrinsic+json": {
              "type": "dataframe",
              "variable_name": "data",
              "summary": "{\n  \"name\": \"data\",\n  \"rows\": 9744,\n  \"fields\": [\n    {\n      \"column\": \"datetime\",\n      \"properties\": {\n        \"dtype\": \"date\",\n        \"min\": \"2011-01-01 00:00:00\",\n        \"max\": \"2012-12-19 23:00:00\",\n        \"num_unique_values\": 9744,\n        \"samples\": [\n          \"2012-03-10 09:00:00\",\n          \"2011-03-08 13:00:00\",\n          \"2012-11-06 16:00:00\"\n        ],\n        \"semantic_type\": \"\",\n        \"description\": \"\"\n      }\n    },\n    {\n      \"column\": \"season\",\n      \"properties\": {\n        \"dtype\": \"category\",\n        \"num_unique_values\": 4,\n        \"samples\": [\n          \"summer\",\n          \"winter\",\n          \"spring\"\n        ],\n        \"semantic_type\": \"\",\n        \"description\": \"\"\n      }\n    },\n    {\n      \"column\": \"holiday\",\n      \"properties\": {\n        \"dtype\": \"category\",\n        \"num_unique_values\": 2,\n        \"samples\": [\n          \"Holiday\",\n          \"Not Holiday\"\n        ],\n        \"semantic_type\": \"\",\n        \"description\": \"\"\n      }\n    },\n    {\n      \"column\": \"workingday\",\n      \"properties\": {\n        \"dtype\": \"category\",\n        \"num_unique_values\": 2,\n        \"samples\": [\n          \"workingday\",\n          \"weekend or holiday\"\n        ],\n        \"semantic_type\": \"\",\n        \"description\": \"\"\n      }\n    },\n    {\n      \"column\": \"weather\",\n      \"properties\": {\n        \"dtype\": \"category\",\n        \"num_unique_values\": 4,\n        \"samples\": [\n          2,\n          4\n        ],\n        \"semantic_type\": \"\",\n        \"description\": \"\"\n      }\n    },\n    {\n      \"column\": \"temp\",\n      \"properties\": {\n        \"dtype\": \"number\",\n        \"std\": 7.680152236397904,\n        \"min\": 0.82,\n        \"max\": 41.0,\n        \"num_unique_values\": 49,\n        \"samples\": [\n          6.56,\n          1.64\n        ],\n        \"semantic_type\": \"\",\n        \"description\": \"\"\n      }\n    },\n    {\n      \"column\": \"atemp\",\n      \"properties\": {\n        \"dtype\": \"number\",\n        \"std\": 8.382676839506884,\n        \"min\": 0.76,\n        \"max\": 45.455,\n        \"num_unique_values\": 60,\n        \"samples\": [\n          14.395,\n          16.665\n        ],\n        \"semantic_type\": \"\",\n        \"description\": \"\"\n      }\n    },\n    {\n      \"column\": \"humidity\",\n      \"properties\": {\n        \"dtype\": \"number\",\n        \"std\": 19,\n        \"min\": 0,\n        \"max\": 100,\n        \"num_unique_values\": 89,\n        \"samples\": [\n          29,\n          61\n        ],\n        \"semantic_type\": \"\",\n        \"description\": \"\"\n      }\n    },\n    {\n      \"column\": \"windspeed\",\n      \"properties\": {\n        \"dtype\": \"number\",\n        \"std\": 8.174210305495548,\n        \"min\": 0.0,\n        \"max\": 56.9969,\n        \"num_unique_values\": 28,\n        \"samples\": [\n          22.0028,\n          43.0006\n        ],\n        \"semantic_type\": \"\",\n        \"description\": \"\"\n      }\n    },\n    {\n      \"column\": \"casual\",\n      \"properties\": {\n        \"dtype\": \"number\",\n        \"std\": 26,\n        \"min\": 0,\n        \"max\": 116,\n        \"num_unique_values\": 117,\n        \"samples\": [\n          59,\n          2\n        ],\n        \"semantic_type\": \"\",\n        \"description\": \"\"\n      }\n    },\n    {\n      \"column\": \"registered\",\n      \"properties\": {\n        \"dtype\": \"number\",\n        \"std\": 113,\n        \"min\": 0,\n        \"max\": 501,\n        \"num_unique_values\": 498,\n        \"samples\": [\n          403,\n          95\n        ],\n        \"semantic_type\": \"\",\n        \"description\": \"\"\n      }\n    },\n    {\n      \"column\": \"count\",\n      \"properties\": {\n        \"dtype\": \"number\",\n        \"std\": 131,\n        \"min\": 1,\n        \"max\": 590,\n        \"num_unique_values\": 567,\n        \"samples\": [\n          503,\n          430\n        ],\n        \"semantic_type\": \"\",\n        \"description\": \"\"\n      }\n    }\n  ]\n}"
            }
          },
          "metadata": {},
          "execution_count": 19
        }
      ]
    },
    {
      "cell_type": "markdown",
      "source": [
        "**5.demand of bicycles on rent is the same for different Seasons**"
      ],
      "metadata": {
        "id": "-c_ztb1XL_7j"
      }
    },
    {
      "cell_type": "markdown",
      "source": [
        "**Bike count vs Seasons**"
      ],
      "metadata": {
        "id": "jz2D4T99MF-z"
      }
    },
    {
      "cell_type": "code",
      "source": [
        "data['season'].value_counts()"
      ],
      "metadata": {
        "colab": {
          "base_uri": "https://localhost:8080/"
        },
        "id": "-ajN4pKRMJ8K",
        "outputId": "706aca7f-5b2c-4e7c-d8c2-eaa92b9b0a98"
      },
      "execution_count": null,
      "outputs": [
        {
          "output_type": "execute_result",
          "data": {
            "text/plain": [
              "season\n",
              "spring    2600\n",
              "winter    2493\n",
              "summer    2346\n",
              "fall      2305\n",
              "Name: count, dtype: int64"
            ]
          },
          "metadata": {},
          "execution_count": 78
        }
      ]
    },
    {
      "cell_type": "code",
      "source": [
        "spring=data[data['season']=='spring']['count']\n",
        "winter=data[data['season']=='winter']['count']\n",
        "summer=data[data['season']=='summer']['count']\n",
        "fall=data[data['season']=='fall']['count']"
      ],
      "metadata": {
        "id": "JD2U4pR8NzQw"
      },
      "execution_count": null,
      "outputs": []
    },
    {
      "cell_type": "code",
      "source": [
        "# Numerical(Total Count of bikes) Vs One independent group (season - 4 Categories).\n",
        "# So if there's a significant difference among the numerical values when we have more than two categories in a single group to compare.\n",
        "\n",
        "# We can use independent TTest multiple times,rather than doing this test we can use a powerful test One way ANOVA test\n",
        "# But if we are doing Anova test,we need to do below prechecks and it need to satisfied the conditions.\n",
        "\n",
        "# 1.Normality Test :\n",
        "# Data should be Normally distributed/Gaussion\n",
        "# Taking a sample size of 100 on bike count calculating the mean.\n",
        "\n",
        "sample100 = [np.mean(data['count'].sample(100)) for i in range(100) ]"
      ],
      "metadata": {
        "id": "a48L-ZJFOCd5"
      },
      "execution_count": null,
      "outputs": []
    },
    {
      "cell_type": "code",
      "source": [
        "#5.C.i. fig = plt.figure(figsize=(10,10))\n",
        "#plt.subplot(2,3,1)\n",
        "plt.xlabel('Bikecount_sample 100')\n",
        "sns.histplot(sample100, kde=True)"
      ],
      "metadata": {
        "colab": {
          "base_uri": "https://localhost:8080/",
          "height": 467
        },
        "id": "FK8g4btjOZ03",
        "outputId": "3a4c227a-563d-4052-da9c-04e43417402e"
      },
      "execution_count": null,
      "outputs": [
        {
          "output_type": "execute_result",
          "data": {
            "text/plain": [
              "<Axes: xlabel='Bikecount_sample 100', ylabel='Count'>"
            ]
          },
          "metadata": {},
          "execution_count": 81
        },
        {
          "output_type": "display_data",
          "data": {
            "text/plain": [
              "<Figure size 640x480 with 1 Axes>"
            ],
            "image/png": "[encoded data removed]"
          },
          "metadata": {}
        }
      ]
    },
    {
      "cell_type": "code",
      "source": [
        "#C.ii.QQ plot\n",
        "qqplot(data['count'], line=\"s\")\n",
        "plt.show()"
      ],
      "metadata": {
        "colab": {
          "base_uri": "https://localhost:8080/",
          "height": 449
        },
        "id": "l-MuVmcRRLHJ",
        "outputId": "a666ef48-6ed6-4aff-80d8-be4dfce7bf2c"
      },
      "execution_count": null,
      "outputs": [
        {
          "output_type": "display_data",
          "data": {
            "text/plain": [
              "<Figure size 640x480 with 1 Axes>"
            ],
            "image/png": "[encoded data removed]"
          },
          "metadata": {}
        }
      ]
    },
    {
      "cell_type": "markdown",
      "source": [
        "\n",
        "The red line in a Q-Q plot is a comparison point, like a ruler. It shows you what the data should look like if it perfectly follows a specific pattern, like a bell curve.\n",
        "\n",
        "The red line represents the reference line.\n",
        "\n",
        "The blue dots represent the actual data points and show you how they match up to the expected pattern.\n",
        "\n",
        "If the red line is straight and the blue dots fall close to it, then your data fits the pattern well and follows a Normal Distribution.\n",
        "\n",
        "If the line is crooked or the dots are scattered, then your data doesn't quite fit and does not follow a Normal Distribution.\n",
        "\n",
        "i.e..Here the data falling into normal distribution slightly only,So further confirming it we can do shapiro test"
      ],
      "metadata": {
        "id": "C55OxdjwROss"
      }
    },
    {
      "cell_type": "code",
      "source": [
        "#i.e..Here the data falling into normal distribution slightly only,So further confirming it we can do shapiro test\n",
        "\n",
        "# H0: Data is Gaussian\n",
        "# Ha: Data is not Gaussian\n",
        "\n",
        "# Shapiro-Wilk’s test\n",
        "test_stat, p_value = shapiro(sample100)\n",
        "print(p_value)"
      ],
      "metadata": {
        "colab": {
          "base_uri": "https://localhost:8080/"
        },
        "id": "sEsGVFxwWNFm",
        "outputId": "de1f2d8d-b01c-4528-e28b-2055f364f0bd"
      },
      "execution_count": null,
      "outputs": [
        {
          "output_type": "stream",
          "name": "stdout",
          "text": [
            "0.6043097376823425\n"
          ]
        }
      ]
    },
    {
      "cell_type": "code",
      "source": [
        "#Finding the Data is gaussion or not with 5% significance level\n",
        "if p_value < 0.05:\n",
        "    print(\"Reject H0\")\n",
        "    print(\"Data is not Gaussian\")\n",
        "else:\n",
        "    print(\"Fail to reject H0\")\n",
        "    print(\"Data is Gaussian\")"
      ],
      "metadata": {
        "colab": {
          "base_uri": "https://localhost:8080/"
        },
        "id": "FCit6YRmWQCS",
        "outputId": "a74ee379-cc34-4144-ee34-96648099149c"
      },
      "execution_count": null,
      "outputs": [
        {
          "output_type": "stream",
          "name": "stdout",
          "text": [
            "Fail to reject H0\n",
            "Data is Gaussian\n"
          ]
        }
      ]
    },
    {
      "cell_type": "markdown",
      "source": [
        "Further checking by Equality variance test by Levene's Test"
      ],
      "metadata": {
        "id": "LAYQIwcLWvOJ"
      }
    },
    {
      "cell_type": "code",
      "source": [
        "#There should be equal variance in different groups/categories in our data when\n",
        "\n",
        "\n",
        "# H0: Variances are equal\n",
        "# Ha: Variances are not equal\n",
        "levene_stat, p_value = levene(clear_day, Mist_day,Light_day,Heavy_day)\n",
        "if p_value < 0.05:\n",
        "    print(\"Variances are not equal\")"
      ],
      "metadata": {
        "colab": {
          "base_uri": "https://localhost:8080/"
        },
        "id": "e4v6iYZLWwNk",
        "outputId": "fafac325-4719-4628-c8b4-dc50218eb46a"
      },
      "execution_count": null,
      "outputs": [
        {
          "output_type": "stream",
          "name": "stdout",
          "text": [
            "Variances are not equal\n"
          ]
        }
      ]
    },
    {
      "cell_type": "code",
      "source": [
        "#Variance should be equal for Anova test,So we can do Kruskal-Wallis test to proceed further.\n",
        "#But In our case we can proceed One way Anova,as the data is Normillay distributed.(we checked it by Shapiro-Wilk’s test)"
      ],
      "metadata": {
        "id": "-KKrTHj2XtdV"
      },
      "execution_count": null,
      "outputs": []
    },
    {
      "cell_type": "code",
      "source": [
        "#5.a.Anova One way\n",
        "#5.b H0: All season have the same mean\n",
        "# Ha: One or more season have different mean\n",
        "f_stats, p_value = f_oneway(spring, winter,summer,fall)\n",
        "print(p_value)"
      ],
      "metadata": {
        "colab": {
          "base_uri": "https://localhost:8080/"
        },
        "id": "0hxRPXBtXzzf",
        "outputId": "c2374a66-d968-430e-ce89-d1884649d6e8"
      },
      "execution_count": null,
      "outputs": [
        {
          "output_type": "stream",
          "name": "stdout",
          "text": [
            "7.996972694386891e-104\n"
          ]
        }
      ]
    },
    {
      "cell_type": "code",
      "source": [
        "#5d.\n",
        "Confidence_level=.95\n",
        "alpha = 1 - Confidence_level\n",
        "alpha=round(alpha,2)"
      ],
      "metadata": {
        "id": "-FTtB7YpX-1i"
      },
      "execution_count": null,
      "outputs": []
    },
    {
      "cell_type": "code",
      "source": [
        "#4e.accept or reject the Null Hypothesis\n",
        "if p_value < alpha:\n",
        "    print(\"Reject H0\")\n",
        "    print(\"Atleast one season group have different mean\")\n",
        "else:\n",
        "    print(\"Fail to reject H0\")\n",
        "    print(\"All season groups have same mean\")"
      ],
      "metadata": {
        "colab": {
          "base_uri": "https://localhost:8080/"
        },
        "id": "WMYW2nA_YNTs",
        "outputId": "22df7568-c9a0-4d1d-a3ab-a8602b4bdcd3"
      },
      "execution_count": null,
      "outputs": [
        {
          "output_type": "stream",
          "name": "stdout",
          "text": [
            "Reject H0\n",
            "Atleast one season group have different mean\n"
          ]
        }
      ]
    },
    {
      "cell_type": "code",
      "source": [
        "#Infer the medians for different weather\n",
        "sns.boxplot(x='season', y='count', data=data,color='blue')"
      ],
      "metadata": {
        "colab": {
          "base_uri": "https://localhost:8080/",
          "height": 466
        },
        "id": "xEgv3aP8YfYf",
        "outputId": "de5f471e-72e4-458c-b9a6-ca3abe109b0b"
      },
      "execution_count": null,
      "outputs": [
        {
          "output_type": "execute_result",
          "data": {
            "text/plain": [
              "<Axes: xlabel='season', ylabel='count'>"
            ]
          },
          "metadata": {},
          "execution_count": 89
        },
        {
          "output_type": "display_data",
          "data": {
            "text/plain": [
              "<Figure size 640x480 with 1 Axes>"
            ],
            "image/png": "[encoded data removed]"
          },
          "metadata": {}
        }
      ]
    },
    {
      "cell_type": "markdown",
      "source": [
        "From the above graph,we can conclude there is significat difference in all medians ,which means the season is affecting the Bike count.There is increase in no of bike ,when the season is Fall, summer and winter\n",
        "\n",
        "Note:And during spring there is huge number of outlier,the demand of bicycles is very drastic high.So we can increase the bike count during the Spring season."
      ],
      "metadata": {
        "id": "eRGVsqeNYoY2"
      }
    },
    {
      "cell_type": "markdown",
      "source": [
        "**6.Weather conditions are significantly different during different Seasons**"
      ],
      "metadata": {
        "id": "V3CSvQfpZlqq"
      }
    },
    {
      "cell_type": "markdown",
      "source": [
        "**Weather vs Seasons**"
      ],
      "metadata": {
        "id": "ygt2UpuqZop9"
      }
    },
    {
      "cell_type": "code",
      "source": [
        "# We need to find is there is any significant relation between Weather and season.\n",
        "# Since both are categorical values ,we have the perfect test to deal with it call Chi Square Test for Independence.\n",
        "\n",
        "# But before Diving into this Chi Square Test for Independence,we need to know the Degree of freedom test to know how much freedom we can determine before doing analysis."
      ],
      "metadata": {
        "id": "hMNuY0zpY2U8"
      },
      "execution_count": null,
      "outputs": []
    },
    {
      "cell_type": "code",
      "source": [
        "#Find the Degree of freedom by Contingency Table\n",
        "pd.crosstab(index=df['weather'],columns=df['season'])"
      ],
      "metadata": {
        "colab": {
          "base_uri": "https://localhost:8080/",
          "height": 206
        },
        "id": "7UGUw4dSlNMX",
        "outputId": "f40c450a-51f9-4ae2-e47a-3d7c12d50b1a"
      },
      "execution_count": null,
      "outputs": [
        {
          "output_type": "execute_result",
          "data": {
            "text/plain": [
              "season   fall  spring  summer  winter\n",
              "weather                              \n",
              "1        1930    1759    1801    1702\n",
              "2         604     715     708     807\n",
              "3         199     211     224     225\n",
              "4           0       1       0       0"
            ],
            "text/html": [
              "\n",
              "  <div id=\"df-cb4ff78d-5530-4760-9504-7eb0e473ec15\" class=\"colab-df-container\">\n",
              "    <div>\n",
              "<style scoped>\n",
              "    .dataframe tbody tr th:only-of-type {\n",
              "        vertical-align: middle;\n",
              "    }\n",
              "\n",
              "    .dataframe tbody tr th {\n",
              "        vertical-align: top;\n",
              "    }\n",
              "\n",
              "    .dataframe thead th {\n",
              "        text-align: right;\n",
              "    }\n",
              "</style>\n",
              "<table border=\"1\" class=\"dataframe\">\n",
              "  <thead>\n",
              "    <tr style=\"text-align: right;\">\n",
              "      <th>season</th>\n",
              "      <th>fall</th>\n",
              "      <th>spring</th>\n",
              "      <th>summer</th>\n",
              "      <th>winter</th>\n",
              "    </tr>\n",
              "    <tr>\n",
              "      <th>weather</th>\n",
              "      <th></th>\n",
              "      <th></th>\n",
              "      <th></th>\n",
              "      <th></th>\n",
              "    </tr>\n",
              "  </thead>\n",
              "  <tbody>\n",
              "    <tr>\n",
              "      <th>1</th>\n",
              "      <td>1930</td>\n",
              "      <td>1759</td>\n",
              "      <td>1801</td>\n",
              "      <td>1702</td>\n",
              "    </tr>\n",
              "    <tr>\n",
              "      <th>2</th>\n",
              "      <td>604</td>\n",
              "      <td>715</td>\n",
              "      <td>708</td>\n",
              "      <td>807</td>\n",
              "    </tr>\n",
              "    <tr>\n",
              "      <th>3</th>\n",
              "      <td>199</td>\n",
              "      <td>211</td>\n",
              "      <td>224</td>\n",
              "      <td>225</td>\n",
              "    </tr>\n",
              "    <tr>\n",
              "      <th>4</th>\n",
              "      <td>0</td>\n",
              "      <td>1</td>\n",
              "      <td>0</td>\n",
              "      <td>0</td>\n",
              "    </tr>\n",
              "  </tbody>\n",
              "</table>\n",
              "</div>\n",
              "    <div class=\"colab-df-buttons\">\n",
              "\n",
              "  <div class=\"colab-df-container\">\n",
              "    <button class=\"colab-df-convert\" onclick=\"convertToInteractive('df-cb4ff78d-5530-4760-9504-7eb0e473ec15')\"\n",
              "            title=\"Convert this dataframe to an interactive table.\"\n",
              "            style=\"display:none;\">\n",
              "\n",
              "  <svg xmlns=\"http://www.w3.org/2000/svg\" height=\"24px\" viewBox=\"0 -960 960 960\">\n",
              "    <path d=\"M120-120v-720h720v720H120Zm60-500h600v-160H180v160Zm220 220h160v-160H400v160Zm0 220h160v-160H400v160ZM180-400h160v-160H180v160Zm440 0h160v-160H620v160ZM180-180h160v-160H180v160Zm440 0h160v-160H620v160Z\"/>\n",
              "  </svg>\n",
              "    </button>\n",
              "\n",
              "  <style>\n",
              "    .colab-df-container {\n",
              "      display:flex;\n",
              "      gap: 12px;\n",
              "    }\n",
              "\n",
              "    .colab-df-convert {\n",
              "      background-color: #E8F0FE;\n",
              "      border: none;\n",
              "      border-radius: 50%;\n",
              "      cursor: pointer;\n",
              "      display: none;\n",
              "      fill: #1967D2;\n",
              "      height: 32px;\n",
              "      padding: 0 0 0 0;\n",
              "      width: 32px;\n",
              "    }\n",
              "\n",
              "    .colab-df-convert:hover {\n",
              "      background-color: #E2EBFA;\n",
              "      box-shadow: 0px 1px 2px rgba(60, 64, 67, 0.3), 0px 1px 3px 1px rgba(60, 64, 67, 0.15);\n",
              "      fill: #174EA6;\n",
              "    }\n",
              "\n",
              "    .colab-df-buttons div {\n",
              "      margin-bottom: 4px;\n",
              "    }\n",
              "\n",
              "    [theme=dark] .colab-df-convert {\n",
              "      background-color: #3B4455;\n",
              "      fill: #D2E3FC;\n",
              "    }\n",
              "\n",
              "    [theme=dark] .colab-df-convert:hover {\n",
              "      background-color: #434B5C;\n",
              "      box-shadow: 0px 1px 3px 1px rgba(0, 0, 0, 0.15);\n",
              "      filter: drop-shadow(0px 1px 2px rgba(0, 0, 0, 0.3));\n",
              "      fill: #FFFFFF;\n",
              "    }\n",
              "  </style>\n",
              "\n",
              "    <script>\n",
              "      const buttonEl =\n",
              "        document.querySelector('#df-cb4ff78d-5530-4760-9504-7eb0e473ec15 button.colab-df-convert');\n",
              "      buttonEl.style.display =\n",
              "        google.colab.kernel.accessAllowed ? 'block' : 'none';\n",
              "\n",
              "      async function convertToInteractive(key) {\n",
              "        const element = document.querySelector('#df-cb4ff78d-5530-4760-9504-7eb0e473ec15');\n",
              "        const dataTable =\n",
              "          await google.colab.kernel.invokeFunction('convertToInteractive',\n",
              "                                                    [key], {});\n",
              "        if (!dataTable) return;\n",
              "\n",
              "        const docLinkHtml = 'Like what you see? Visit the ' +\n",
              "          '<a target=\"_blank\" href=https://colab.research.google.com/notebooks/data_table.ipynb>data table notebook</a>'\n",
              "          + ' to learn more about interactive tables.';\n",
              "        element.innerHTML = '';\n",
              "        dataTable['output_type'] = 'display_data';\n",
              "        await google.colab.output.renderOutput(dataTable, element);\n",
              "        const docLink = document.createElement('div');\n",
              "        docLink.innerHTML = docLinkHtml;\n",
              "        element.appendChild(docLink);\n",
              "      }\n",
              "    </script>\n",
              "  </div>\n",
              "\n",
              "\n",
              "<div id=\"df-5280545b-ece8-4100-b8e2-5776c054eb0f\">\n",
              "  <button class=\"colab-df-quickchart\" onclick=\"quickchart('df-5280545b-ece8-4100-b8e2-5776c054eb0f')\"\n",
              "            title=\"Suggest charts\"\n",
              "            style=\"display:none;\">\n",
              "\n",
              "<svg xmlns=\"http://www.w3.org/2000/svg\" height=\"24px\"viewBox=\"0 0 24 24\"\n",
              "     width=\"24px\">\n",
              "    <g>\n",
              "        <path d=\"M19 3H5c-1.1 0-2 .9-2 2v14c0 1.1.9 2 2 2h14c1.1 0 2-.9 2-2V5c0-1.1-.9-2-2-2zM9 17H7v-7h2v7zm4 0h-2V7h2v10zm4 0h-2v-4h2v4z\"/>\n",
              "    </g>\n",
              "</svg>\n",
              "  </button>\n",
              "\n",
              "<style>\n",
              "  .colab-df-quickchart {\n",
              "      --bg-color: #E8F0FE;\n",
              "      --fill-color: #1967D2;\n",
              "      --hover-bg-color: #E2EBFA;\n",
              "      --hover-fill-color: #174EA6;\n",
              "      --disabled-fill-color: #AAA;\n",
              "      --disabled-bg-color: #DDD;\n",
              "  }\n",
              "\n",
              "  [theme=dark] .colab-df-quickchart {\n",
              "      --bg-color: #3B4455;\n",
              "      --fill-color: #D2E3FC;\n",
              "      --hover-bg-color: #434B5C;\n",
              "      --hover-fill-color: #FFFFFF;\n",
              "      --disabled-bg-color: #3B4455;\n",
              "      --disabled-fill-color: #666;\n",
              "  }\n",
              "\n",
              "  .colab-df-quickchart {\n",
              "    background-color: var(--bg-color);\n",
              "    border: none;\n",
              "    border-radius: 50%;\n",
              "    cursor: pointer;\n",
              "    display: none;\n",
              "    fill: var(--fill-color);\n",
              "    height: 32px;\n",
              "    padding: 0;\n",
              "    width: 32px;\n",
              "  }\n",
              "\n",
              "  .colab-df-quickchart:hover {\n",
              "    background-color: var(--hover-bg-color);\n",
              "    box-shadow: 0 1px 2px rgba(60, 64, 67, 0.3), 0 1px 3px 1px rgba(60, 64, 67, 0.15);\n",
              "    fill: var(--button-hover-fill-color);\n",
              "  }\n",
              "\n",
              "  .colab-df-quickchart-complete:disabled,\n",
              "  .colab-df-quickchart-complete:disabled:hover {\n",
              "    background-color: var(--disabled-bg-color);\n",
              "    fill: var(--disabled-fill-color);\n",
              "    box-shadow: none;\n",
              "  }\n",
              "\n",
              "  .colab-df-spinner {\n",
              "    border: 2px solid var(--fill-color);\n",
              "    border-color: transparent;\n",
              "    border-bottom-color: var(--fill-color);\n",
              "    animation:\n",
              "      spin 1s steps(1) infinite;\n",
              "  }\n",
              "\n",
              "  @keyframes spin {\n",
              "    0% {\n",
              "      border-color: transparent;\n",
              "      border-bottom-color: var(--fill-color);\n",
              "      border-left-color: var(--fill-color);\n",
              "    }\n",
              "    20% {\n",
              "      border-color: transparent;\n",
              "      border-left-color: var(--fill-color);\n",
              "      border-top-color: var(--fill-color);\n",
              "    }\n",
              "    30% {\n",
              "      border-color: transparent;\n",
              "      border-left-color: var(--fill-color);\n",
              "      border-top-color: var(--fill-color);\n",
              "      border-right-color: var(--fill-color);\n",
              "    }\n",
              "    40% {\n",
              "      border-color: transparent;\n",
              "      border-right-color: var(--fill-color);\n",
              "      border-top-color: var(--fill-color);\n",
              "    }\n",
              "    60% {\n",
              "      border-color: transparent;\n",
              "      border-right-color: var(--fill-color);\n",
              "    }\n",
              "    80% {\n",
              "      border-color: transparent;\n",
              "      border-right-color: var(--fill-color);\n",
              "      border-bottom-color: var(--fill-color);\n",
              "    }\n",
              "    90% {\n",
              "      border-color: transparent;\n",
              "      border-bottom-color: var(--fill-color);\n",
              "    }\n",
              "  }\n",
              "</style>\n",
              "\n",
              "  <script>\n",
              "    async function quickchart(key) {\n",
              "      const quickchartButtonEl =\n",
              "        document.querySelector('#' + key + ' button');\n",
              "      quickchartButtonEl.disabled = true;  // To prevent multiple clicks.\n",
              "      quickchartButtonEl.classList.add('colab-df-spinner');\n",
              "      try {\n",
              "        const charts = await google.colab.kernel.invokeFunction(\n",
              "            'suggestCharts', [key], {});\n",
              "      } catch (error) {\n",
              "        console.error('Error during call to suggestCharts:', error);\n",
              "      }\n",
              "      quickchartButtonEl.classList.remove('colab-df-spinner');\n",
              "      quickchartButtonEl.classList.add('colab-df-quickchart-complete');\n",
              "    }\n",
              "    (() => {\n",
              "      let quickchartButtonEl =\n",
              "        document.querySelector('#df-5280545b-ece8-4100-b8e2-5776c054eb0f button');\n",
              "      quickchartButtonEl.style.display =\n",
              "        google.colab.kernel.accessAllowed ? 'block' : 'none';\n",
              "    })();\n",
              "  </script>\n",
              "</div>\n",
              "\n",
              "    </div>\n",
              "  </div>\n"
            ],
            "application/vnd.google.colaboratory.intrinsic+json": {
              "type": "dataframe",
              "summary": "{\n  \"name\": \"pd\",\n  \"rows\": 4,\n  \"fields\": [\n    {\n      \"column\": \"weather\",\n      \"properties\": {\n        \"dtype\": \"category\",\n        \"num_unique_values\": 4,\n        \"samples\": [\n          2,\n          4,\n          1\n        ],\n        \"semantic_type\": \"\",\n        \"description\": \"\"\n      }\n    },\n    {\n      \"column\": \"fall\",\n      \"properties\": {\n        \"dtype\": \"number\",\n        \"std\": 868,\n        \"min\": 0,\n        \"max\": 1930,\n        \"num_unique_values\": 4,\n        \"samples\": [\n          604,\n          0,\n          1930\n        ],\n        \"semantic_type\": \"\",\n        \"description\": \"\"\n      }\n    },\n    {\n      \"column\": \"spring\",\n      \"properties\": {\n        \"dtype\": \"number\",\n        \"std\": 784,\n        \"min\": 1,\n        \"max\": 1759,\n        \"num_unique_values\": 4,\n        \"samples\": [\n          715,\n          1,\n          1759\n        ],\n        \"semantic_type\": \"\",\n        \"description\": \"\"\n      }\n    },\n    {\n      \"column\": \"summer\",\n      \"properties\": {\n        \"dtype\": \"number\",\n        \"std\": 801,\n        \"min\": 0,\n        \"max\": 1801,\n        \"num_unique_values\": 4,\n        \"samples\": [\n          708,\n          0,\n          1801\n        ],\n        \"semantic_type\": \"\",\n        \"description\": \"\"\n      }\n    },\n    {\n      \"column\": \"winter\",\n      \"properties\": {\n        \"dtype\": \"number\",\n        \"std\": 759,\n        \"min\": 0,\n        \"max\": 1702,\n        \"num_unique_values\": 4,\n        \"samples\": [\n          807,\n          0,\n          1702\n        ],\n        \"semantic_type\": \"\",\n        \"description\": \"\"\n      }\n    }\n  ]\n}"
            }
          },
          "metadata": {},
          "execution_count": 93
        }
      ]
    },
    {
      "cell_type": "code",
      "source": [
        "#H0: season and weather  are not associated\n",
        "#Ha: season and weather  are associated"
      ],
      "metadata": {
        "id": "Sd9qEiMcr-3p"
      },
      "execution_count": null,
      "outputs": []
    },
    {
      "cell_type": "code",
      "source": [
        "Weather_Seasons = [\n",
        "    [1930,1759,1801,1702],\n",
        "    [604,715,708,807],\n",
        "    [199,211,224,225],\n",
        "    [0,0,1,0]]\n",
        "#find the chi square contigency\n",
        "chi_stat, p_value, df, exp_freq = chi2_contingency(Weather_Seasons) # chi_stat, p_value, df, expected values\n",
        "print(\"chi_stat:\",chi_stat)\n",
        "print(\"p_value:\",p_value)\n",
        "print(\"df:\",df)\n",
        "print(\"exp_freq:\",exp_freq)"
      ],
      "metadata": {
        "colab": {
          "base_uri": "https://localhost:8080/"
        },
        "id": "67TweM_fmjPm",
        "outputId": "4274ac53-b03c-48f3-84fc-44286effcf21"
      },
      "execution_count": null,
      "outputs": [
        {
          "output_type": "stream",
          "name": "stdout",
          "text": [
            "chi_stat: 49.08754974632252\n",
            "p_value: 1.5982528530208675e-07\n",
            "df: 9\n",
            "exp_freq: [[1.80559765e+03 1.77388572e+03 1.80625831e+03 1.80625831e+03]\n",
            " [7.11493845e+02 6.98997795e+02 7.11754180e+02 7.11754180e+02]\n",
            " [2.15657450e+02 2.11869833e+02 2.15736359e+02 2.15736359e+02]\n",
            " [2.51056403e-01 2.46647070e-01 2.51148264e-01 2.51148264e-01]]\n"
          ]
        }
      ]
    },
    {
      "cell_type": "code",
      "source": [
        "#6d.\n",
        "Confidence_level=.95\n",
        "alpha = 1 - Confidence_level\n",
        "alpha=round(alpha,2)"
      ],
      "metadata": {
        "id": "UWampETmrm0O"
      },
      "execution_count": null,
      "outputs": []
    },
    {
      "cell_type": "code",
      "source": [
        "#6e.accept or reject the Null Hypothesis\n",
        "if p_value < alpha:\n",
        "    print(\"Reject H0\")\n",
        "    print(\"season and weather  are associated\")\n",
        "else:\n",
        "    print(\"Fail to reject H0\")\n",
        "    print(\"season and weather  are not associated\")"
      ],
      "metadata": {
        "colab": {
          "base_uri": "https://localhost:8080/"
        },
        "id": "FAJJ8GHQrWys",
        "outputId": "fa678b48-ae3d-41a2-a154-4459be87bf5b"
      },
      "execution_count": null,
      "outputs": [
        {
          "output_type": "stream",
          "name": "stdout",
          "text": [
            "Reject H0\n",
            "season and weather  are associated\n"
          ]
        }
      ]
    },
    {
      "cell_type": "code",
      "source": [
        "#6f To check bike count on different seasons and weathers\n",
        "#fig = plt.figure(figsize=(10,10))\n",
        "sns.barplot(data=data, x='season',y='count',hue='weather')"
      ],
      "metadata": {
        "colab": {
          "base_uri": "https://localhost:8080/",
          "height": 466
        },
        "id": "7yhZUN_XtO9y",
        "outputId": "27be7d14-57ad-46c7-ee06-ca5fb1308351"
      },
      "execution_count": null,
      "outputs": [
        {
          "output_type": "execute_result",
          "data": {
            "text/plain": [
              "<Axes: xlabel='season', ylabel='count'>"
            ]
          },
          "metadata": {},
          "execution_count": 105
        },
        {
          "output_type": "display_data",
          "data": {
            "text/plain": [
              "<Figure size 640x480 with 1 Axes>"
            ],
            "image/png": "[encoded data removed]"
          },
          "metadata": {}
        }
      ]
    },
    {
      "cell_type": "markdown",
      "source": [
        "From the above test,we can conclude both the weather and season are associated.And when the weather is heavy,there is 95% confidence the bike count will be less."
      ],
      "metadata": {
        "id": "Xu8dWBHWw9An"
      }
    },
    {
      "cell_type": "markdown",
      "source": [
        "**Insights:**\n",
        "\n",
        "1.Fromt the data,99% of the bike are registered on non holiday days.\n",
        "\n",
        "2.The registration of bike are 50 percent more in working day than the weekend or holiday.\n",
        "\n",
        "3.There is no bike has been registered during the haeavy rain(Heavy Rain + Ice Pallets + Thunderstorm + Mist, Snow + Fog),which means weateher is crucial factor determining the bike demand\n",
        "\n",
        "4.As the temperature and feeling temp increase the casual & registered bike count also increasing,means they are Positivly corelated.\n",
        "\n",
        "5.Humididty and total counts of bike are negativley correlated,so lesser the humididty more number of bikes counted and also registred.\n",
        "\n",
        "6.Temperature and atemperature have no corrrelation on count of total bikes\n",
        "\n"
      ],
      "metadata": {
        "id": "yzKHQSvQWvBI"
      }
    },
    {
      "cell_type": "markdown",
      "source": [
        "**Recommedentations:**\n",
        "\n",
        "1.From the above Hypothesis calculation and inference plot ,we can say that the average count of working day is higher than the weekend days.\n",
        "So it is best to increase the no of bikes keeping in the location on weekdays than the working days\n",
        "\n",
        "2.we can conclude there is significat difference in all medians ,which means the weather is affecting the Bike count.\n",
        "There is increase in number of bikes ,when the weather is Clear, Few clouds, partly cloudy, partly cloudy and Mist + Cloudy,\n",
        "Mist + Broken clouds, Mist + Few clouds, Mist.\n",
        "\n",
        "3.And during heavy rain day,that is Heavy Rain + Ice Pallets + Thunderstorm + Mist, Snow + Fog,the demand of bicycles is very low.Which is the prime factor for the drastic reduction in the bike count.\n",
        "\n",
        "4.we can conclude there is significat difference in all medians ,which means the season is affecting the Bike count.There is increase in no of bike ,when the season is Fall, summer and winter\n",
        "\n",
        "5.And during spring there is huge number of outlier,the demand of bicycles is very drastic high.So we can increase the bike count during the Spring season.\n",
        "\n",
        "6.we can conclude both the weather and season are associated.And when the weather is heavy,there is 95% confidence the bike count will be less.\n",
        "\n",
        "7.So,Yulu can consider the weather and season as the prime factor to lunch the vehicle and they can consider few more internal factors on temperature,working days."
      ],
      "metadata": {
        "id": "PI0ml5OTXGIS"
      }
    },
    {
      "cell_type": "code",
      "source": [],
      "metadata": {
        "id": "cR-70NosYbg7"
      },
      "execution_count": null,
      "outputs": []
    }
  ]
}